{
  "cells": [
    {
      "cell_type": "markdown",
      "metadata": {
        "id": "X9fHBqFr2AoZ"
      },
      "source": [
        "# Lab 4 - BCC406/PCC177\n",
        "\n",
        "## REDES NEURAIS E APRENDIZAGEM EM PROFUNDIDADE\n",
        "\n",
        "## Uso de Framework (TensorFlow) e K-Fold\n",
        "\n",
        "### Prof. Eduardo e Prof. Pedro\n",
        "\n",
        "Objetivos:\n",
        "\n",
        "- Classificação utilizando TensorFlow.\n",
        "- Regressão Logística.\n",
        "- Cálculos de métircas\n",
        "\n",
        "Data da entrega : 04/02\n",
        "\n",
        "- Complete o código (marcado com 'ToDo') e quando requisitado, escreva textos diretamente nos notebooks. Onde tiver *None*, substitua pelo seu código.\n",
        "- Execute todo notebook e salve tudo em um PDF **nomeado** como \"NomeSobrenome-LabX.pdf\"\n",
        "- Envie o PDF via google [FORM](https://forms.gle/mNuPE4qRtDLFUg6e8)\n",
        "- Envie o *.ipynb* também.\n",
        "\n"
      ]
    },
    {
      "cell_type": "markdown",
      "metadata": {
        "id": "j3vd_0mcyGum"
      },
      "source": [
        "# Preparação do ambiente e Tratamento dos dados"
      ]
    },
    {
      "cell_type": "markdown",
      "metadata": {
        "id": "L6vr7Hwp1PbL"
      },
      "source": [
        "## Preparação do ambiente"
      ]
    },
    {
      "cell_type": "markdown",
      "metadata": {
        "id": "VbsDgBl_fF7k"
      },
      "source": [
        "### Importação das bibliotecas"
      ]
    },
    {
      "cell_type": "markdown",
      "metadata": {
        "id": "_6iroE0Y1DGJ"
      },
      "source": [
        "Primeiro precisamos importar os pacotes. Vamos executar a célula abaixo para importar todos os pacotes que precisaremos.\n",
        "- [*TensorFlow*](https://www.tensorflow.org/?hl=pt-br) é o pacote fundamental de operações de *Deep Learning*.\n",
        "- [*numpy*](www.numpy.org) é o pacote fundamental para a computação científica com Python.\n",
        "- [*h5py*](http://www.h5py.org) é um pacote comum para interagir com um conjunto de dados armazenado em um arquivo H5.\n",
        "- [*matplotlib*](http://matplotlib.org) é uma biblioteca famosa para plotar gráficos em Python.\n",
        "- [*PIL*](http://www.pythonware.com/products/pil/) e [*scipy*](https://www.scipy.org/) são usados aqui para carregar as imagens e testar seu modelo final.\n",
        "- [*Scikit Learn*](https://scikit-learn.org/) é um pacote muito utilizado para treinamento de modelos e outros algoritmos de *machine learning*."
      ]
    },
    {
      "cell_type": "code",
      "execution_count": null,
      "metadata": {
        "id": "QbeQQoMD1TG0"
      },
      "outputs": [],
      "source": [
        "import numpy as np\n",
        "import matplotlib.pyplot as plt\n",
        "import h5py\n",
        "import scipy\n",
        "\n",
        "from sklearn.metrics import accuracy_score\n",
        "import tensorflow as tf\n",
        "\n",
        "from tensorflow import keras"
      ]
    },
    {
      "cell_type": "markdown",
      "metadata": {
        "id": "8pd0fVr1fJlL"
      },
      "source": [
        "### Configurando os *plots* de gráficos"
      ]
    },
    {
      "cell_type": "markdown",
      "metadata": {
        "id": "VvKAtknp1Ub8"
      },
      "source": [
        "O próximo passo é configurar o *matplotlib* e a geração de valores aleatórios."
      ]
    },
    {
      "cell_type": "code",
      "execution_count": null,
      "metadata": {
        "colab": {
          "base_uri": "https://localhost:8080/"
        },
        "id": "fpZHicTc1b-1",
        "outputId": "9febb0e4-1245-473e-96cc-f321378e3008"
      },
      "outputs": [
        {
          "output_type": "stream",
          "name": "stdout",
          "text": [
            "The autoreload extension is already loaded. To reload it, use:\n",
            "  %reload_ext autoreload\n"
          ]
        }
      ],
      "source": [
        "%matplotlib inline\n",
        "plt.rcParams['figure.figsize'] = (5.0, 4.0) # set default size of plots\n",
        "plt.rcParams['image.interpolation'] = 'nearest'\n",
        "plt.rcParams['image.cmap'] = 'gray'\n",
        "\n",
        "%load_ext autoreload\n",
        "%autoreload 2\n",
        "\n",
        "np.random.seed(1)"
      ]
    },
    {
      "cell_type": "markdown",
      "metadata": {
        "id": "pXva804S1jpb"
      },
      "source": [
        "### Configurando o Google Colab."
      ]
    },
    {
      "cell_type": "markdown",
      "metadata": {
        "id": "07Kp8ZZdfOzH"
      },
      "source": [
        "Configurando o Google Colab para acessar os nossos dados."
      ]
    },
    {
      "cell_type": "code",
      "execution_count": null,
      "metadata": {
        "colab": {
          "base_uri": "https://localhost:8080/"
        },
        "id": "UAhlqCO71oSi",
        "outputId": "b00844a3-fd74-4570-b6a2-5d4f0da0b010"
      },
      "outputs": [
        {
          "output_type": "stream",
          "name": "stdout",
          "text": [
            "Drive already mounted at /content/drive; to attempt to forcibly remount, call drive.mount(\"/content/drive\", force_remount=True).\n"
          ]
        }
      ],
      "source": [
        "# Você vai precisar fazer o upload dos arquivos no seu drive (faer na pasta raiz) e montá-lo\n",
        "# não se esqueça de ajustar o path para o seu drive\n",
        "from google.colab import drive\n",
        "drive.mount('/content/drive')"
      ]
    },
    {
      "cell_type": "markdown",
      "metadata": {
        "id": "KiFn-mt52lH2"
      },
      "source": [
        "## Carregando e préprocessamento dos dados"
      ]
    },
    {
      "cell_type": "code",
      "execution_count": null,
      "metadata": {
        "id": "UHLusbpm2SWW"
      },
      "outputs": [],
      "source": [
        "# Função para ler os dados (gato/não-gato)\n",
        "def load_dataset():\n",
        "    def _load_data():\n",
        "      train_dataset = h5py.File('/content/drive/MyDrive/treino_teste/train_catvnoncat.h5', \"r\")\n",
        "      train_set_x_orig = np.array(train_dataset[\"train_set_x\"][:]) # your train set features\n",
        "      train_set_y_orig = np.array(train_dataset[\"train_set_y\"][:]) # your train set labels\n",
        "\n",
        "      test_dataset = h5py.File('/content/drive/MyDrive/treino_teste/test_catvnoncat.h5', \"r\")\n",
        "      test_set_x_orig = np.array(test_dataset[\"test_set_x\"][:]) # your test set features\n",
        "      test_set_y_orig = np.array(test_dataset[\"test_set_y\"][:]) # your test set labels\n",
        "\n",
        "      classes = np.array(test_dataset[\"list_classes\"][:]) # the list of classes\n",
        "      train_set_y_orig = train_set_y_orig.reshape((1, train_set_y_orig.shape[0]))\n",
        "      test_set_y_orig = test_set_y_orig.reshape((1, test_set_y_orig.shape[0]))\n",
        "\n",
        "      return train_set_x_orig, train_set_y_orig, test_set_x_orig, test_set_y_orig, classes\n",
        "\n",
        "    def _preprocess_dataset(_treino_x_orig, _teste_x_orig):\n",
        "      # Formate o conjunto de treinamento e teste dados de treinamento e teste para que as imagens\n",
        "      # de tamanho (num_px, num_px, 3) sejam vetores de forma (num_px * num_px * 3, 1)\n",
        "      print(_treino_x_orig.shape)\n",
        "      print(_teste_x_orig.shape)\n",
        "      #_treino_x_orig = _treino_x_orig.reshape(_treino_x_orig.shape[0], 64 * 64 * 3)\n",
        "      #_teste_x_orig = _teste_x_orig.reshape(_teste_x_orig.shape[0], 64 * 64 * 3)\n",
        "      _treino_x_vet = _treino_x_orig.reshape(_treino_x_orig.shape[0], -1) # ToDo: vetorizar os dados de treinamento aqui\n",
        "      _teste_x_vet = _teste_x_orig.reshape(_teste_x_orig.shape[0], -1) # ToDo: vetorizar os dados de teste aqui\n",
        "\n",
        "      # Normalize os dados (colocar no intervalo [0.0, 1.0])\n",
        "      _treino_x = _treino_x_vet/255. # ToDo: normalize os dados de treinamento aqui\n",
        "      _teste_x = _teste_x_vet/255. # ToDo: normalize os dados de teste aqui\n",
        "      return _treino_x, _teste_x\n",
        "\n",
        "    treino_x_orig, treino_y, teste_x_orig, teste_y, classes = _load_data()\n",
        "    treino_x, teste_x = _preprocess_dataset(treino_x_orig, teste_x_orig)\n",
        "    return treino_x, treino_y, teste_x, teste_y, classes"
      ]
    },
    {
      "cell_type": "code",
      "execution_count": null,
      "metadata": {
        "colab": {
          "base_uri": "https://localhost:8080/"
        },
        "id": "gt7vMShVxOkv",
        "outputId": "12151ead-0370-4e73-be5b-33e15dc3949a"
      },
      "outputs": [
        {
          "output_type": "stream",
          "name": "stdout",
          "text": [
            "Drive already mounted at /content/drive; to attempt to forcibly remount, call drive.mount(\"/content/drive\", force_remount=True).\n"
          ]
        }
      ],
      "source": [
        "from google.colab import drive\n",
        "drive.mount('/content/drive')"
      ]
    },
    {
      "cell_type": "markdown",
      "metadata": {
        "id": "DXW-wYfXVem2"
      },
      "source": [
        "Carregando os dados"
      ]
    },
    {
      "cell_type": "code",
      "execution_count": null,
      "metadata": {
        "colab": {
          "base_uri": "https://localhost:8080/"
        },
        "id": "VnbAw0ZrVgeZ",
        "outputId": "23ebde77-f43f-4e04-9ed2-46c1c04c4632"
      },
      "outputs": [
        {
          "output_type": "stream",
          "name": "stdout",
          "text": [
            "(209, 64, 64, 3)\n",
            "(50, 64, 64, 3)\n"
          ]
        }
      ],
      "source": [
        "# Lendo os dados (gato/não-gato)\n",
        "treino_x, treino_y, teste_x, teste_y, classes = load_dataset()\n"
      ]
    },
    {
      "cell_type": "markdown",
      "metadata": {
        "id": "56uNQgmTfLrY"
      },
      "source": [
        "# Treinamento do modelo (100pt)"
      ]
    },
    {
      "cell_type": "markdown",
      "metadata": {
        "id": "ZO8uyRaBfLro"
      },
      "source": [
        "Há diversos frameworks para criação de modelos de *deep learning*, como [TensorFlow](https://www.tensorflow.org/) e [PyTorch](https://pytorch.org/). Nesta prática, usaremos o TensorFlow.\n"
      ]
    },
    {
      "cell_type": "markdown",
      "metadata": {
        "id": "-0nJTizBGE25"
      },
      "source": [
        "### Função para treinar um modelo"
      ]
    },
    {
      "cell_type": "markdown",
      "metadata": {
        "id": "LQ-5UydHGVQk"
      },
      "source": [
        "A primeira parte envolve a criação de uma função que será usada para treinar os próximos modelos. Essa função será usada em todos os modelos testados."
      ]
    },
    {
      "cell_type": "code",
      "execution_count": null,
      "metadata": {
        "id": "xqP_cm7ZEYpN"
      },
      "outputs": [],
      "source": [
        "def treinar_modelo(modelo, treino_x, treino_y, epochs=100):\n",
        "    # Setando a seed\n",
        "    np.random.seed(1)\n",
        "\n",
        "    # Compilando o modelo\n",
        "    modelo.compile(optimizer='adam',\n",
        "                  loss='binary_crossentropy',\n",
        "                  metrics=['accuracy']\n",
        "                   )\n",
        "\n",
        "    # Imprimindo a arquitetura da rede proposta\n",
        "    modelo.summary()\n",
        "\n",
        "    # Treinando o modelo\n",
        "    modelo.fit(treino_x, treino_y.reshape(-1), epochs=epochs)\n",
        "    return modelo"
      ]
    },
    {
      "cell_type": "markdown",
      "metadata": {
        "id": "KnuPmEq3EkX3"
      },
      "source": [
        "## Modelo 1: Testando um modelo com uma camada oculta com 8 neurônios (10pt)"
      ]
    },
    {
      "cell_type": "markdown",
      "metadata": {
        "id": "iOA9hEALEmJg"
      },
      "source": [
        "Definição de um modelo com uma camada oculta (8 neurônios) e uma camada de saída com um neurônio (gato e não gato). Usaremos a ativação ReLU (*Retified Linear Unity*) na camada oculta e a *sigmoid* na camada de saída. Para classificação de classes 0 ou 1, pode-se ter um único neurônio de saída e deve-se usar a operação sigmoid antes de se calcular o custo (mean-squared error ou binary cross entropy)."
      ]
    },
    {
      "cell_type": "markdown",
      "metadata": {
        "id": "3p4myz5bEViP"
      },
      "source": [
        "![image.png](data:image/png;base64,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)\n",
        "<caption><center> <u>Figura 1</u>: Rede neural com 2 camadas. <br> Resumo do modelo: ***ENTRADA -> LINEAR -> RELU -> LINEAR -> SIGMOID -> SAIDA***. </center></caption>\n",
        "\n",
        "<!--\n",
        "<u>Detailed Architecture of figure 2</u>:\n",
        "- The input is a (64,64,3) image which is flattened to a vector of size $(12288,1)$.\n",
        "- The corresponding vector: $[x_0,x_1,...,x_{12287}]^T$ is then multiplied by the weight matrix $W^{[1]}$ of size $(n^{[1]}, 12288)$.\n",
        "- You then add a bias term and take its relu to get the following vector: $[a_0^{[1]}, a_1^{[1]},..., a_{n^{[1]}-1}^{[1]}]^T$.\n",
        "- You then repeat the same process.\n",
        "- You multiply the resulting vector by $W^{[2]}$ and add your intercept (bias).\n",
        "- Finally, you take the sigmoid of the result. If it is greater than 0.5, you classify it to be a cat.\n",
        "!-->"
      ]
    },
    {
      "cell_type": "markdown",
      "metadata": {
        "id": "WLpLVnVCjjBP"
      },
      "source": [
        "### Definição do modelo (5pt)"
      ]
    },
    {
      "cell_type": "markdown",
      "metadata": {
        "id": "s6VFLXbWG3XJ"
      },
      "source": [
        "A primeira etapa é a definição da arquitetura do modelo. Para este primeiro modelo será usado um modelo com somente oito neurônios."
      ]
    },
    {
      "cell_type": "code",
      "execution_count": null,
      "metadata": {
        "id": "R1v7Y5eMFjMz"
      },
      "outputs": [],
      "source": [
        "# Definição do modelo\n",
        "def modelo_1():\n",
        "  _model = tf.keras.models.Sequential() # Crie um modelo sequencial com keras.Sequential\n",
        "  _model.add(tf.keras.layers.Dense(8,activation = 'relu')) # ToDo: Adicione uma camada densa com 8 neurônios e ativação relu\n",
        "  _model.add(tf.keras.layers.Dense(1,activation = 'sigmoid')) # ToDo: Adicione uma camada densa com 1 neurônio e ativação sigmoid **dica** use a classe keras.layers.Dense\n",
        "  return _model"
      ]
    },
    {
      "cell_type": "markdown",
      "metadata": {
        "id": "alH5INN3kIM7"
      },
      "source": [
        "### Instanciando o modelo e testando (5pt)"
      ]
    },
    {
      "cell_type": "markdown",
      "metadata": {
        "id": "kDD6NfugFeLW"
      },
      "source": [
        "Treine o modelo e depois **use os parâmetros treinados** para classificar as imagens de treinamento e teste e verificar a acurácia."
      ]
    },
    {
      "cell_type": "code",
      "execution_count": null,
      "metadata": {
        "colab": {
          "base_uri": "https://localhost:8080/",
          "height": 1000
        },
        "id": "U1cNTFT7Fhsm",
        "outputId": "415aa27a-505f-4a39-efdc-2ade3e692883"
      },
      "outputs": [
        {
          "output_type": "display_data",
          "data": {
            "text/plain": [
              "\u001b[1mModel: \"sequential\"\u001b[0m\n"
            ],
            "text/html": [
              "<pre style=\"white-space:pre;overflow-x:auto;line-height:normal;font-family:Menlo,'DejaVu Sans Mono',consolas,'Courier New',monospace\"><span style=\"font-weight: bold\">Model: \"sequential\"</span>\n",
              "</pre>\n"
            ]
          },
          "metadata": {}
        },
        {
          "output_type": "display_data",
          "data": {
            "text/plain": [
              "┏━━━━━━━━━━━━━━━━━━━━━━━━━━━━━━━━━━━━━━┳━━━━━━━━━━━━━━━━━━━━━━━━━━━━━┳━━━━━━━━━━━━━━━━━┓\n",
              "┃\u001b[1m \u001b[0m\u001b[1mLayer (type)                        \u001b[0m\u001b[1m \u001b[0m┃\u001b[1m \u001b[0m\u001b[1mOutput Shape               \u001b[0m\u001b[1m \u001b[0m┃\u001b[1m \u001b[0m\u001b[1m        Param #\u001b[0m\u001b[1m \u001b[0m┃\n",
              "┡━━━━━━━━━━━━━━━━━━━━━━━━━━━━━━━━━━━━━━╇━━━━━━━━━━━━━━━━━━━━━━━━━━━━━╇━━━━━━━━━━━━━━━━━┩\n",
              "│ dense (\u001b[38;5;33mDense\u001b[0m)                        │ ?                           │     \u001b[38;5;34m0\u001b[0m (unbuilt) │\n",
              "├──────────────────────────────────────┼─────────────────────────────┼─────────────────┤\n",
              "│ dense_1 (\u001b[38;5;33mDense\u001b[0m)                      │ ?                           │     \u001b[38;5;34m0\u001b[0m (unbuilt) │\n",
              "└──────────────────────────────────────┴─────────────────────────────┴─────────────────┘\n"
            ],
            "text/html": [
              "<pre style=\"white-space:pre;overflow-x:auto;line-height:normal;font-family:Menlo,'DejaVu Sans Mono',consolas,'Courier New',monospace\">┏━━━━━━━━━━━━━━━━━━━━━━━━━━━━━━━━━━━━━━┳━━━━━━━━━━━━━━━━━━━━━━━━━━━━━┳━━━━━━━━━━━━━━━━━┓\n",
              "┃<span style=\"font-weight: bold\"> Layer (type)                         </span>┃<span style=\"font-weight: bold\"> Output Shape                </span>┃<span style=\"font-weight: bold\">         Param # </span>┃\n",
              "┡━━━━━━━━━━━━━━━━━━━━━━━━━━━━━━━━━━━━━━╇━━━━━━━━━━━━━━━━━━━━━━━━━━━━━╇━━━━━━━━━━━━━━━━━┩\n",
              "│ dense (<span style=\"color: #0087ff; text-decoration-color: #0087ff\">Dense</span>)                        │ ?                           │     <span style=\"color: #00af00; text-decoration-color: #00af00\">0</span> (unbuilt) │\n",
              "├──────────────────────────────────────┼─────────────────────────────┼─────────────────┤\n",
              "│ dense_1 (<span style=\"color: #0087ff; text-decoration-color: #0087ff\">Dense</span>)                      │ ?                           │     <span style=\"color: #00af00; text-decoration-color: #00af00\">0</span> (unbuilt) │\n",
              "└──────────────────────────────────────┴─────────────────────────────┴─────────────────┘\n",
              "</pre>\n"
            ]
          },
          "metadata": {}
        },
        {
          "output_type": "display_data",
          "data": {
            "text/plain": [
              "\u001b[1m Total params: \u001b[0m\u001b[38;5;34m0\u001b[0m (0.00 B)\n"
            ],
            "text/html": [
              "<pre style=\"white-space:pre;overflow-x:auto;line-height:normal;font-family:Menlo,'DejaVu Sans Mono',consolas,'Courier New',monospace\"><span style=\"font-weight: bold\"> Total params: </span><span style=\"color: #00af00; text-decoration-color: #00af00\">0</span> (0.00 B)\n",
              "</pre>\n"
            ]
          },
          "metadata": {}
        },
        {
          "output_type": "display_data",
          "data": {
            "text/plain": [
              "\u001b[1m Trainable params: \u001b[0m\u001b[38;5;34m0\u001b[0m (0.00 B)\n"
            ],
            "text/html": [
              "<pre style=\"white-space:pre;overflow-x:auto;line-height:normal;font-family:Menlo,'DejaVu Sans Mono',consolas,'Courier New',monospace\"><span style=\"font-weight: bold\"> Trainable params: </span><span style=\"color: #00af00; text-decoration-color: #00af00\">0</span> (0.00 B)\n",
              "</pre>\n"
            ]
          },
          "metadata": {}
        },
        {
          "output_type": "display_data",
          "data": {
            "text/plain": [
              "\u001b[1m Non-trainable params: \u001b[0m\u001b[38;5;34m0\u001b[0m (0.00 B)\n"
            ],
            "text/html": [
              "<pre style=\"white-space:pre;overflow-x:auto;line-height:normal;font-family:Menlo,'DejaVu Sans Mono',consolas,'Courier New',monospace\"><span style=\"font-weight: bold\"> Non-trainable params: </span><span style=\"color: #00af00; text-decoration-color: #00af00\">0</span> (0.00 B)\n",
              "</pre>\n"
            ]
          },
          "metadata": {}
        },
        {
          "output_type": "stream",
          "name": "stdout",
          "text": [
            "Epoch 1/100\n",
            "\u001b[1m7/7\u001b[0m \u001b[32m━━━━━━━━━━━━━━━━━━━━\u001b[0m\u001b[37m\u001b[0m \u001b[1m2s\u001b[0m 14ms/step - accuracy: 0.5485 - loss: 1.0090\n",
            "Epoch 2/100\n",
            "\u001b[1m7/7\u001b[0m \u001b[32m━━━━━━━━━━━━━━━━━━━━\u001b[0m\u001b[37m\u001b[0m \u001b[1m0s\u001b[0m 9ms/step - accuracy: 0.4043 - loss: 0.6932  \n",
            "Epoch 3/100\n",
            "\u001b[1m7/7\u001b[0m \u001b[32m━━━━━━━━━━━━━━━━━━━━\u001b[0m\u001b[37m\u001b[0m \u001b[1m0s\u001b[0m 8ms/step - accuracy: 0.6609 - loss: 0.6926 \n",
            "Epoch 4/100\n",
            "\u001b[1m7/7\u001b[0m \u001b[32m━━━━━━━━━━━━━━━━━━━━\u001b[0m\u001b[37m\u001b[0m \u001b[1m0s\u001b[0m 12ms/step - accuracy: 0.6609 - loss: 0.6919\n",
            "Epoch 5/100\n",
            "\u001b[1m7/7\u001b[0m \u001b[32m━━━━━━━━━━━━━━━━━━━━\u001b[0m\u001b[37m\u001b[0m \u001b[1m0s\u001b[0m 11ms/step - accuracy: 0.6609 - loss: 0.6910\n",
            "Epoch 6/100\n",
            "\u001b[1m7/7\u001b[0m \u001b[32m━━━━━━━━━━━━━━━━━━━━\u001b[0m\u001b[37m\u001b[0m \u001b[1m0s\u001b[0m 10ms/step - accuracy: 0.6609 - loss: 0.6901\n",
            "Epoch 7/100\n",
            "\u001b[1m7/7\u001b[0m \u001b[32m━━━━━━━━━━━━━━━━━━━━\u001b[0m\u001b[37m\u001b[0m \u001b[1m0s\u001b[0m 10ms/step - accuracy: 0.6609 - loss: 0.6891\n",
            "Epoch 8/100\n",
            "\u001b[1m7/7\u001b[0m \u001b[32m━━━━━━━━━━━━━━━━━━━━\u001b[0m\u001b[37m\u001b[0m \u001b[1m0s\u001b[0m 11ms/step - accuracy: 0.6609 - loss: 0.6882\n",
            "Epoch 9/100\n",
            "\u001b[1m7/7\u001b[0m \u001b[32m━━━━━━━━━━━━━━━━━━━━\u001b[0m\u001b[37m\u001b[0m \u001b[1m0s\u001b[0m 10ms/step - accuracy: 0.6609 - loss: 0.6873\n",
            "Epoch 10/100\n",
            "\u001b[1m7/7\u001b[0m \u001b[32m━━━━━━━━━━━━━━━━━━━━\u001b[0m\u001b[37m\u001b[0m \u001b[1m0s\u001b[0m 11ms/step - accuracy: 0.6609 - loss: 0.6864\n",
            "Epoch 11/100\n",
            "\u001b[1m7/7\u001b[0m \u001b[32m━━━━━━━━━━━━━━━━━━━━\u001b[0m\u001b[37m\u001b[0m \u001b[1m0s\u001b[0m 9ms/step - accuracy: 0.6609 - loss: 0.6855 \n",
            "Epoch 12/100\n",
            "\u001b[1m7/7\u001b[0m \u001b[32m━━━━━━━━━━━━━━━━━━━━\u001b[0m\u001b[37m\u001b[0m \u001b[1m0s\u001b[0m 13ms/step - accuracy: 0.6609 - loss: 0.6846\n",
            "Epoch 13/100\n",
            "\u001b[1m7/7\u001b[0m \u001b[32m━━━━━━━━━━━━━━━━━━━━\u001b[0m\u001b[37m\u001b[0m \u001b[1m0s\u001b[0m 8ms/step - accuracy: 0.6609 - loss: 0.6838 \n",
            "Epoch 14/100\n",
            "\u001b[1m7/7\u001b[0m \u001b[32m━━━━━━━━━━━━━━━━━━━━\u001b[0m\u001b[37m\u001b[0m \u001b[1m0s\u001b[0m 8ms/step - accuracy: 0.6609 - loss: 0.6829 \n",
            "Epoch 15/100\n",
            "\u001b[1m7/7\u001b[0m \u001b[32m━━━━━━━━━━━━━━━━━━━━\u001b[0m\u001b[37m\u001b[0m \u001b[1m0s\u001b[0m 8ms/step - accuracy: 0.6609 - loss: 0.6821 \n",
            "Epoch 16/100\n",
            "\u001b[1m7/7\u001b[0m \u001b[32m━━━━━━━━━━━━━━━━━━━━\u001b[0m\u001b[37m\u001b[0m \u001b[1m0s\u001b[0m 8ms/step - accuracy: 0.6609 - loss: 0.6812 \n",
            "Epoch 17/100\n",
            "\u001b[1m7/7\u001b[0m \u001b[32m━━━━━━━━━━━━━━━━━━━━\u001b[0m\u001b[37m\u001b[0m \u001b[1m0s\u001b[0m 12ms/step - accuracy: 0.6609 - loss: 0.6804\n",
            "Epoch 18/100\n",
            "\u001b[1m7/7\u001b[0m \u001b[32m━━━━━━━━━━━━━━━━━━━━\u001b[0m\u001b[37m\u001b[0m \u001b[1m0s\u001b[0m 9ms/step - accuracy: 0.6609 - loss: 0.6796 \n",
            "Epoch 19/100\n",
            "\u001b[1m7/7\u001b[0m \u001b[32m━━━━━━━━━━━━━━━━━━━━\u001b[0m\u001b[37m\u001b[0m \u001b[1m0s\u001b[0m 9ms/step - accuracy: 0.6609 - loss: 0.6788 \n",
            "Epoch 20/100\n",
            "\u001b[1m7/7\u001b[0m \u001b[32m━━━━━━━━━━━━━━━━━━━━\u001b[0m\u001b[37m\u001b[0m \u001b[1m0s\u001b[0m 11ms/step - accuracy: 0.6609 - loss: 0.6781\n",
            "Epoch 21/100\n",
            "\u001b[1m7/7\u001b[0m \u001b[32m━━━━━━━━━━━━━━━━━━━━\u001b[0m\u001b[37m\u001b[0m \u001b[1m0s\u001b[0m 11ms/step - accuracy: 0.6609 - loss: 0.6773\n",
            "Epoch 22/100\n",
            "\u001b[1m7/7\u001b[0m \u001b[32m━━━━━━━━━━━━━━━━━━━━\u001b[0m\u001b[37m\u001b[0m \u001b[1m0s\u001b[0m 10ms/step - accuracy: 0.6609 - loss: 0.6765\n",
            "Epoch 23/100\n",
            "\u001b[1m7/7\u001b[0m \u001b[32m━━━━━━━━━━━━━━━━━━━━\u001b[0m\u001b[37m\u001b[0m \u001b[1m0s\u001b[0m 10ms/step - accuracy: 0.6609 - loss: 0.6758\n",
            "Epoch 24/100\n",
            "\u001b[1m7/7\u001b[0m \u001b[32m━━━━━━━━━━━━━━━━━━━━\u001b[0m\u001b[37m\u001b[0m \u001b[1m0s\u001b[0m 10ms/step - accuracy: 0.6609 - loss: 0.6751\n",
            "Epoch 25/100\n",
            "\u001b[1m7/7\u001b[0m \u001b[32m━━━━━━━━━━━━━━━━━━━━\u001b[0m\u001b[37m\u001b[0m \u001b[1m0s\u001b[0m 13ms/step - accuracy: 0.6609 - loss: 0.6744\n",
            "Epoch 26/100\n",
            "\u001b[1m7/7\u001b[0m \u001b[32m━━━━━━━━━━━━━━━━━━━━\u001b[0m\u001b[37m\u001b[0m \u001b[1m0s\u001b[0m 10ms/step - accuracy: 0.6609 - loss: 0.6737\n",
            "Epoch 27/100\n",
            "\u001b[1m7/7\u001b[0m \u001b[32m━━━━━━━━━━━━━━━━━━━━\u001b[0m\u001b[37m\u001b[0m \u001b[1m0s\u001b[0m 10ms/step - accuracy: 0.6609 - loss: 0.6730\n",
            "Epoch 28/100\n",
            "\u001b[1m7/7\u001b[0m \u001b[32m━━━━━━━━━━━━━━━━━━━━\u001b[0m\u001b[37m\u001b[0m \u001b[1m0s\u001b[0m 14ms/step - accuracy: 0.6609 - loss: 0.6723\n",
            "Epoch 29/100\n",
            "\u001b[1m7/7\u001b[0m \u001b[32m━━━━━━━━━━━━━━━━━━━━\u001b[0m\u001b[37m\u001b[0m \u001b[1m0s\u001b[0m 9ms/step - accuracy: 0.6609 - loss: 0.6716 \n",
            "Epoch 30/100\n",
            "\u001b[1m7/7\u001b[0m \u001b[32m━━━━━━━━━━━━━━━━━━━━\u001b[0m\u001b[37m\u001b[0m \u001b[1m0s\u001b[0m 16ms/step - accuracy: 0.6609 - loss: 0.6710\n",
            "Epoch 31/100\n",
            "\u001b[1m7/7\u001b[0m \u001b[32m━━━━━━━━━━━━━━━━━━━━\u001b[0m\u001b[37m\u001b[0m \u001b[1m0s\u001b[0m 12ms/step - accuracy: 0.6609 - loss: 0.6703\n",
            "Epoch 32/100\n",
            "\u001b[1m7/7\u001b[0m \u001b[32m━━━━━━━━━━━━━━━━━━━━\u001b[0m\u001b[37m\u001b[0m \u001b[1m0s\u001b[0m 18ms/step - accuracy: 0.6609 - loss: 0.6697\n",
            "Epoch 33/100\n",
            "\u001b[1m7/7\u001b[0m \u001b[32m━━━━━━━━━━━━━━━━━━━━\u001b[0m\u001b[37m\u001b[0m \u001b[1m0s\u001b[0m 13ms/step - accuracy: 0.6609 - loss: 0.6691 \n",
            "Epoch 34/100\n",
            "\u001b[1m7/7\u001b[0m \u001b[32m━━━━━━━━━━━━━━━━━━━━\u001b[0m\u001b[37m\u001b[0m \u001b[1m0s\u001b[0m 15ms/step - accuracy: 0.6609 - loss: 0.6685\n",
            "Epoch 35/100\n",
            "\u001b[1m7/7\u001b[0m \u001b[32m━━━━━━━━━━━━━━━━━━━━\u001b[0m\u001b[37m\u001b[0m \u001b[1m0s\u001b[0m 13ms/step - accuracy: 0.6609 - loss: 0.6679\n",
            "Epoch 36/100\n",
            "\u001b[1m7/7\u001b[0m \u001b[32m━━━━━━━━━━━━━━━━━━━━\u001b[0m\u001b[37m\u001b[0m \u001b[1m0s\u001b[0m 12ms/step - accuracy: 0.6609 - loss: 0.6673\n",
            "Epoch 37/100\n",
            "\u001b[1m7/7\u001b[0m \u001b[32m━━━━━━━━━━━━━━━━━━━━\u001b[0m\u001b[37m\u001b[0m \u001b[1m0s\u001b[0m 12ms/step - accuracy: 0.6609 - loss: 0.6667\n",
            "Epoch 38/100\n",
            "\u001b[1m7/7\u001b[0m \u001b[32m━━━━━━━━━━━━━━━━━━━━\u001b[0m\u001b[37m\u001b[0m \u001b[1m0s\u001b[0m 12ms/step - accuracy: 0.6609 - loss: 0.6661\n",
            "Epoch 39/100\n",
            "\u001b[1m7/7\u001b[0m \u001b[32m━━━━━━━━━━━━━━━━━━━━\u001b[0m\u001b[37m\u001b[0m \u001b[1m0s\u001b[0m 16ms/step - accuracy: 0.6609 - loss: 0.6656\n",
            "Epoch 40/100\n",
            "\u001b[1m7/7\u001b[0m \u001b[32m━━━━━━━━━━━━━━━━━━━━\u001b[0m\u001b[37m\u001b[0m \u001b[1m0s\u001b[0m 13ms/step - accuracy: 0.6609 - loss: 0.6650\n",
            "Epoch 41/100\n",
            "\u001b[1m7/7\u001b[0m \u001b[32m━━━━━━━━━━━━━━━━━━━━\u001b[0m\u001b[37m\u001b[0m \u001b[1m0s\u001b[0m 20ms/step - accuracy: 0.6609 - loss: 0.6645\n",
            "Epoch 42/100\n",
            "\u001b[1m7/7\u001b[0m \u001b[32m━━━━━━━━━━━━━━━━━━━━\u001b[0m\u001b[37m\u001b[0m \u001b[1m0s\u001b[0m 13ms/step - accuracy: 0.6609 - loss: 0.6640 \n",
            "Epoch 43/100\n",
            "\u001b[1m7/7\u001b[0m \u001b[32m━━━━━━━━━━━━━━━━━━━━\u001b[0m\u001b[37m\u001b[0m \u001b[1m0s\u001b[0m 12ms/step - accuracy: 0.6609 - loss: 0.6635\n",
            "Epoch 44/100\n",
            "\u001b[1m7/7\u001b[0m \u001b[32m━━━━━━━━━━━━━━━━━━━━\u001b[0m\u001b[37m\u001b[0m \u001b[1m0s\u001b[0m 16ms/step - accuracy: 0.6609 - loss: 0.6630\n",
            "Epoch 45/100\n",
            "\u001b[1m7/7\u001b[0m \u001b[32m━━━━━━━━━━━━━━━━━━━━\u001b[0m\u001b[37m\u001b[0m \u001b[1m0s\u001b[0m 13ms/step - accuracy: 0.6609 - loss: 0.6625\n",
            "Epoch 46/100\n",
            "\u001b[1m7/7\u001b[0m \u001b[32m━━━━━━━━━━━━━━━━━━━━\u001b[0m\u001b[37m\u001b[0m \u001b[1m0s\u001b[0m 16ms/step - accuracy: 0.6609 - loss: 0.6620\n",
            "Epoch 47/100\n",
            "\u001b[1m7/7\u001b[0m \u001b[32m━━━━━━━━━━━━━━━━━━━━\u001b[0m\u001b[37m\u001b[0m \u001b[1m0s\u001b[0m 13ms/step - accuracy: 0.6609 - loss: 0.6615 \n",
            "Epoch 48/100\n",
            "\u001b[1m7/7\u001b[0m \u001b[32m━━━━━━━━━━━━━━━━━━━━\u001b[0m\u001b[37m\u001b[0m \u001b[1m0s\u001b[0m 15ms/step - accuracy: 0.6609 - loss: 0.6610\n",
            "Epoch 49/100\n",
            "\u001b[1m7/7\u001b[0m \u001b[32m━━━━━━━━━━━━━━━━━━━━\u001b[0m\u001b[37m\u001b[0m \u001b[1m0s\u001b[0m 13ms/step - accuracy: 0.6609 - loss: 0.6606 \n",
            "Epoch 50/100\n",
            "\u001b[1m7/7\u001b[0m \u001b[32m━━━━━━━━━━━━━━━━━━━━\u001b[0m\u001b[37m\u001b[0m \u001b[1m0s\u001b[0m 13ms/step - accuracy: 0.6609 - loss: 0.6601\n",
            "Epoch 51/100\n",
            "\u001b[1m7/7\u001b[0m \u001b[32m━━━━━━━━━━━━━━━━━━━━\u001b[0m\u001b[37m\u001b[0m \u001b[1m0s\u001b[0m 15ms/step - accuracy: 0.6609 - loss: 0.6597\n",
            "Epoch 52/100\n",
            "\u001b[1m7/7\u001b[0m \u001b[32m━━━━━━━━━━━━━━━━━━━━\u001b[0m\u001b[37m\u001b[0m \u001b[1m0s\u001b[0m 16ms/step - accuracy: 0.6609 - loss: 0.6592\n",
            "Epoch 53/100\n",
            "\u001b[1m7/7\u001b[0m \u001b[32m━━━━━━━━━━━━━━━━━━━━\u001b[0m\u001b[37m\u001b[0m \u001b[1m0s\u001b[0m 13ms/step - accuracy: 0.6609 - loss: 0.6588\n",
            "Epoch 54/100\n",
            "\u001b[1m7/7\u001b[0m \u001b[32m━━━━━━━━━━━━━━━━━━━━\u001b[0m\u001b[37m\u001b[0m \u001b[1m0s\u001b[0m 13ms/step - accuracy: 0.6609 - loss: 0.6584\n",
            "Epoch 55/100\n",
            "\u001b[1m7/7\u001b[0m \u001b[32m━━━━━━━━━━━━━━━━━━━━\u001b[0m\u001b[37m\u001b[0m \u001b[1m0s\u001b[0m 13ms/step - accuracy: 0.6609 - loss: 0.6580\n",
            "Epoch 56/100\n",
            "\u001b[1m7/7\u001b[0m \u001b[32m━━━━━━━━━━━━━━━━━━━━\u001b[0m\u001b[37m\u001b[0m \u001b[1m0s\u001b[0m 9ms/step - accuracy: 0.6609 - loss: 0.6576 \n",
            "Epoch 57/100\n",
            "\u001b[1m7/7\u001b[0m \u001b[32m━━━━━━━━━━━━━━━━━━━━\u001b[0m\u001b[37m\u001b[0m \u001b[1m0s\u001b[0m 9ms/step - accuracy: 0.6609 - loss: 0.6572 \n",
            "Epoch 58/100\n",
            "\u001b[1m7/7\u001b[0m \u001b[32m━━━━━━━━━━━━━━━━━━━━\u001b[0m\u001b[37m\u001b[0m \u001b[1m0s\u001b[0m 11ms/step - accuracy: 0.6609 - loss: 0.6568\n",
            "Epoch 59/100\n",
            "\u001b[1m7/7\u001b[0m \u001b[32m━━━━━━━━━━━━━━━━━━━━\u001b[0m\u001b[37m\u001b[0m \u001b[1m0s\u001b[0m 8ms/step - accuracy: 0.6609 - loss: 0.6564 \n",
            "Epoch 60/100\n",
            "\u001b[1m7/7\u001b[0m \u001b[32m━━━━━━━━━━━━━━━━━━━━\u001b[0m\u001b[37m\u001b[0m \u001b[1m0s\u001b[0m 11ms/step - accuracy: 0.6609 - loss: 0.6561\n",
            "Epoch 61/100\n",
            "\u001b[1m7/7\u001b[0m \u001b[32m━━━━━━━━━━━━━━━━━━━━\u001b[0m\u001b[37m\u001b[0m \u001b[1m0s\u001b[0m 10ms/step - accuracy: 0.6609 - loss: 0.6557\n",
            "Epoch 62/100\n",
            "\u001b[1m7/7\u001b[0m \u001b[32m━━━━━━━━━━━━━━━━━━━━\u001b[0m\u001b[37m\u001b[0m \u001b[1m0s\u001b[0m 10ms/step - accuracy: 0.6609 - loss: 0.6553\n",
            "Epoch 63/100\n",
            "\u001b[1m7/7\u001b[0m \u001b[32m━━━━━━━━━━━━━━━━━━━━\u001b[0m\u001b[37m\u001b[0m \u001b[1m0s\u001b[0m 10ms/step - accuracy: 0.6609 - loss: 0.6550\n",
            "Epoch 64/100\n",
            "\u001b[1m7/7\u001b[0m \u001b[32m━━━━━━━━━━━━━━━━━━━━\u001b[0m\u001b[37m\u001b[0m \u001b[1m0s\u001b[0m 10ms/step - accuracy: 0.6609 - loss: 0.6546\n",
            "Epoch 65/100\n",
            "\u001b[1m7/7\u001b[0m \u001b[32m━━━━━━━━━━━━━━━━━━━━\u001b[0m\u001b[37m\u001b[0m \u001b[1m0s\u001b[0m 10ms/step - accuracy: 0.6609 - loss: 0.6543\n",
            "Epoch 66/100\n",
            "\u001b[1m7/7\u001b[0m \u001b[32m━━━━━━━━━━━━━━━━━━━━\u001b[0m\u001b[37m\u001b[0m \u001b[1m0s\u001b[0m 13ms/step - accuracy: 0.6609 - loss: 0.6540\n",
            "Epoch 67/100\n",
            "\u001b[1m7/7\u001b[0m \u001b[32m━━━━━━━━━━━━━━━━━━━━\u001b[0m\u001b[37m\u001b[0m \u001b[1m0s\u001b[0m 13ms/step - accuracy: 0.6609 - loss: 0.6537\n",
            "Epoch 68/100\n",
            "\u001b[1m7/7\u001b[0m \u001b[32m━━━━━━━━━━━━━━━━━━━━\u001b[0m\u001b[37m\u001b[0m \u001b[1m0s\u001b[0m 11ms/step - accuracy: 0.6609 - loss: 0.6534\n",
            "Epoch 69/100\n",
            "\u001b[1m7/7\u001b[0m \u001b[32m━━━━━━━━━━━━━━━━━━━━\u001b[0m\u001b[37m\u001b[0m \u001b[1m0s\u001b[0m 9ms/step - accuracy: 0.6609 - loss: 0.6530 \n",
            "Epoch 70/100\n",
            "\u001b[1m7/7\u001b[0m \u001b[32m━━━━━━━━━━━━━━━━━━━━\u001b[0m\u001b[37m\u001b[0m \u001b[1m0s\u001b[0m 8ms/step - accuracy: 0.6609 - loss: 0.6527 \n",
            "Epoch 71/100\n",
            "\u001b[1m7/7\u001b[0m \u001b[32m━━━━━━━━━━━━━━━━━━━━\u001b[0m\u001b[37m\u001b[0m \u001b[1m0s\u001b[0m 9ms/step - accuracy: 0.6609 - loss: 0.6525 \n",
            "Epoch 72/100\n",
            "\u001b[1m7/7\u001b[0m \u001b[32m━━━━━━━━━━━━━━━━━━━━\u001b[0m\u001b[37m\u001b[0m \u001b[1m0s\u001b[0m 9ms/step - accuracy: 0.6609 - loss: 0.6522 \n",
            "Epoch 73/100\n",
            "\u001b[1m7/7\u001b[0m \u001b[32m━━━━━━━━━━━━━━━━━━━━\u001b[0m\u001b[37m\u001b[0m \u001b[1m0s\u001b[0m 10ms/step - accuracy: 0.6609 - loss: 0.6519\n",
            "Epoch 74/100\n",
            "\u001b[1m7/7\u001b[0m \u001b[32m━━━━━━━━━━━━━━━━━━━━\u001b[0m\u001b[37m\u001b[0m \u001b[1m0s\u001b[0m 8ms/step - accuracy: 0.6609 - loss: 0.6516 \n",
            "Epoch 75/100\n",
            "\u001b[1m7/7\u001b[0m \u001b[32m━━━━━━━━━━━━━━━━━━━━\u001b[0m\u001b[37m\u001b[0m \u001b[1m0s\u001b[0m 12ms/step - accuracy: 0.6609 - loss: 0.6513\n",
            "Epoch 76/100\n",
            "\u001b[1m7/7\u001b[0m \u001b[32m━━━━━━━━━━━━━━━━━━━━\u001b[0m\u001b[37m\u001b[0m \u001b[1m0s\u001b[0m 10ms/step - accuracy: 0.6609 - loss: 0.6511\n",
            "Epoch 77/100\n",
            "\u001b[1m7/7\u001b[0m \u001b[32m━━━━━━━━━━━━━━━━━━━━\u001b[0m\u001b[37m\u001b[0m \u001b[1m0s\u001b[0m 9ms/step - accuracy: 0.6609 - loss: 0.6508 \n",
            "Epoch 78/100\n",
            "\u001b[1m7/7\u001b[0m \u001b[32m━━━━━━━━━━━━━━━━━━━━\u001b[0m\u001b[37m\u001b[0m \u001b[1m0s\u001b[0m 9ms/step - accuracy: 0.6609 - loss: 0.6506 \n",
            "Epoch 79/100\n",
            "\u001b[1m7/7\u001b[0m \u001b[32m━━━━━━━━━━━━━━━━━━━━\u001b[0m\u001b[37m\u001b[0m \u001b[1m0s\u001b[0m 8ms/step - accuracy: 0.6609 - loss: 0.6503 \n",
            "Epoch 80/100\n",
            "\u001b[1m7/7\u001b[0m \u001b[32m━━━━━━━━━━━━━━━━━━━━\u001b[0m\u001b[37m\u001b[0m \u001b[1m0s\u001b[0m 9ms/step - accuracy: 0.6609 - loss: 0.6501 \n",
            "Epoch 81/100\n",
            "\u001b[1m7/7\u001b[0m \u001b[32m━━━━━━━━━━━━━━━━━━━━\u001b[0m\u001b[37m\u001b[0m \u001b[1m0s\u001b[0m 9ms/step - accuracy: 0.6609 - loss: 0.6498 \n",
            "Epoch 82/100\n",
            "\u001b[1m7/7\u001b[0m \u001b[32m━━━━━━━━━━━━━━━━━━━━\u001b[0m\u001b[37m\u001b[0m \u001b[1m0s\u001b[0m 8ms/step - accuracy: 0.6609 - loss: 0.6496 \n",
            "Epoch 83/100\n",
            "\u001b[1m7/7\u001b[0m \u001b[32m━━━━━━━━━━━━━━━━━━━━\u001b[0m\u001b[37m\u001b[0m \u001b[1m0s\u001b[0m 8ms/step - accuracy: 0.6609 - loss: 0.6494 \n",
            "Epoch 84/100\n",
            "\u001b[1m7/7\u001b[0m \u001b[32m━━━━━━━━━━━━━━━━━━━━\u001b[0m\u001b[37m\u001b[0m \u001b[1m0s\u001b[0m 16ms/step - accuracy: 0.6609 - loss: 0.6492\n",
            "Epoch 85/100\n",
            "\u001b[1m7/7\u001b[0m \u001b[32m━━━━━━━━━━━━━━━━━━━━\u001b[0m\u001b[37m\u001b[0m \u001b[1m0s\u001b[0m 9ms/step - accuracy: 0.6609 - loss: 0.6489 \n",
            "Epoch 86/100\n",
            "\u001b[1m7/7\u001b[0m \u001b[32m━━━━━━━━━━━━━━━━━━━━\u001b[0m\u001b[37m\u001b[0m \u001b[1m0s\u001b[0m 9ms/step - accuracy: 0.6609 - loss: 0.6487 \n",
            "Epoch 87/100\n",
            "\u001b[1m7/7\u001b[0m \u001b[32m━━━━━━━━━━━━━━━━━━━━\u001b[0m\u001b[37m\u001b[0m \u001b[1m0s\u001b[0m 10ms/step - accuracy: 0.6609 - loss: 0.6485\n",
            "Epoch 88/100\n",
            "\u001b[1m7/7\u001b[0m \u001b[32m━━━━━━━━━━━━━━━━━━━━\u001b[0m\u001b[37m\u001b[0m \u001b[1m0s\u001b[0m 11ms/step - accuracy: 0.6609 - loss: 0.6483\n",
            "Epoch 89/100\n",
            "\u001b[1m7/7\u001b[0m \u001b[32m━━━━━━━━━━━━━━━━━━━━\u001b[0m\u001b[37m\u001b[0m \u001b[1m0s\u001b[0m 10ms/step - accuracy: 0.6609 - loss: 0.6481\n",
            "Epoch 90/100\n",
            "\u001b[1m7/7\u001b[0m \u001b[32m━━━━━━━━━━━━━━━━━━━━\u001b[0m\u001b[37m\u001b[0m \u001b[1m0s\u001b[0m 11ms/step - accuracy: 0.6609 - loss: 0.6479\n",
            "Epoch 91/100\n",
            "\u001b[1m7/7\u001b[0m \u001b[32m━━━━━━━━━━━━━━━━━━━━\u001b[0m\u001b[37m\u001b[0m \u001b[1m0s\u001b[0m 10ms/step - accuracy: 0.6609 - loss: 0.6477\n",
            "Epoch 92/100\n",
            "\u001b[1m7/7\u001b[0m \u001b[32m━━━━━━━━━━━━━━━━━━━━\u001b[0m\u001b[37m\u001b[0m \u001b[1m0s\u001b[0m 17ms/step - accuracy: 0.6609 - loss: 0.6476\n",
            "Epoch 93/100\n",
            "\u001b[1m7/7\u001b[0m \u001b[32m━━━━━━━━━━━━━━━━━━━━\u001b[0m\u001b[37m\u001b[0m \u001b[1m0s\u001b[0m 10ms/step - accuracy: 0.6609 - loss: 0.6474\n",
            "Epoch 94/100\n",
            "\u001b[1m7/7\u001b[0m \u001b[32m━━━━━━━━━━━━━━━━━━━━\u001b[0m\u001b[37m\u001b[0m \u001b[1m0s\u001b[0m 9ms/step - accuracy: 0.6609 - loss: 0.6472 \n",
            "Epoch 95/100\n",
            "\u001b[1m7/7\u001b[0m \u001b[32m━━━━━━━━━━━━━━━━━━━━\u001b[0m\u001b[37m\u001b[0m \u001b[1m0s\u001b[0m 8ms/step - accuracy: 0.6609 - loss: 0.6470 \n",
            "Epoch 96/100\n",
            "\u001b[1m7/7\u001b[0m \u001b[32m━━━━━━━━━━━━━━━━━━━━\u001b[0m\u001b[37m\u001b[0m \u001b[1m0s\u001b[0m 9ms/step - accuracy: 0.6609 - loss: 0.6469 \n",
            "Epoch 97/100\n",
            "\u001b[1m7/7\u001b[0m \u001b[32m━━━━━━━━━━━━━━━━━━━━\u001b[0m\u001b[37m\u001b[0m \u001b[1m0s\u001b[0m 9ms/step - accuracy: 0.6609 - loss: 0.6467 \n",
            "Epoch 98/100\n",
            "\u001b[1m7/7\u001b[0m \u001b[32m━━━━━━━━━━━━━━━━━━━━\u001b[0m\u001b[37m\u001b[0m \u001b[1m0s\u001b[0m 8ms/step - accuracy: 0.6609 - loss: 0.6465 \n",
            "Epoch 99/100\n",
            "\u001b[1m7/7\u001b[0m \u001b[32m━━━━━━━━━━━━━━━━━━━━\u001b[0m\u001b[37m\u001b[0m \u001b[1m0s\u001b[0m 14ms/step - accuracy: 0.6609 - loss: 0.6464\n",
            "Epoch 100/100\n",
            "\u001b[1m7/7\u001b[0m \u001b[32m━━━━━━━━━━━━━━━━━━━━\u001b[0m\u001b[37m\u001b[0m \u001b[1m0s\u001b[0m 9ms/step - accuracy: 0.6609 - loss: 0.6462 \n",
            "\u001b[1m7/7\u001b[0m \u001b[32m━━━━━━━━━━━━━━━━━━━━\u001b[0m\u001b[37m\u001b[0m \u001b[1m0s\u001b[0m 10ms/step\n",
            "\u001b[1m2/2\u001b[0m \u001b[32m━━━━━━━━━━━━━━━━━━━━\u001b[0m\u001b[37m\u001b[0m \u001b[1m0s\u001b[0m 23ms/step\n",
            "\n",
            "\n",
            "Acurácia no treino: 0.6555023923444976\n",
            "Acurácia no teste: 0.34\n"
          ]
        }
      ],
      "source": [
        "np.random.seed(1)\n",
        "tf.random.set_seed(1)\n",
        "\n",
        "# Criando o modelo\n",
        "m1 = modelo_1() # ToDo: chame a função que define o modelo\n",
        "# Treinando o modelo\n",
        "m1 = treinar_modelo(m1, treino_x, treino_y) # ToDo: Chame a função para treinar o modelo\n",
        "\n",
        "previsoes_treino = np.round(m1.predict(treino_x))\n",
        "previsoes_test = np.round(m1.predict(teste_x))\n",
        "\n",
        "## Predição da rede\n",
        "print(f'\\n\\nAcurácia no treino: {accuracy_score(treino_y.reshape(-1), previsoes_treino)}') # ToDo: Utilize a função accuracy_score do sklearn para calcular a acurácia nos dados de treino\n",
        "                                         # **dica** use o model.predict para predizer os dados e use o reshape com -1 nos labels\n",
        "print(f'Acurácia no teste: {accuracy_score(teste_y.reshape(-1), previsoes_test)}') # ToDo: Utilize a função accuracy_score do sklearn para calcular a acurácia nos dados de teste\n",
        "                                    # **dica** use o model.predict para predizer os dados e use o reshape com -1 nos labels"
      ]
    },
    {
      "cell_type": "markdown",
      "metadata": {
        "id": "aW8vLiI_Fi5N"
      },
      "source": [
        "**Resultado esperado:** (pode ser diferente)\n",
        "\n",
        "```\n",
        "  Acurácia treino = 81.34%\n",
        "  Acurácia teste = 52.00%\n",
        "```"
      ]
    },
    {
      "cell_type": "markdown",
      "metadata": {
        "id": "RGeZCSvqYRYE"
      },
      "source": [
        "## Modelo 2: Testando um modelo com uma camada oculta com 256 neurônios (15pt)"
      ]
    },
    {
      "cell_type": "markdown",
      "metadata": {
        "id": "SHE9muEXixEx"
      },
      "source": [
        "### Definição do modelo (10pt)"
      ]
    },
    {
      "cell_type": "code",
      "execution_count": null,
      "metadata": {
        "id": "BLX3LgUpZFwE"
      },
      "outputs": [],
      "source": [
        "# Definição do modelo\n",
        "def modelo_2():\n",
        "  _model = tf.keras.models.Sequential() # Crie um modelo sequencial com keras.Sequential\n",
        "  _model.add(tf.keras.layers.Dense(256,activation = 'relu')) # ToDo: Adicione uma camada densa com 8 neurônios e ativação relu\n",
        "  _model.add(tf.keras.layers.Dense(1,activation = 'sigmoid')) # ToDo: Adicione uma camada densa com 1 neurônio e ativação sigmoid **dica** use a classe keras.layers.Dense\n",
        "  return _model"
      ]
    },
    {
      "cell_type": "markdown",
      "metadata": {
        "id": "TxP_7GT4ZGJr"
      },
      "source": [
        "Crie um modelo com uma camada oculta (256 neurônios e ativação ReLu) e a camada de saída com um neurônio (ativação sigmoid)."
      ]
    },
    {
      "cell_type": "markdown",
      "metadata": {
        "id": "QEb-2ItTZT7v"
      },
      "source": [
        "Agora treine e teste o seu modelo."
      ]
    },
    {
      "cell_type": "code",
      "execution_count": null,
      "metadata": {
        "colab": {
          "base_uri": "https://localhost:8080/",
          "height": 1000
        },
        "id": "4VMB-5g9ZVtQ",
        "outputId": "c60f6b4b-4e86-4eb9-be4b-ba47fbb8eb0d"
      },
      "outputs": [
        {
          "output_type": "display_data",
          "data": {
            "text/plain": [
              "\u001b[1mModel: \"sequential_1\"\u001b[0m\n"
            ],
            "text/html": [
              "<pre style=\"white-space:pre;overflow-x:auto;line-height:normal;font-family:Menlo,'DejaVu Sans Mono',consolas,'Courier New',monospace\"><span style=\"font-weight: bold\">Model: \"sequential_1\"</span>\n",
              "</pre>\n"
            ]
          },
          "metadata": {}
        },
        {
          "output_type": "display_data",
          "data": {
            "text/plain": [
              "┏━━━━━━━━━━━━━━━━━━━━━━━━━━━━━━━━━━━━━━┳━━━━━━━━━━━━━━━━━━━━━━━━━━━━━┳━━━━━━━━━━━━━━━━━┓\n",
              "┃\u001b[1m \u001b[0m\u001b[1mLayer (type)                        \u001b[0m\u001b[1m \u001b[0m┃\u001b[1m \u001b[0m\u001b[1mOutput Shape               \u001b[0m\u001b[1m \u001b[0m┃\u001b[1m \u001b[0m\u001b[1m        Param #\u001b[0m\u001b[1m \u001b[0m┃\n",
              "┡━━━━━━━━━━━━━━━━━━━━━━━━━━━━━━━━━━━━━━╇━━━━━━━━━━━━━━━━━━━━━━━━━━━━━╇━━━━━━━━━━━━━━━━━┩\n",
              "│ dense_2 (\u001b[38;5;33mDense\u001b[0m)                      │ ?                           │     \u001b[38;5;34m0\u001b[0m (unbuilt) │\n",
              "├──────────────────────────────────────┼─────────────────────────────┼─────────────────┤\n",
              "│ dense_3 (\u001b[38;5;33mDense\u001b[0m)                      │ ?                           │     \u001b[38;5;34m0\u001b[0m (unbuilt) │\n",
              "└──────────────────────────────────────┴─────────────────────────────┴─────────────────┘\n"
            ],
            "text/html": [
              "<pre style=\"white-space:pre;overflow-x:auto;line-height:normal;font-family:Menlo,'DejaVu Sans Mono',consolas,'Courier New',monospace\">┏━━━━━━━━━━━━━━━━━━━━━━━━━━━━━━━━━━━━━━┳━━━━━━━━━━━━━━━━━━━━━━━━━━━━━┳━━━━━━━━━━━━━━━━━┓\n",
              "┃<span style=\"font-weight: bold\"> Layer (type)                         </span>┃<span style=\"font-weight: bold\"> Output Shape                </span>┃<span style=\"font-weight: bold\">         Param # </span>┃\n",
              "┡━━━━━━━━━━━━━━━━━━━━━━━━━━━━━━━━━━━━━━╇━━━━━━━━━━━━━━━━━━━━━━━━━━━━━╇━━━━━━━━━━━━━━━━━┩\n",
              "│ dense_2 (<span style=\"color: #0087ff; text-decoration-color: #0087ff\">Dense</span>)                      │ ?                           │     <span style=\"color: #00af00; text-decoration-color: #00af00\">0</span> (unbuilt) │\n",
              "├──────────────────────────────────────┼─────────────────────────────┼─────────────────┤\n",
              "│ dense_3 (<span style=\"color: #0087ff; text-decoration-color: #0087ff\">Dense</span>)                      │ ?                           │     <span style=\"color: #00af00; text-decoration-color: #00af00\">0</span> (unbuilt) │\n",
              "└──────────────────────────────────────┴─────────────────────────────┴─────────────────┘\n",
              "</pre>\n"
            ]
          },
          "metadata": {}
        },
        {
          "output_type": "display_data",
          "data": {
            "text/plain": [
              "\u001b[1m Total params: \u001b[0m\u001b[38;5;34m0\u001b[0m (0.00 B)\n"
            ],
            "text/html": [
              "<pre style=\"white-space:pre;overflow-x:auto;line-height:normal;font-family:Menlo,'DejaVu Sans Mono',consolas,'Courier New',monospace\"><span style=\"font-weight: bold\"> Total params: </span><span style=\"color: #00af00; text-decoration-color: #00af00\">0</span> (0.00 B)\n",
              "</pre>\n"
            ]
          },
          "metadata": {}
        },
        {
          "output_type": "display_data",
          "data": {
            "text/plain": [
              "\u001b[1m Trainable params: \u001b[0m\u001b[38;5;34m0\u001b[0m (0.00 B)\n"
            ],
            "text/html": [
              "<pre style=\"white-space:pre;overflow-x:auto;line-height:normal;font-family:Menlo,'DejaVu Sans Mono',consolas,'Courier New',monospace\"><span style=\"font-weight: bold\"> Trainable params: </span><span style=\"color: #00af00; text-decoration-color: #00af00\">0</span> (0.00 B)\n",
              "</pre>\n"
            ]
          },
          "metadata": {}
        },
        {
          "output_type": "display_data",
          "data": {
            "text/plain": [
              "\u001b[1m Non-trainable params: \u001b[0m\u001b[38;5;34m0\u001b[0m (0.00 B)\n"
            ],
            "text/html": [
              "<pre style=\"white-space:pre;overflow-x:auto;line-height:normal;font-family:Menlo,'DejaVu Sans Mono',consolas,'Courier New',monospace\"><span style=\"font-weight: bold\"> Non-trainable params: </span><span style=\"color: #00af00; text-decoration-color: #00af00\">0</span> (0.00 B)\n",
              "</pre>\n"
            ]
          },
          "metadata": {}
        },
        {
          "output_type": "stream",
          "name": "stdout",
          "text": [
            "Epoch 1/100\n",
            "\u001b[1m7/7\u001b[0m \u001b[32m━━━━━━━━━━━━━━━━━━━━\u001b[0m\u001b[37m\u001b[0m \u001b[1m2s\u001b[0m 44ms/step - accuracy: 0.6173 - loss: 4.8643\n",
            "Epoch 2/100\n",
            "\u001b[1m7/7\u001b[0m \u001b[32m━━━━━━━━━━━━━━━━━━━━\u001b[0m\u001b[37m\u001b[0m \u001b[1m1s\u001b[0m 42ms/step - accuracy: 0.6609 - loss: 2.4995\n",
            "Epoch 3/100\n",
            "\u001b[1m7/7\u001b[0m \u001b[32m━━━━━━━━━━━━━━━━━━━━\u001b[0m\u001b[37m\u001b[0m \u001b[1m1s\u001b[0m 42ms/step - accuracy: 0.5578 - loss: 1.0149\n",
            "Epoch 4/100\n",
            "\u001b[1m7/7\u001b[0m \u001b[32m━━━━━━━━━━━━━━━━━━━━\u001b[0m\u001b[37m\u001b[0m \u001b[1m0s\u001b[0m 43ms/step - accuracy: 0.6717 - loss: 1.0337\n",
            "Epoch 5/100\n",
            "\u001b[1m7/7\u001b[0m \u001b[32m━━━━━━━━━━━━━━━━━━━━\u001b[0m\u001b[37m\u001b[0m \u001b[1m1s\u001b[0m 54ms/step - accuracy: 0.6154 - loss: 0.6719\n",
            "Epoch 6/100\n",
            "\u001b[1m7/7\u001b[0m \u001b[32m━━━━━━━━━━━━━━━━━━━━\u001b[0m\u001b[37m\u001b[0m \u001b[1m1s\u001b[0m 86ms/step - accuracy: 0.6700 - loss: 0.7114\n",
            "Epoch 7/100\n",
            "\u001b[1m7/7\u001b[0m \u001b[32m━━━━━━━━━━━━━━━━━━━━\u001b[0m\u001b[37m\u001b[0m \u001b[1m1s\u001b[0m 68ms/step - accuracy: 0.5728 - loss: 0.6617\n",
            "Epoch 8/100\n",
            "\u001b[1m7/7\u001b[0m \u001b[32m━━━━━━━━━━━━━━━━━━━━\u001b[0m\u001b[37m\u001b[0m \u001b[1m1s\u001b[0m 89ms/step - accuracy: 0.6945 - loss: 0.5489\n",
            "Epoch 9/100\n",
            "\u001b[1m7/7\u001b[0m \u001b[32m━━━━━━━━━━━━━━━━━━━━\u001b[0m\u001b[37m\u001b[0m \u001b[1m1s\u001b[0m 89ms/step - accuracy: 0.7020 - loss: 0.5595\n",
            "Epoch 10/100\n",
            "\u001b[1m7/7\u001b[0m \u001b[32m━━━━━━━━━━━━━━━━━━━━\u001b[0m\u001b[37m\u001b[0m \u001b[1m1s\u001b[0m 79ms/step - accuracy: 0.7299 - loss: 0.5291\n",
            "Epoch 11/100\n",
            "\u001b[1m7/7\u001b[0m \u001b[32m━━━━━━━━━━━━━━━━━━━━\u001b[0m\u001b[37m\u001b[0m \u001b[1m1s\u001b[0m 72ms/step - accuracy: 0.7755 - loss: 0.4967\n",
            "Epoch 12/100\n",
            "\u001b[1m7/7\u001b[0m \u001b[32m━━━━━━━━━━━━━━━━━━━━\u001b[0m\u001b[37m\u001b[0m \u001b[1m1s\u001b[0m 74ms/step - accuracy: 0.7671 - loss: 0.4994\n",
            "Epoch 13/100\n",
            "\u001b[1m7/7\u001b[0m \u001b[32m━━━━━━━━━━━━━━━━━━━━\u001b[0m\u001b[37m\u001b[0m \u001b[1m1s\u001b[0m 60ms/step - accuracy: 0.7942 - loss: 0.4866\n",
            "Epoch 14/100\n",
            "\u001b[1m7/7\u001b[0m \u001b[32m━━━━━━━━━━━━━━━━━━━━\u001b[0m\u001b[37m\u001b[0m \u001b[1m0s\u001b[0m 56ms/step - accuracy: 0.7756 - loss: 0.4709\n",
            "Epoch 15/100\n",
            "\u001b[1m7/7\u001b[0m \u001b[32m━━━━━━━━━━━━━━━━━━━━\u001b[0m\u001b[37m\u001b[0m \u001b[1m1s\u001b[0m 49ms/step - accuracy: 0.8106 - loss: 0.4620\n",
            "Epoch 16/100\n",
            "\u001b[1m7/7\u001b[0m \u001b[32m━━━━━━━━━━━━━━━━━━━━\u001b[0m\u001b[37m\u001b[0m \u001b[1m0s\u001b[0m 43ms/step - accuracy: 0.8070 - loss: 0.4537\n",
            "Epoch 17/100\n",
            "\u001b[1m7/7\u001b[0m \u001b[32m━━━━━━━━━━━━━━━━━━━━\u001b[0m\u001b[37m\u001b[0m \u001b[1m1s\u001b[0m 61ms/step - accuracy: 0.8057 - loss: 0.4436\n",
            "Epoch 18/100\n",
            "\u001b[1m7/7\u001b[0m \u001b[32m━━━━━━━━━━━━━━━━━━━━\u001b[0m\u001b[37m\u001b[0m \u001b[1m1s\u001b[0m 48ms/step - accuracy: 0.8263 - loss: 0.4329\n",
            "Epoch 19/100\n",
            "\u001b[1m7/7\u001b[0m \u001b[32m━━━━━━━━━━━━━━━━━━━━\u001b[0m\u001b[37m\u001b[0m \u001b[1m0s\u001b[0m 45ms/step - accuracy: 0.8211 - loss: 0.4229\n",
            "Epoch 20/100\n",
            "\u001b[1m7/7\u001b[0m \u001b[32m━━━━━━━━━━━━━━━━━━━━\u001b[0m\u001b[37m\u001b[0m \u001b[1m0s\u001b[0m 43ms/step - accuracy: 0.8280 - loss: 0.4117\n",
            "Epoch 21/100\n",
            "\u001b[1m7/7\u001b[0m \u001b[32m━━━━━━━━━━━━━━━━━━━━\u001b[0m\u001b[37m\u001b[0m \u001b[1m0s\u001b[0m 46ms/step - accuracy: 0.8353 - loss: 0.4076\n",
            "Epoch 22/100\n",
            "\u001b[1m7/7\u001b[0m \u001b[32m━━━━━━━━━━━━━━━━━━━━\u001b[0m\u001b[37m\u001b[0m \u001b[1m1s\u001b[0m 44ms/step - accuracy: 0.8442 - loss: 0.3971\n",
            "Epoch 23/100\n",
            "\u001b[1m7/7\u001b[0m \u001b[32m━━━━━━━━━━━━━━━━━━━━\u001b[0m\u001b[37m\u001b[0m \u001b[1m1s\u001b[0m 60ms/step - accuracy: 0.8492 - loss: 0.3879\n",
            "Epoch 24/100\n",
            "\u001b[1m7/7\u001b[0m \u001b[32m━━━━━━━━━━━━━━━━━━━━\u001b[0m\u001b[37m\u001b[0m \u001b[1m1s\u001b[0m 54ms/step - accuracy: 0.8389 - loss: 0.3854\n",
            "Epoch 25/100\n",
            "\u001b[1m7/7\u001b[0m \u001b[32m━━━━━━━━━━━━━━━━━━━━\u001b[0m\u001b[37m\u001b[0m \u001b[1m1s\u001b[0m 43ms/step - accuracy: 0.8719 - loss: 0.3758\n",
            "Epoch 26/100\n",
            "\u001b[1m7/7\u001b[0m \u001b[32m━━━━━━━━━━━━━━━━━━━━\u001b[0m\u001b[37m\u001b[0m \u001b[1m1s\u001b[0m 68ms/step - accuracy: 0.8690 - loss: 0.3677\n",
            "Epoch 27/100\n",
            "\u001b[1m7/7\u001b[0m \u001b[32m━━━━━━━━━━━━━━━━━━━━\u001b[0m\u001b[37m\u001b[0m \u001b[1m0s\u001b[0m 62ms/step - accuracy: 0.8641 - loss: 0.3586\n",
            "Epoch 28/100\n",
            "\u001b[1m7/7\u001b[0m \u001b[32m━━━━━━━━━━━━━━━━━━━━\u001b[0m\u001b[37m\u001b[0m \u001b[1m0s\u001b[0m 49ms/step - accuracy: 0.8635 - loss: 0.3570\n",
            "Epoch 29/100\n",
            "\u001b[1m7/7\u001b[0m \u001b[32m━━━━━━━━━━━━━━━━━━━━\u001b[0m\u001b[37m\u001b[0m \u001b[1m0s\u001b[0m 44ms/step - accuracy: 0.9006 - loss: 0.3451\n",
            "Epoch 30/100\n",
            "\u001b[1m7/7\u001b[0m \u001b[32m━━━━━━━━━━━━━━━━━━━━\u001b[0m\u001b[37m\u001b[0m \u001b[1m1s\u001b[0m 42ms/step - accuracy: 0.8974 - loss: 0.3322\n",
            "Epoch 31/100\n",
            "\u001b[1m7/7\u001b[0m \u001b[32m━━━━━━━━━━━━━━━━━━━━\u001b[0m\u001b[37m\u001b[0m \u001b[1m1s\u001b[0m 42ms/step - accuracy: 0.9043 - loss: 0.3248\n",
            "Epoch 32/100\n",
            "\u001b[1m7/7\u001b[0m \u001b[32m━━━━━━━━━━━━━━━━━━━━\u001b[0m\u001b[37m\u001b[0m \u001b[1m0s\u001b[0m 47ms/step - accuracy: 0.9062 - loss: 0.3187\n",
            "Epoch 33/100\n",
            "\u001b[1m7/7\u001b[0m \u001b[32m━━━━━━━━━━━━━━━━━━━━\u001b[0m\u001b[37m\u001b[0m \u001b[1m1s\u001b[0m 73ms/step - accuracy: 0.9062 - loss: 0.3107\n",
            "Epoch 34/100\n",
            "\u001b[1m7/7\u001b[0m \u001b[32m━━━━━━━━━━━━━━━━━━━━\u001b[0m\u001b[37m\u001b[0m \u001b[1m1s\u001b[0m 60ms/step - accuracy: 0.9205 - loss: 0.3039\n",
            "Epoch 35/100\n",
            "\u001b[1m7/7\u001b[0m \u001b[32m━━━━━━━━━━━━━━━━━━━━\u001b[0m\u001b[37m\u001b[0m \u001b[1m1s\u001b[0m 61ms/step - accuracy: 0.9205 - loss: 0.2984\n",
            "Epoch 36/100\n",
            "\u001b[1m7/7\u001b[0m \u001b[32m━━━━━━━━━━━━━━━━━━━━\u001b[0m\u001b[37m\u001b[0m \u001b[1m1s\u001b[0m 65ms/step - accuracy: 0.9205 - loss: 0.2914\n",
            "Epoch 37/100\n",
            "\u001b[1m7/7\u001b[0m \u001b[32m━━━━━━━━━━━━━━━━━━━━\u001b[0m\u001b[37m\u001b[0m \u001b[1m1s\u001b[0m 58ms/step - accuracy: 0.9241 - loss: 0.2853\n",
            "Epoch 38/100\n",
            "\u001b[1m7/7\u001b[0m \u001b[32m━━━━━━━━━━━━━━━━━━━━\u001b[0m\u001b[37m\u001b[0m \u001b[1m1s\u001b[0m 76ms/step - accuracy: 0.9253 - loss: 0.2802\n",
            "Epoch 39/100\n",
            "\u001b[1m7/7\u001b[0m \u001b[32m━━━━━━━━━━━━━━━━━━━━\u001b[0m\u001b[37m\u001b[0m \u001b[1m1s\u001b[0m 67ms/step - accuracy: 0.9361 - loss: 0.2715\n",
            "Epoch 40/100\n",
            "\u001b[1m7/7\u001b[0m \u001b[32m━━━━━━━━━━━━━━━━━━━━\u001b[0m\u001b[37m\u001b[0m \u001b[1m1s\u001b[0m 86ms/step - accuracy: 0.9482 - loss: 0.2631\n",
            "Epoch 41/100\n",
            "\u001b[1m7/7\u001b[0m \u001b[32m━━━━━━━━━━━━━━━━━━━━\u001b[0m\u001b[37m\u001b[0m \u001b[1m0s\u001b[0m 58ms/step - accuracy: 0.9482 - loss: 0.2551\n",
            "Epoch 42/100\n",
            "\u001b[1m7/7\u001b[0m \u001b[32m━━━━━━━━━━━━━━━━━━━━\u001b[0m\u001b[37m\u001b[0m \u001b[1m1s\u001b[0m 45ms/step - accuracy: 0.9482 - loss: 0.2455\n",
            "Epoch 43/100\n",
            "\u001b[1m7/7\u001b[0m \u001b[32m━━━━━━━━━━━━━━━━━━━━\u001b[0m\u001b[37m\u001b[0m \u001b[1m0s\u001b[0m 41ms/step - accuracy: 0.9535 - loss: 0.2359\n",
            "Epoch 44/100\n",
            "\u001b[1m7/7\u001b[0m \u001b[32m━━━━━━━━━━━━━━━━━━━━\u001b[0m\u001b[37m\u001b[0m \u001b[1m0s\u001b[0m 45ms/step - accuracy: 0.9553 - loss: 0.2279\n",
            "Epoch 45/100\n",
            "\u001b[1m7/7\u001b[0m \u001b[32m━━━━━━━━━━━━━━━━━━━━\u001b[0m\u001b[37m\u001b[0m \u001b[1m1s\u001b[0m 43ms/step - accuracy: 0.9589 - loss: 0.2192\n",
            "Epoch 46/100\n",
            "\u001b[1m7/7\u001b[0m \u001b[32m━━━━━━━━━━━━━━━━━━━━\u001b[0m\u001b[37m\u001b[0m \u001b[1m0s\u001b[0m 44ms/step - accuracy: 0.9589 - loss: 0.2116\n",
            "Epoch 47/100\n",
            "\u001b[1m7/7\u001b[0m \u001b[32m━━━━━━━━━━━━━━━━━━━━\u001b[0m\u001b[37m\u001b[0m \u001b[1m1s\u001b[0m 80ms/step - accuracy: 0.9615 - loss: 0.2042\n",
            "Epoch 48/100\n",
            "\u001b[1m7/7\u001b[0m \u001b[32m━━━━━━━━━━━━━━━━━━━━\u001b[0m\u001b[37m\u001b[0m \u001b[1m1s\u001b[0m 105ms/step - accuracy: 0.9742 - loss: 0.1968\n",
            "Epoch 49/100\n",
            "\u001b[1m7/7\u001b[0m \u001b[32m━━━━━━━━━━━━━━━━━━━━\u001b[0m\u001b[37m\u001b[0m \u001b[1m1s\u001b[0m 74ms/step - accuracy: 0.9742 - loss: 0.1900\n",
            "Epoch 50/100\n",
            "\u001b[1m7/7\u001b[0m \u001b[32m━━━━━━━━━━━━━━━━━━━━\u001b[0m\u001b[37m\u001b[0m \u001b[1m1s\u001b[0m 71ms/step - accuracy: 0.9837 - loss: 0.1830\n",
            "Epoch 51/100\n",
            "\u001b[1m7/7\u001b[0m \u001b[32m━━━━━━━━━━━━━━━━━━━━\u001b[0m\u001b[37m\u001b[0m \u001b[1m1s\u001b[0m 124ms/step - accuracy: 0.9837 - loss: 0.1771\n",
            "Epoch 52/100\n",
            "\u001b[1m7/7\u001b[0m \u001b[32m━━━━━━━━━━━━━━━━━━━━\u001b[0m\u001b[37m\u001b[0m \u001b[1m1s\u001b[0m 80ms/step - accuracy: 0.9837 - loss: 0.1716\n",
            "Epoch 53/100\n",
            "\u001b[1m7/7\u001b[0m \u001b[32m━━━━━━━━━━━━━━━━━━━━\u001b[0m\u001b[37m\u001b[0m \u001b[1m0s\u001b[0m 46ms/step - accuracy: 0.9837 - loss: 0.1663\n",
            "Epoch 54/100\n",
            "\u001b[1m7/7\u001b[0m \u001b[32m━━━━━━━━━━━━━━━━━━━━\u001b[0m\u001b[37m\u001b[0m \u001b[1m0s\u001b[0m 44ms/step - accuracy: 0.9837 - loss: 0.1614\n",
            "Epoch 55/100\n",
            "\u001b[1m7/7\u001b[0m \u001b[32m━━━━━━━━━━━━━━━━━━━━\u001b[0m\u001b[37m\u001b[0m \u001b[1m1s\u001b[0m 44ms/step - accuracy: 0.9837 - loss: 0.1571\n",
            "Epoch 56/100\n",
            "\u001b[1m7/7\u001b[0m \u001b[32m━━━━━━━━━━━━━━━━━━━━\u001b[0m\u001b[37m\u001b[0m \u001b[1m1s\u001b[0m 42ms/step - accuracy: 0.9837 - loss: 0.1520\n",
            "Epoch 57/100\n",
            "\u001b[1m7/7\u001b[0m \u001b[32m━━━━━━━━━━━━━━━━━━━━\u001b[0m\u001b[37m\u001b[0m \u001b[1m1s\u001b[0m 45ms/step - accuracy: 0.9837 - loss: 0.1485\n",
            "Epoch 58/100\n",
            "\u001b[1m7/7\u001b[0m \u001b[32m━━━━━━━━━━━━━━━━━━━━\u001b[0m\u001b[37m\u001b[0m \u001b[1m1s\u001b[0m 51ms/step - accuracy: 0.9837 - loss: 0.1447\n",
            "Epoch 59/100\n",
            "\u001b[1m7/7\u001b[0m \u001b[32m━━━━━━━━━━━━━━━━━━━━\u001b[0m\u001b[37m\u001b[0m \u001b[1m0s\u001b[0m 65ms/step - accuracy: 0.9837 - loss: 0.1436\n",
            "Epoch 60/100\n",
            "\u001b[1m7/7\u001b[0m \u001b[32m━━━━━━━━━━━━━━━━━━━━\u001b[0m\u001b[37m\u001b[0m \u001b[1m0s\u001b[0m 62ms/step - accuracy: 0.9768 - loss: 0.1434\n",
            "Epoch 61/100\n",
            "\u001b[1m7/7\u001b[0m \u001b[32m━━━━━━━━━━━━━━━━━━━━\u001b[0m\u001b[37m\u001b[0m \u001b[1m1s\u001b[0m 71ms/step - accuracy: 0.9837 - loss: 0.1445\n",
            "Epoch 62/100\n",
            "\u001b[1m7/7\u001b[0m \u001b[32m━━━━━━━━━━━━━━━━━━━━\u001b[0m\u001b[37m\u001b[0m \u001b[1m1s\u001b[0m 66ms/step - accuracy: 0.9837 - loss: 0.1477\n",
            "Epoch 63/100\n",
            "\u001b[1m7/7\u001b[0m \u001b[32m━━━━━━━━━━━━━━━━━━━━\u001b[0m\u001b[37m\u001b[0m \u001b[1m1s\u001b[0m 68ms/step - accuracy: 0.9784 - loss: 0.1500\n",
            "Epoch 64/100\n",
            "\u001b[1m7/7\u001b[0m \u001b[32m━━━━━━━━━━━━━━━━━━━━\u001b[0m\u001b[37m\u001b[0m \u001b[1m1s\u001b[0m 69ms/step - accuracy: 0.9765 - loss: 0.1558\n",
            "Epoch 65/100\n",
            "\u001b[1m7/7\u001b[0m \u001b[32m━━━━━━━━━━━━━━━━━━━━\u001b[0m\u001b[37m\u001b[0m \u001b[1m1s\u001b[0m 84ms/step - accuracy: 0.9739 - loss: 0.1599\n",
            "Epoch 66/100\n",
            "\u001b[1m7/7\u001b[0m \u001b[32m━━━━━━━━━━━━━━━━━━━━\u001b[0m\u001b[37m\u001b[0m \u001b[1m1s\u001b[0m 78ms/step - accuracy: 0.9644 - loss: 0.1626\n",
            "Epoch 67/100\n",
            "\u001b[1m7/7\u001b[0m \u001b[32m━━━━━━━━━━━━━━━━━━━━\u001b[0m\u001b[37m\u001b[0m \u001b[1m1s\u001b[0m 68ms/step - accuracy: 0.9626 - loss: 0.1693\n",
            "Epoch 68/100\n",
            "\u001b[1m7/7\u001b[0m \u001b[32m━━━━━━━━━━━━━━━━━━━━\u001b[0m\u001b[37m\u001b[0m \u001b[1m0s\u001b[0m 56ms/step - accuracy: 0.9660 - loss: 0.1710\n",
            "Epoch 69/100\n",
            "\u001b[1m7/7\u001b[0m \u001b[32m━━━━━━━━━━━━━━━━━━━━\u001b[0m\u001b[37m\u001b[0m \u001b[1m1s\u001b[0m 43ms/step - accuracy: 0.9712 - loss: 0.1538\n",
            "Epoch 70/100\n",
            "\u001b[1m7/7\u001b[0m \u001b[32m━━━━━━━━━━━━━━━━━━━━\u001b[0m\u001b[37m\u001b[0m \u001b[1m1s\u001b[0m 62ms/step - accuracy: 0.9826 - loss: 0.1449\n",
            "Epoch 71/100\n",
            "\u001b[1m7/7\u001b[0m \u001b[32m━━━━━━━━━━━━━━━━━━━━\u001b[0m\u001b[37m\u001b[0m \u001b[1m1s\u001b[0m 56ms/step - accuracy: 0.9779 - loss: 0.1288\n",
            "Epoch 72/100\n",
            "\u001b[1m7/7\u001b[0m \u001b[32m━━━━━━━━━━━━━━━━━━━━\u001b[0m\u001b[37m\u001b[0m \u001b[1m0s\u001b[0m 43ms/step - accuracy: 0.9441 - loss: 0.1551\n",
            "Epoch 73/100\n",
            "\u001b[1m7/7\u001b[0m \u001b[32m━━━━━━━━━━━━━━━━━━━━\u001b[0m\u001b[37m\u001b[0m \u001b[1m1s\u001b[0m 45ms/step - accuracy: 0.8533 - loss: 0.2768\n",
            "Epoch 74/100\n",
            "\u001b[1m7/7\u001b[0m \u001b[32m━━━━━━━━━━━━━━━━━━━━\u001b[0m\u001b[37m\u001b[0m \u001b[1m0s\u001b[0m 43ms/step - accuracy: 0.7966 - loss: 0.4229\n",
            "Epoch 75/100\n",
            "\u001b[1m7/7\u001b[0m \u001b[32m━━━━━━━━━━━━━━━━━━━━\u001b[0m\u001b[37m\u001b[0m \u001b[1m1s\u001b[0m 46ms/step - accuracy: 0.8197 - loss: 0.3856\n",
            "Epoch 76/100\n",
            "\u001b[1m7/7\u001b[0m \u001b[32m━━━━━━━━━━━━━━━━━━━━\u001b[0m\u001b[37m\u001b[0m \u001b[1m0s\u001b[0m 59ms/step - accuracy: 0.8990 - loss: 0.2220\n",
            "Epoch 77/100\n",
            "\u001b[1m7/7\u001b[0m \u001b[32m━━━━━━━━━━━━━━━━━━━━\u001b[0m\u001b[37m\u001b[0m \u001b[1m1s\u001b[0m 69ms/step - accuracy: 0.9183 - loss: 0.1777\n",
            "Epoch 78/100\n",
            "\u001b[1m7/7\u001b[0m \u001b[32m━━━━━━━━━━━━━━━━━━━━\u001b[0m\u001b[37m\u001b[0m \u001b[1m0s\u001b[0m 58ms/step - accuracy: 0.8872 - loss: 0.2479\n",
            "Epoch 79/100\n",
            "\u001b[1m7/7\u001b[0m \u001b[32m━━━━━━━━━━━━━━━━━━━━\u001b[0m\u001b[37m\u001b[0m \u001b[1m0s\u001b[0m 63ms/step - accuracy: 0.9322 - loss: 0.2028\n",
            "Epoch 80/100\n",
            "\u001b[1m7/7\u001b[0m \u001b[32m━━━━━━━━━━━━━━━━━━━━\u001b[0m\u001b[37m\u001b[0m \u001b[1m1s\u001b[0m 58ms/step - accuracy: 0.9787 - loss: 0.1045\n",
            "Epoch 81/100\n",
            "\u001b[1m7/7\u001b[0m \u001b[32m━━━━━━━━━━━━━━━━━━━━\u001b[0m\u001b[37m\u001b[0m \u001b[1m0s\u001b[0m 62ms/step - accuracy: 0.9797 - loss: 0.0994\n",
            "Epoch 82/100\n",
            "\u001b[1m7/7\u001b[0m \u001b[32m━━━━━━━━━━━━━━━━━━━━\u001b[0m\u001b[37m\u001b[0m \u001b[1m0s\u001b[0m 45ms/step - accuracy: 0.9931 - loss: 0.0715\n",
            "Epoch 83/100\n",
            "\u001b[1m7/7\u001b[0m \u001b[32m━━━━━━━━━━━━━━━━━━━━\u001b[0m\u001b[37m\u001b[0m \u001b[1m1s\u001b[0m 44ms/step - accuracy: 0.9931 - loss: 0.0707\n",
            "Epoch 84/100\n",
            "\u001b[1m7/7\u001b[0m \u001b[32m━━━━━━━━━━━━━━━━━━━━\u001b[0m\u001b[37m\u001b[0m \u001b[1m1s\u001b[0m 42ms/step - accuracy: 0.9905 - loss: 0.0648\n",
            "Epoch 85/100\n",
            "\u001b[1m7/7\u001b[0m \u001b[32m━━━━━━━━━━━━━━━━━━━━\u001b[0m\u001b[37m\u001b[0m \u001b[1m0s\u001b[0m 49ms/step - accuracy: 1.0000 - loss: 0.0628\n",
            "Epoch 86/100\n",
            "\u001b[1m7/7\u001b[0m \u001b[32m━━━━━━━━━━━━━━━━━━━━\u001b[0m\u001b[37m\u001b[0m \u001b[1m1s\u001b[0m 44ms/step - accuracy: 0.9931 - loss: 0.0603\n",
            "Epoch 87/100\n",
            "\u001b[1m7/7\u001b[0m \u001b[32m━━━━━━━━━━━━━━━━━━━━\u001b[0m\u001b[37m\u001b[0m \u001b[1m1s\u001b[0m 66ms/step - accuracy: 0.9931 - loss: 0.0591\n",
            "Epoch 88/100\n",
            "\u001b[1m7/7\u001b[0m \u001b[32m━━━━━━━━━━━━━━━━━━━━\u001b[0m\u001b[37m\u001b[0m \u001b[1m0s\u001b[0m 59ms/step - accuracy: 1.0000 - loss: 0.0572\n",
            "Epoch 89/100\n",
            "\u001b[1m7/7\u001b[0m \u001b[32m━━━━━━━━━━━━━━━━━━━━\u001b[0m\u001b[37m\u001b[0m \u001b[1m1s\u001b[0m 85ms/step - accuracy: 1.0000 - loss: 0.0558\n",
            "Epoch 90/100\n",
            "\u001b[1m7/7\u001b[0m \u001b[32m━━━━━━━━━━━━━━━━━━━━\u001b[0m\u001b[37m\u001b[0m \u001b[1m1s\u001b[0m 67ms/step - accuracy: 1.0000 - loss: 0.0546\n",
            "Epoch 91/100\n",
            "\u001b[1m7/7\u001b[0m \u001b[32m━━━━━━━━━━━━━━━━━━━━\u001b[0m\u001b[37m\u001b[0m \u001b[1m1s\u001b[0m 67ms/step - accuracy: 1.0000 - loss: 0.0534\n",
            "Epoch 92/100\n",
            "\u001b[1m7/7\u001b[0m \u001b[32m━━━━━━━━━━━━━━━━━━━━\u001b[0m\u001b[37m\u001b[0m \u001b[1m1s\u001b[0m 63ms/step - accuracy: 1.0000 - loss: 0.0521\n",
            "Epoch 93/100\n",
            "\u001b[1m7/7\u001b[0m \u001b[32m━━━━━━━━━━━━━━━━━━━━\u001b[0m\u001b[37m\u001b[0m \u001b[1m1s\u001b[0m 69ms/step - accuracy: 1.0000 - loss: 0.0509\n",
            "Epoch 94/100\n",
            "\u001b[1m7/7\u001b[0m \u001b[32m━━━━━━━━━━━━━━━━━━━━\u001b[0m\u001b[37m\u001b[0m \u001b[1m0s\u001b[0m 43ms/step - accuracy: 1.0000 - loss: 0.0499\n",
            "Epoch 95/100\n",
            "\u001b[1m7/7\u001b[0m \u001b[32m━━━━━━━━━━━━━━━━━━━━\u001b[0m\u001b[37m\u001b[0m \u001b[1m1s\u001b[0m 63ms/step - accuracy: 1.0000 - loss: 0.0488\n",
            "Epoch 96/100\n",
            "\u001b[1m7/7\u001b[0m \u001b[32m━━━━━━━━━━━━━━━━━━━━\u001b[0m\u001b[37m\u001b[0m \u001b[1m1s\u001b[0m 49ms/step - accuracy: 1.0000 - loss: 0.0476\n",
            "Epoch 97/100\n",
            "\u001b[1m7/7\u001b[0m \u001b[32m━━━━━━━━━━━━━━━━━━━━\u001b[0m\u001b[37m\u001b[0m \u001b[1m1s\u001b[0m 44ms/step - accuracy: 1.0000 - loss: 0.0467\n",
            "Epoch 98/100\n",
            "\u001b[1m7/7\u001b[0m \u001b[32m━━━━━━━━━━━━━━━━━━━━\u001b[0m\u001b[37m\u001b[0m \u001b[1m0s\u001b[0m 41ms/step - accuracy: 1.0000 - loss: 0.0458\n",
            "Epoch 99/100\n",
            "\u001b[1m7/7\u001b[0m \u001b[32m━━━━━━━━━━━━━━━━━━━━\u001b[0m\u001b[37m\u001b[0m \u001b[1m0s\u001b[0m 50ms/step - accuracy: 1.0000 - loss: 0.0447\n",
            "Epoch 100/100\n",
            "\u001b[1m7/7\u001b[0m \u001b[32m━━━━━━━━━━━━━━━━━━━━\u001b[0m\u001b[37m\u001b[0m \u001b[1m1s\u001b[0m 41ms/step - accuracy: 1.0000 - loss: 0.0438\n",
            "\u001b[1m7/7\u001b[0m \u001b[32m━━━━━━━━━━━━━━━━━━━━\u001b[0m\u001b[37m\u001b[0m \u001b[1m0s\u001b[0m 17ms/step\n",
            "\u001b[1m2/2\u001b[0m \u001b[32m━━━━━━━━━━━━━━━━━━━━\u001b[0m\u001b[37m\u001b[0m \u001b[1m0s\u001b[0m 37ms/step\n",
            "\n",
            "\n",
            "Acurácia no treino: 1.0\n",
            "Acurácia no teste: 0.78\n"
          ]
        }
      ],
      "source": [
        "np.random.seed(1)\n",
        "tf.random.set_seed(1)\n",
        "\n",
        "# Criando o modelo\n",
        "m2 = modelo_2() # ToDo: chame a função que define o modelo\n",
        "# Treinando o modelo\n",
        "m2 = treinar_modelo(m2, treino_x, treino_y) # ToDo: Chame a função para treinar o modelo\n",
        "\n",
        "previsoes_treino = np.round(m2.predict(treino_x))\n",
        "previsoes_test = np.round(m2.predict(teste_x))\n",
        "\n",
        "## Predição da rede\n",
        "print(f'\\n\\nAcurácia no treino: {accuracy_score(treino_y.reshape(-1), previsoes_treino)}') # ToDo: Utilize a função accuracy_score do sklearn para calcular a acurácia nos dados de treino\n",
        "                                         # **dica** use o model.predict para predizer os dados e use o reshape com -1 nos labels\n",
        "print(f'Acurácia no teste: {accuracy_score(teste_y.reshape(-1), previsoes_test)}') # ToDo: Utilize a função accuracy_score do sklearn para calcular a acurácia nos dados de teste\n",
        "                                    # **dica** use o model.predict para predizer os dados e use o reshape com -1 nos labels"
      ]
    },
    {
      "cell_type": "markdown",
      "metadata": {
        "id": "G4NNkkOoZrYZ"
      },
      "source": [
        "**Resultado esperado:** (pode ser diferente)\n",
        "\n",
        "```\n",
        "  Acurácia treino = 100.00%\n",
        "  Acurácia teste = 70%\n",
        "```"
      ]
    },
    {
      "cell_type": "markdown",
      "metadata": {
        "id": "A_OovF79qCJ-"
      },
      "source": [
        "### Análise dos resultados (5pt)"
      ]
    },
    {
      "cell_type": "markdown",
      "metadata": {
        "id": "3bWjvsXnqJZ3"
      },
      "source": [
        "**ToDo:** Por que você obteve 100% no treino e apenas 80% no teste no segundo modelo e resultados piores no primeiro modelo?\n",
        "\n",
        "```\n",
        "Isso pode acontecer por causa do overfitting, o segundo modelo aprendeu muito bem os padrões dos dados de treino, com isso o desempenho no treino fica perfeito, quando joga dados novos pra testar ele n consegue manter a mesma precisão. Já o primeiro modelo teve um desempenho pior porque talvez sua arquitetura fosse muito simples e incapaz de capturar padrões mais complexos nos dados.\n",
        "```"
      ]
    },
    {
      "cell_type": "markdown",
      "metadata": {
        "id": "1dMTm9d1Flqe"
      },
      "source": [
        "## Modelo 3: Testando com uma rede com três camadas ocultas (15pt)"
      ]
    },
    {
      "cell_type": "markdown",
      "metadata": {
        "id": "8xolDfsKi1Rd"
      },
      "source": [
        "### Definição do modelo (10pt)"
      ]
    },
    {
      "cell_type": "code",
      "execution_count": null,
      "metadata": {
        "id": "yP05rGI_aeed"
      },
      "outputs": [],
      "source": [
        "# Definição do modelo\n",
        "def modelo_3():\n",
        "  _model = tf.keras.models.Sequential() # Crie um modelo sequencial com keras.Sequential\n",
        "  _model.add(tf.keras.layers.Dense(256,activation = 'relu')) # ToDo: Adicione uma camada densa com 8 neurônios e ativação relu\n",
        "  _model.add(tf.keras.layers.Dense(64,activation = 'relu')) # ToDo: Adicione uma camada densa com 8 neurônios e ativação relu\n",
        "  _model.add(tf.keras.layers.Dense(8,activation = 'relu')) # ToDo: Adicione uma camada densa com 8 neurônios e ativação relu\n",
        "  _model.add(tf.keras.layers.Dense(1,activation = 'sigmoid')) # ToDo: Adicione uma camada densa com 1 neurônio e ativação sigmoid **dica** use a classe keras.layers.Dense\n",
        "\n",
        "  return _model"
      ]
    },
    {
      "cell_type": "markdown",
      "metadata": {
        "id": "vpn2HjyNaeed"
      },
      "source": [
        "Crie um modelo com três camadas ocultas e a camada de saída com um neurônio.\n",
        "Você deve seguir a seguinte estrutura:\n",
        "1. Camada oculta 1 - 256 neurônios e ativação ReLU.\n",
        "2. Camada oculta 2 - 64 neurônios e ativação ReLU.\n",
        "3. Camada oculta 3 - 8 neurônios e ativação ReLU.\n",
        "4. Camada de saída - 1 neurônio e ativação sigmoid."
      ]
    },
    {
      "cell_type": "markdown",
      "metadata": {
        "id": "L6TAHVz7aeee"
      },
      "source": [
        "Agora treine e teste o seu modelo."
      ]
    },
    {
      "cell_type": "code",
      "execution_count": null,
      "metadata": {
        "colab": {
          "base_uri": "https://localhost:8080/",
          "height": 1000
        },
        "id": "_YJDtVxnaeee",
        "outputId": "6d1b50fd-7506-4e43-8ad5-c068fa1c75f7"
      },
      "outputs": [
        {
          "output_type": "display_data",
          "data": {
            "text/plain": [
              "\u001b[1mModel: \"sequential_2\"\u001b[0m\n"
            ],
            "text/html": [
              "<pre style=\"white-space:pre;overflow-x:auto;line-height:normal;font-family:Menlo,'DejaVu Sans Mono',consolas,'Courier New',monospace\"><span style=\"font-weight: bold\">Model: \"sequential_2\"</span>\n",
              "</pre>\n"
            ]
          },
          "metadata": {}
        },
        {
          "output_type": "display_data",
          "data": {
            "text/plain": [
              "┏━━━━━━━━━━━━━━━━━━━━━━━━━━━━━━━━━━━━━━┳━━━━━━━━━━━━━━━━━━━━━━━━━━━━━┳━━━━━━━━━━━━━━━━━┓\n",
              "┃\u001b[1m \u001b[0m\u001b[1mLayer (type)                        \u001b[0m\u001b[1m \u001b[0m┃\u001b[1m \u001b[0m\u001b[1mOutput Shape               \u001b[0m\u001b[1m \u001b[0m┃\u001b[1m \u001b[0m\u001b[1m        Param #\u001b[0m\u001b[1m \u001b[0m┃\n",
              "┡━━━━━━━━━━━━━━━━━━━━━━━━━━━━━━━━━━━━━━╇━━━━━━━━━━━━━━━━━━━━━━━━━━━━━╇━━━━━━━━━━━━━━━━━┩\n",
              "│ dense_4 (\u001b[38;5;33mDense\u001b[0m)                      │ ?                           │     \u001b[38;5;34m0\u001b[0m (unbuilt) │\n",
              "├──────────────────────────────────────┼─────────────────────────────┼─────────────────┤\n",
              "│ dense_5 (\u001b[38;5;33mDense\u001b[0m)                      │ ?                           │     \u001b[38;5;34m0\u001b[0m (unbuilt) │\n",
              "├──────────────────────────────────────┼─────────────────────────────┼─────────────────┤\n",
              "│ dense_6 (\u001b[38;5;33mDense\u001b[0m)                      │ ?                           │     \u001b[38;5;34m0\u001b[0m (unbuilt) │\n",
              "├──────────────────────────────────────┼─────────────────────────────┼─────────────────┤\n",
              "│ dense_7 (\u001b[38;5;33mDense\u001b[0m)                      │ ?                           │     \u001b[38;5;34m0\u001b[0m (unbuilt) │\n",
              "└──────────────────────────────────────┴─────────────────────────────┴─────────────────┘\n"
            ],
            "text/html": [
              "<pre style=\"white-space:pre;overflow-x:auto;line-height:normal;font-family:Menlo,'DejaVu Sans Mono',consolas,'Courier New',monospace\">┏━━━━━━━━━━━━━━━━━━━━━━━━━━━━━━━━━━━━━━┳━━━━━━━━━━━━━━━━━━━━━━━━━━━━━┳━━━━━━━━━━━━━━━━━┓\n",
              "┃<span style=\"font-weight: bold\"> Layer (type)                         </span>┃<span style=\"font-weight: bold\"> Output Shape                </span>┃<span style=\"font-weight: bold\">         Param # </span>┃\n",
              "┡━━━━━━━━━━━━━━━━━━━━━━━━━━━━━━━━━━━━━━╇━━━━━━━━━━━━━━━━━━━━━━━━━━━━━╇━━━━━━━━━━━━━━━━━┩\n",
              "│ dense_4 (<span style=\"color: #0087ff; text-decoration-color: #0087ff\">Dense</span>)                      │ ?                           │     <span style=\"color: #00af00; text-decoration-color: #00af00\">0</span> (unbuilt) │\n",
              "├──────────────────────────────────────┼─────────────────────────────┼─────────────────┤\n",
              "│ dense_5 (<span style=\"color: #0087ff; text-decoration-color: #0087ff\">Dense</span>)                      │ ?                           │     <span style=\"color: #00af00; text-decoration-color: #00af00\">0</span> (unbuilt) │\n",
              "├──────────────────────────────────────┼─────────────────────────────┼─────────────────┤\n",
              "│ dense_6 (<span style=\"color: #0087ff; text-decoration-color: #0087ff\">Dense</span>)                      │ ?                           │     <span style=\"color: #00af00; text-decoration-color: #00af00\">0</span> (unbuilt) │\n",
              "├──────────────────────────────────────┼─────────────────────────────┼─────────────────┤\n",
              "│ dense_7 (<span style=\"color: #0087ff; text-decoration-color: #0087ff\">Dense</span>)                      │ ?                           │     <span style=\"color: #00af00; text-decoration-color: #00af00\">0</span> (unbuilt) │\n",
              "└──────────────────────────────────────┴─────────────────────────────┴─────────────────┘\n",
              "</pre>\n"
            ]
          },
          "metadata": {}
        },
        {
          "output_type": "display_data",
          "data": {
            "text/plain": [
              "\u001b[1m Total params: \u001b[0m\u001b[38;5;34m0\u001b[0m (0.00 B)\n"
            ],
            "text/html": [
              "<pre style=\"white-space:pre;overflow-x:auto;line-height:normal;font-family:Menlo,'DejaVu Sans Mono',consolas,'Courier New',monospace\"><span style=\"font-weight: bold\"> Total params: </span><span style=\"color: #00af00; text-decoration-color: #00af00\">0</span> (0.00 B)\n",
              "</pre>\n"
            ]
          },
          "metadata": {}
        },
        {
          "output_type": "display_data",
          "data": {
            "text/plain": [
              "\u001b[1m Trainable params: \u001b[0m\u001b[38;5;34m0\u001b[0m (0.00 B)\n"
            ],
            "text/html": [
              "<pre style=\"white-space:pre;overflow-x:auto;line-height:normal;font-family:Menlo,'DejaVu Sans Mono',consolas,'Courier New',monospace\"><span style=\"font-weight: bold\"> Trainable params: </span><span style=\"color: #00af00; text-decoration-color: #00af00\">0</span> (0.00 B)\n",
              "</pre>\n"
            ]
          },
          "metadata": {}
        },
        {
          "output_type": "display_data",
          "data": {
            "text/plain": [
              "\u001b[1m Non-trainable params: \u001b[0m\u001b[38;5;34m0\u001b[0m (0.00 B)\n"
            ],
            "text/html": [
              "<pre style=\"white-space:pre;overflow-x:auto;line-height:normal;font-family:Menlo,'DejaVu Sans Mono',consolas,'Courier New',monospace\"><span style=\"font-weight: bold\"> Non-trainable params: </span><span style=\"color: #00af00; text-decoration-color: #00af00\">0</span> (0.00 B)\n",
              "</pre>\n"
            ]
          },
          "metadata": {}
        },
        {
          "output_type": "stream",
          "name": "stdout",
          "text": [
            "Epoch 1/100\n",
            "\u001b[1m7/7\u001b[0m \u001b[32m━━━━━━━━━━━━━━━━━━━━\u001b[0m\u001b[37m\u001b[0m \u001b[1m3s\u001b[0m 44ms/step - accuracy: 0.5772 - loss: 1.7127\n",
            "Epoch 2/100\n",
            "\u001b[1m7/7\u001b[0m \u001b[32m━━━━━━━━━━━━━━━━━━━━\u001b[0m\u001b[37m\u001b[0m \u001b[1m1s\u001b[0m 44ms/step - accuracy: 0.6502 - loss: 0.7955\n",
            "Epoch 3/100\n",
            "\u001b[1m7/7\u001b[0m \u001b[32m━━━━━━━━━━━━━━━━━━━━\u001b[0m\u001b[37m\u001b[0m \u001b[1m0s\u001b[0m 43ms/step - accuracy: 0.6079 - loss: 1.1520\n",
            "Epoch 4/100\n",
            "\u001b[1m7/7\u001b[0m \u001b[32m━━━━━━━━━━━━━━━━━━━━\u001b[0m\u001b[37m\u001b[0m \u001b[1m0s\u001b[0m 47ms/step - accuracy: 0.6216 - loss: 0.8727\n",
            "Epoch 5/100\n",
            "\u001b[1m7/7\u001b[0m \u001b[32m━━━━━━━━━━━━━━━━━━━━\u001b[0m\u001b[37m\u001b[0m \u001b[1m1s\u001b[0m 45ms/step - accuracy: 0.6605 - loss: 0.7479\n",
            "Epoch 6/100\n",
            "\u001b[1m7/7\u001b[0m \u001b[32m━━━━━━━━━━━━━━━━━━━━\u001b[0m\u001b[37m\u001b[0m \u001b[1m1s\u001b[0m 44ms/step - accuracy: 0.6220 - loss: 0.7171\n",
            "Epoch 7/100\n",
            "\u001b[1m7/7\u001b[0m \u001b[32m━━━━━━━━━━━━━━━━━━━━\u001b[0m\u001b[37m\u001b[0m \u001b[1m0s\u001b[0m 43ms/step - accuracy: 0.6278 - loss: 0.6776\n",
            "Epoch 8/100\n",
            "\u001b[1m7/7\u001b[0m \u001b[32m━━━━━━━━━━━━━━━━━━━━\u001b[0m\u001b[37m\u001b[0m \u001b[1m0s\u001b[0m 47ms/step - accuracy: 0.6979 - loss: 0.5801\n",
            "Epoch 9/100\n",
            "\u001b[1m7/7\u001b[0m \u001b[32m━━━━━━━━━━━━━━━━━━━━\u001b[0m\u001b[37m\u001b[0m \u001b[1m0s\u001b[0m 64ms/step - accuracy: 0.7479 - loss: 0.5214\n",
            "Epoch 10/100\n",
            "\u001b[1m7/7\u001b[0m \u001b[32m━━━━━━━━━━━━━━━━━━━━\u001b[0m\u001b[37m\u001b[0m \u001b[1m1s\u001b[0m 64ms/step - accuracy: 0.7809 - loss: 0.5086\n",
            "Epoch 11/100\n",
            "\u001b[1m7/7\u001b[0m \u001b[32m━━━━━━━━━━━━━━━━━━━━\u001b[0m\u001b[37m\u001b[0m \u001b[1m1s\u001b[0m 62ms/step - accuracy: 0.7669 - loss: 0.4996\n",
            "Epoch 12/100\n",
            "\u001b[1m7/7\u001b[0m \u001b[32m━━━━━━━━━━━━━━━━━━━━\u001b[0m\u001b[37m\u001b[0m \u001b[1m1s\u001b[0m 60ms/step - accuracy: 0.7690 - loss: 0.4970\n",
            "Epoch 13/100\n",
            "\u001b[1m7/7\u001b[0m \u001b[32m━━━━━━━━━━━━━━━━━━━━\u001b[0m\u001b[37m\u001b[0m \u001b[1m1s\u001b[0m 62ms/step - accuracy: 0.7840 - loss: 0.4904\n",
            "Epoch 14/100\n",
            "\u001b[1m7/7\u001b[0m \u001b[32m━━━━━━━━━━━━━━━━━━━━\u001b[0m\u001b[37m\u001b[0m \u001b[1m0s\u001b[0m 64ms/step - accuracy: 0.7858 - loss: 0.4851\n",
            "Epoch 15/100\n",
            "\u001b[1m7/7\u001b[0m \u001b[32m━━━━━━━━━━━━━━━━━━━━\u001b[0m\u001b[37m\u001b[0m \u001b[1m1s\u001b[0m 72ms/step - accuracy: 0.7684 - loss: 0.4781\n",
            "Epoch 16/100\n",
            "\u001b[1m7/7\u001b[0m \u001b[32m━━━━━━━━━━━━━━━━━━━━\u001b[0m\u001b[37m\u001b[0m \u001b[1m1s\u001b[0m 73ms/step - accuracy: 0.7276 - loss: 0.5168\n",
            "Epoch 17/100\n",
            "\u001b[1m7/7\u001b[0m \u001b[32m━━━━━━━━━━━━━━━━━━━━\u001b[0m\u001b[37m\u001b[0m \u001b[1m1s\u001b[0m 70ms/step - accuracy: 0.7190 - loss: 0.5493\n",
            "Epoch 18/100\n",
            "\u001b[1m7/7\u001b[0m \u001b[32m━━━━━━━━━━━━━━━━━━━━\u001b[0m\u001b[37m\u001b[0m \u001b[1m0s\u001b[0m 64ms/step - accuracy: 0.7408 - loss: 0.5009\n",
            "Epoch 19/100\n",
            "\u001b[1m7/7\u001b[0m \u001b[32m━━━━━━━━━━━━━━━━━━━━\u001b[0m\u001b[37m\u001b[0m \u001b[1m0s\u001b[0m 45ms/step - accuracy: 0.7960 - loss: 0.4330\n",
            "Epoch 20/100\n",
            "\u001b[1m7/7\u001b[0m \u001b[32m━━━━━━━━━━━━━━━━━━━━\u001b[0m\u001b[37m\u001b[0m \u001b[1m0s\u001b[0m 44ms/step - accuracy: 0.8418 - loss: 0.3958\n",
            "Epoch 21/100\n",
            "\u001b[1m7/7\u001b[0m \u001b[32m━━━━━━━━━━━━━━━━━━━━\u001b[0m\u001b[37m\u001b[0m \u001b[1m1s\u001b[0m 44ms/step - accuracy: 0.8409 - loss: 0.3928\n",
            "Epoch 22/100\n",
            "\u001b[1m7/7\u001b[0m \u001b[32m━━━━━━━━━━━━━━━━━━━━\u001b[0m\u001b[37m\u001b[0m \u001b[1m1s\u001b[0m 41ms/step - accuracy: 0.8408 - loss: 0.3597\n",
            "Epoch 23/100\n",
            "\u001b[1m7/7\u001b[0m \u001b[32m━━━━━━━━━━━━━━━━━━━━\u001b[0m\u001b[37m\u001b[0m \u001b[1m1s\u001b[0m 44ms/step - accuracy: 0.8676 - loss: 0.3426\n",
            "Epoch 24/100\n",
            "\u001b[1m7/7\u001b[0m \u001b[32m━━━━━━━━━━━━━━━━━━━━\u001b[0m\u001b[37m\u001b[0m \u001b[1m1s\u001b[0m 45ms/step - accuracy: 0.8625 - loss: 0.3388\n",
            "Epoch 25/100\n",
            "\u001b[1m7/7\u001b[0m \u001b[32m━━━━━━━━━━━━━━━━━━━━\u001b[0m\u001b[37m\u001b[0m \u001b[1m0s\u001b[0m 45ms/step - accuracy: 0.8746 - loss: 0.3377\n",
            "Epoch 26/100\n",
            "\u001b[1m7/7\u001b[0m \u001b[32m━━━━━━━━━━━━━━━━━━━━\u001b[0m\u001b[37m\u001b[0m \u001b[1m1s\u001b[0m 46ms/step - accuracy: 0.8546 - loss: 0.3422\n",
            "Epoch 27/100\n",
            "\u001b[1m7/7\u001b[0m \u001b[32m━━━━━━━━━━━━━━━━━━━━\u001b[0m\u001b[37m\u001b[0m \u001b[1m0s\u001b[0m 44ms/step - accuracy: 0.9090 - loss: 0.2683\n",
            "Epoch 28/100\n",
            "\u001b[1m7/7\u001b[0m \u001b[32m━━━━━━━━━━━━━━━━━━━━\u001b[0m\u001b[37m\u001b[0m \u001b[1m1s\u001b[0m 43ms/step - accuracy: 0.9036 - loss: 0.2745\n",
            "Epoch 29/100\n",
            "\u001b[1m7/7\u001b[0m \u001b[32m━━━━━━━━━━━━━━━━━━━━\u001b[0m\u001b[37m\u001b[0m \u001b[1m1s\u001b[0m 58ms/step - accuracy: 0.8954 - loss: 0.2903\n",
            "Epoch 30/100\n",
            "\u001b[1m7/7\u001b[0m \u001b[32m━━━━━━━━━━━━━━━━━━━━\u001b[0m\u001b[37m\u001b[0m \u001b[1m0s\u001b[0m 64ms/step - accuracy: 0.8751 - loss: 0.3106\n",
            "Epoch 31/100\n",
            "\u001b[1m7/7\u001b[0m \u001b[32m━━━━━━━━━━━━━━━━━━━━\u001b[0m\u001b[37m\u001b[0m \u001b[1m0s\u001b[0m 44ms/step - accuracy: 0.8900 - loss: 0.2874\n",
            "Epoch 32/100\n",
            "\u001b[1m7/7\u001b[0m \u001b[32m━━━━━━━━━━━━━━━━━━━━\u001b[0m\u001b[37m\u001b[0m \u001b[1m0s\u001b[0m 42ms/step - accuracy: 0.8978 - loss: 0.2928\n",
            "Epoch 33/100\n",
            "\u001b[1m7/7\u001b[0m \u001b[32m━━━━━━━━━━━━━━━━━━━━\u001b[0m\u001b[37m\u001b[0m \u001b[1m1s\u001b[0m 54ms/step - accuracy: 0.9444 - loss: 0.2381\n",
            "Epoch 34/100\n",
            "\u001b[1m7/7\u001b[0m \u001b[32m━━━━━━━━━━━━━━━━━━━━\u001b[0m\u001b[37m\u001b[0m \u001b[1m1s\u001b[0m 66ms/step - accuracy: 0.9453 - loss: 0.2084\n",
            "Epoch 35/100\n",
            "\u001b[1m7/7\u001b[0m \u001b[32m━━━━━━━━━━━━━━━━━━━━\u001b[0m\u001b[37m\u001b[0m \u001b[1m1s\u001b[0m 57ms/step - accuracy: 0.9319 - loss: 0.1930\n",
            "Epoch 36/100\n",
            "\u001b[1m7/7\u001b[0m \u001b[32m━━━━━━━━━━━━━━━━━━━━\u001b[0m\u001b[37m\u001b[0m \u001b[1m0s\u001b[0m 64ms/step - accuracy: 0.8843 - loss: 0.2379\n",
            "Epoch 37/100\n",
            "\u001b[1m7/7\u001b[0m \u001b[32m━━━━━━━━━━━━━━━━━━━━\u001b[0m\u001b[37m\u001b[0m \u001b[1m0s\u001b[0m 42ms/step - accuracy: 0.8177 - loss: 0.3557\n",
            "Epoch 38/100\n",
            "\u001b[1m7/7\u001b[0m \u001b[32m━━━━━━━━━━━━━━━━━━━━\u001b[0m\u001b[37m\u001b[0m \u001b[1m1s\u001b[0m 73ms/step - accuracy: 0.8081 - loss: 0.3660\n",
            "Epoch 39/100\n",
            "\u001b[1m7/7\u001b[0m \u001b[32m━━━━━━━━━━━━━━━━━━━━\u001b[0m\u001b[37m\u001b[0m \u001b[1m1s\u001b[0m 79ms/step - accuracy: 0.9136 - loss: 0.1927\n",
            "Epoch 40/100\n",
            "\u001b[1m7/7\u001b[0m \u001b[32m━━━━━━━━━━━━━━━━━━━━\u001b[0m\u001b[37m\u001b[0m \u001b[1m1s\u001b[0m 69ms/step - accuracy: 0.9138 - loss: 0.1838\n",
            "Epoch 41/100\n",
            "\u001b[1m7/7\u001b[0m \u001b[32m━━━━━━━━━━━━━━━━━━━━\u001b[0m\u001b[37m\u001b[0m \u001b[1m1s\u001b[0m 64ms/step - accuracy: 0.9468 - loss: 0.1735\n",
            "Epoch 42/100\n",
            "\u001b[1m7/7\u001b[0m \u001b[32m━━━━━━━━━━━━━━━━━━━━\u001b[0m\u001b[37m\u001b[0m \u001b[1m1s\u001b[0m 62ms/step - accuracy: 0.9622 - loss: 0.1585\n",
            "Epoch 43/100\n",
            "\u001b[1m7/7\u001b[0m \u001b[32m━━━━━━━━━━━━━━━━━━━━\u001b[0m\u001b[37m\u001b[0m \u001b[1m1s\u001b[0m 71ms/step - accuracy: 0.9680 - loss: 0.1223\n",
            "Epoch 44/100\n",
            "\u001b[1m7/7\u001b[0m \u001b[32m━━━━━━━━━━━━━━━━━━━━\u001b[0m\u001b[37m\u001b[0m \u001b[1m1s\u001b[0m 59ms/step - accuracy: 0.9765 - loss: 0.0980\n",
            "Epoch 45/100\n",
            "\u001b[1m7/7\u001b[0m \u001b[32m━━━━━━━━━━━━━━━━━━━━\u001b[0m\u001b[37m\u001b[0m \u001b[1m1s\u001b[0m 67ms/step - accuracy: 0.9863 - loss: 0.0759\n",
            "Epoch 46/100\n",
            "\u001b[1m7/7\u001b[0m \u001b[32m━━━━━━━━━━━━━━━━━━━━\u001b[0m\u001b[37m\u001b[0m \u001b[1m0s\u001b[0m 42ms/step - accuracy: 0.9947 - loss: 0.0805\n",
            "Epoch 47/100\n",
            "\u001b[1m7/7\u001b[0m \u001b[32m━━━━━━━━━━━━━━━━━━━━\u001b[0m\u001b[37m\u001b[0m \u001b[1m0s\u001b[0m 48ms/step - accuracy: 0.9624 - loss: 0.1060\n",
            "Epoch 48/100\n",
            "\u001b[1m7/7\u001b[0m \u001b[32m━━━━━━━━━━━━━━━━━━━━\u001b[0m\u001b[37m\u001b[0m \u001b[1m0s\u001b[0m 46ms/step - accuracy: 0.9337 - loss: 0.1574\n",
            "Epoch 49/100\n",
            "\u001b[1m7/7\u001b[0m \u001b[32m━━━━━━━━━━━━━━━━━━━━\u001b[0m\u001b[37m\u001b[0m \u001b[1m1s\u001b[0m 45ms/step - accuracy: 0.9084 - loss: 0.2064\n",
            "Epoch 50/100\n",
            "\u001b[1m7/7\u001b[0m \u001b[32m━━━━━━━━━━━━━━━━━━━━\u001b[0m\u001b[37m\u001b[0m \u001b[1m0s\u001b[0m 45ms/step - accuracy: 0.8745 - loss: 0.2493\n",
            "Epoch 51/100\n",
            "\u001b[1m7/7\u001b[0m \u001b[32m━━━━━━━━━━━━━━━━━━━━\u001b[0m\u001b[37m\u001b[0m \u001b[1m1s\u001b[0m 45ms/step - accuracy: 0.8966 - loss: 0.2535\n",
            "Epoch 52/100\n",
            "\u001b[1m7/7\u001b[0m \u001b[32m━━━━━━━━━━━━━━━━━━━━\u001b[0m\u001b[37m\u001b[0m \u001b[1m1s\u001b[0m 42ms/step - accuracy: 0.9082 - loss: 0.1930\n",
            "Epoch 53/100\n",
            "\u001b[1m7/7\u001b[0m \u001b[32m━━━━━━━━━━━━━━━━━━━━\u001b[0m\u001b[37m\u001b[0m \u001b[1m1s\u001b[0m 41ms/step - accuracy: 0.8670 - loss: 0.3262\n",
            "Epoch 54/100\n",
            "\u001b[1m7/7\u001b[0m \u001b[32m━━━━━━━━━━━━━━━━━━━━\u001b[0m\u001b[37m\u001b[0m \u001b[1m0s\u001b[0m 42ms/step - accuracy: 0.9265 - loss: 0.2200\n",
            "Epoch 55/100\n",
            "\u001b[1m7/7\u001b[0m \u001b[32m━━━━━━━━━━━━━━━━━━━━\u001b[0m\u001b[37m\u001b[0m \u001b[1m1s\u001b[0m 43ms/step - accuracy: 0.9931 - loss: 0.0705\n",
            "Epoch 56/100\n",
            "\u001b[1m7/7\u001b[0m \u001b[32m━━━━━━━━━━━━━━━━━━━━\u001b[0m\u001b[37m\u001b[0m \u001b[1m1s\u001b[0m 42ms/step - accuracy: 0.9911 - loss: 0.0747\n",
            "Epoch 57/100\n",
            "\u001b[1m7/7\u001b[0m \u001b[32m━━━━━━━━━━━━━━━━━━━━\u001b[0m\u001b[37m\u001b[0m \u001b[1m1s\u001b[0m 43ms/step - accuracy: 0.9818 - loss: 0.1121\n",
            "Epoch 58/100\n",
            "\u001b[1m7/7\u001b[0m \u001b[32m━━━━━━━━━━━━━━━━━━━━\u001b[0m\u001b[37m\u001b[0m \u001b[1m0s\u001b[0m 43ms/step - accuracy: 0.9931 - loss: 0.0580\n",
            "Epoch 59/100\n",
            "\u001b[1m7/7\u001b[0m \u001b[32m━━━━━━━━━━━━━━━━━━━━\u001b[0m\u001b[37m\u001b[0m \u001b[1m0s\u001b[0m 45ms/step - accuracy: 0.9964 - loss: 0.0527\n",
            "Epoch 60/100\n",
            "\u001b[1m7/7\u001b[0m \u001b[32m━━━━━━━━━━━━━━━━━━━━\u001b[0m\u001b[37m\u001b[0m \u001b[1m1s\u001b[0m 57ms/step - accuracy: 0.9756 - loss: 0.0812\n",
            "Epoch 61/100\n",
            "\u001b[1m7/7\u001b[0m \u001b[32m━━━━━━━━━━━━━━━━━━━━\u001b[0m\u001b[37m\u001b[0m \u001b[1m1s\u001b[0m 59ms/step - accuracy: 0.9863 - loss: 0.0673\n",
            "Epoch 62/100\n",
            "\u001b[1m7/7\u001b[0m \u001b[32m━━━━━━━━━━━━━━━━━━━━\u001b[0m\u001b[37m\u001b[0m \u001b[1m1s\u001b[0m 44ms/step - accuracy: 1.0000 - loss: 0.0376\n",
            "Epoch 63/100\n",
            "\u001b[1m7/7\u001b[0m \u001b[32m━━━━━━━━━━━━━━━━━━━━\u001b[0m\u001b[37m\u001b[0m \u001b[1m1s\u001b[0m 46ms/step - accuracy: 0.9863 - loss: 0.0455\n",
            "Epoch 64/100\n",
            "\u001b[1m7/7\u001b[0m \u001b[32m━━━━━━━━━━━━━━━━━━━━\u001b[0m\u001b[37m\u001b[0m \u001b[1m1s\u001b[0m 44ms/step - accuracy: 0.9863 - loss: 0.0417\n",
            "Epoch 65/100\n",
            "\u001b[1m7/7\u001b[0m \u001b[32m━━━━━━━━━━━━━━━━━━━━\u001b[0m\u001b[37m\u001b[0m \u001b[1m1s\u001b[0m 63ms/step - accuracy: 1.0000 - loss: 0.0289\n",
            "Epoch 66/100\n",
            "\u001b[1m7/7\u001b[0m \u001b[32m━━━━━━━━━━━━━━━━━━━━\u001b[0m\u001b[37m\u001b[0m \u001b[1m0s\u001b[0m 61ms/step - accuracy: 0.9931 - loss: 0.0355\n",
            "Epoch 67/100\n",
            "\u001b[1m7/7\u001b[0m \u001b[32m━━━━━━━━━━━━━━━━━━━━\u001b[0m\u001b[37m\u001b[0m \u001b[1m1s\u001b[0m 85ms/step - accuracy: 0.9931 - loss: 0.0312\n",
            "Epoch 68/100\n",
            "\u001b[1m7/7\u001b[0m \u001b[32m━━━━━━━━━━━━━━━━━━━━\u001b[0m\u001b[37m\u001b[0m \u001b[1m1s\u001b[0m 63ms/step - accuracy: 1.0000 - loss: 0.0233\n",
            "Epoch 69/100\n",
            "\u001b[1m7/7\u001b[0m \u001b[32m━━━━━━━━━━━━━━━━━━━━\u001b[0m\u001b[37m\u001b[0m \u001b[1m1s\u001b[0m 66ms/step - accuracy: 1.0000 - loss: 0.0286\n",
            "Epoch 70/100\n",
            "\u001b[1m7/7\u001b[0m \u001b[32m━━━━━━━━━━━━━━━━━━━━\u001b[0m\u001b[37m\u001b[0m \u001b[1m1s\u001b[0m 59ms/step - accuracy: 1.0000 - loss: 0.0241\n",
            "Epoch 71/100\n",
            "\u001b[1m7/7\u001b[0m \u001b[32m━━━━━━━━━━━━━━━━━━━━\u001b[0m\u001b[37m\u001b[0m \u001b[1m0s\u001b[0m 67ms/step - accuracy: 1.0000 - loss: 0.0203\n",
            "Epoch 72/100\n",
            "\u001b[1m7/7\u001b[0m \u001b[32m━━━━━━━━━━━━━━━━━━━━\u001b[0m\u001b[37m\u001b[0m \u001b[1m0s\u001b[0m 46ms/step - accuracy: 0.9931 - loss: 0.0258\n",
            "Epoch 73/100\n",
            "\u001b[1m7/7\u001b[0m \u001b[32m━━━━━━━━━━━━━━━━━━━━\u001b[0m\u001b[37m\u001b[0m \u001b[1m0s\u001b[0m 44ms/step - accuracy: 1.0000 - loss: 0.0183\n",
            "Epoch 74/100\n",
            "\u001b[1m7/7\u001b[0m \u001b[32m━━━━━━━━━━━━━━━━━━━━\u001b[0m\u001b[37m\u001b[0m \u001b[1m0s\u001b[0m 48ms/step - accuracy: 1.0000 - loss: 0.0174\n",
            "Epoch 75/100\n",
            "\u001b[1m7/7\u001b[0m \u001b[32m━━━━━━━━━━━━━━━━━━━━\u001b[0m\u001b[37m\u001b[0m \u001b[1m0s\u001b[0m 43ms/step - accuracy: 1.0000 - loss: 0.0202\n",
            "Epoch 76/100\n",
            "\u001b[1m7/7\u001b[0m \u001b[32m━━━━━━━━━━━━━━━━━━━━\u001b[0m\u001b[37m\u001b[0m \u001b[1m0s\u001b[0m 42ms/step - accuracy: 1.0000 - loss: 0.0145\n",
            "Epoch 77/100\n",
            "\u001b[1m7/7\u001b[0m \u001b[32m━━━━━━━━━━━━━━━━━━━━\u001b[0m\u001b[37m\u001b[0m \u001b[1m0s\u001b[0m 52ms/step - accuracy: 1.0000 - loss: 0.0149\n",
            "Epoch 78/100\n",
            "\u001b[1m7/7\u001b[0m \u001b[32m━━━━━━━━━━━━━━━━━━━━\u001b[0m\u001b[37m\u001b[0m \u001b[1m1s\u001b[0m 43ms/step - accuracy: 1.0000 - loss: 0.0141\n",
            "Epoch 79/100\n",
            "\u001b[1m7/7\u001b[0m \u001b[32m━━━━━━━━━━━━━━━━━━━━\u001b[0m\u001b[37m\u001b[0m \u001b[1m1s\u001b[0m 43ms/step - accuracy: 1.0000 - loss: 0.0123\n",
            "Epoch 80/100\n",
            "\u001b[1m7/7\u001b[0m \u001b[32m━━━━━━━━━━━━━━━━━━━━\u001b[0m\u001b[37m\u001b[0m \u001b[1m1s\u001b[0m 66ms/step - accuracy: 1.0000 - loss: 0.0126\n",
            "Epoch 81/100\n",
            "\u001b[1m7/7\u001b[0m \u001b[32m━━━━━━━━━━━━━━━━━━━━\u001b[0m\u001b[37m\u001b[0m \u001b[1m1s\u001b[0m 60ms/step - accuracy: 1.0000 - loss: 0.0115\n",
            "Epoch 82/100\n",
            "\u001b[1m7/7\u001b[0m \u001b[32m━━━━━━━━━━━━━━━━━━━━\u001b[0m\u001b[37m\u001b[0m \u001b[1m0s\u001b[0m 49ms/step - accuracy: 1.0000 - loss: 0.0108\n",
            "Epoch 83/100\n",
            "\u001b[1m7/7\u001b[0m \u001b[32m━━━━━━━━━━━━━━━━━━━━\u001b[0m\u001b[37m\u001b[0m \u001b[1m0s\u001b[0m 42ms/step - accuracy: 1.0000 - loss: 0.0109\n",
            "Epoch 84/100\n",
            "\u001b[1m7/7\u001b[0m \u001b[32m━━━━━━━━━━━━━━━━━━━━\u001b[0m\u001b[37m\u001b[0m \u001b[1m0s\u001b[0m 44ms/step - accuracy: 1.0000 - loss: 0.0099\n",
            "Epoch 85/100\n",
            "\u001b[1m7/7\u001b[0m \u001b[32m━━━━━━━━━━━━━━━━━━━━\u001b[0m\u001b[37m\u001b[0m \u001b[1m1s\u001b[0m 43ms/step - accuracy: 1.0000 - loss: 0.0092\n",
            "Epoch 86/100\n",
            "\u001b[1m7/7\u001b[0m \u001b[32m━━━━━━━━━━━━━━━━━━━━\u001b[0m\u001b[37m\u001b[0m \u001b[1m1s\u001b[0m 64ms/step - accuracy: 1.0000 - loss: 0.0093\n",
            "Epoch 87/100\n",
            "\u001b[1m7/7\u001b[0m \u001b[32m━━━━━━━━━━━━━━━━━━━━\u001b[0m\u001b[37m\u001b[0m \u001b[1m1s\u001b[0m 58ms/step - accuracy: 1.0000 - loss: 0.0086\n",
            "Epoch 88/100\n",
            "\u001b[1m7/7\u001b[0m \u001b[32m━━━━━━━━━━━━━━━━━━━━\u001b[0m\u001b[37m\u001b[0m \u001b[1m0s\u001b[0m 66ms/step - accuracy: 1.0000 - loss: 0.0082\n",
            "Epoch 89/100\n",
            "\u001b[1m7/7\u001b[0m \u001b[32m━━━━━━━━━━━━━━━━━━━━\u001b[0m\u001b[37m\u001b[0m \u001b[1m1s\u001b[0m 62ms/step - accuracy: 1.0000 - loss: 0.0082\n",
            "Epoch 90/100\n",
            "\u001b[1m7/7\u001b[0m \u001b[32m━━━━━━━━━━━━━━━━━━━━\u001b[0m\u001b[37m\u001b[0m \u001b[1m0s\u001b[0m 46ms/step - accuracy: 1.0000 - loss: 0.0075\n",
            "Epoch 91/100\n",
            "\u001b[1m7/7\u001b[0m \u001b[32m━━━━━━━━━━━━━━━━━━━━\u001b[0m\u001b[37m\u001b[0m \u001b[1m0s\u001b[0m 44ms/step - accuracy: 1.0000 - loss: 0.0072\n",
            "Epoch 92/100\n",
            "\u001b[1m7/7\u001b[0m \u001b[32m━━━━━━━━━━━━━━━━━━━━\u001b[0m\u001b[37m\u001b[0m \u001b[1m0s\u001b[0m 42ms/step - accuracy: 1.0000 - loss: 0.0071\n",
            "Epoch 93/100\n",
            "\u001b[1m7/7\u001b[0m \u001b[32m━━━━━━━━━━━━━━━━━━━━\u001b[0m\u001b[37m\u001b[0m \u001b[1m0s\u001b[0m 47ms/step - accuracy: 1.0000 - loss: 0.0067\n",
            "Epoch 94/100\n",
            "\u001b[1m7/7\u001b[0m \u001b[32m━━━━━━━━━━━━━━━━━━━━\u001b[0m\u001b[37m\u001b[0m \u001b[1m0s\u001b[0m 63ms/step - accuracy: 1.0000 - loss: 0.0062\n",
            "Epoch 95/100\n",
            "\u001b[1m7/7\u001b[0m \u001b[32m━━━━━━━━━━━━━━━━━━━━\u001b[0m\u001b[37m\u001b[0m \u001b[1m1s\u001b[0m 88ms/step - accuracy: 1.0000 - loss: 0.0062\n",
            "Epoch 96/100\n",
            "\u001b[1m7/7\u001b[0m \u001b[32m━━━━━━━━━━━━━━━━━━━━\u001b[0m\u001b[37m\u001b[0m \u001b[1m1s\u001b[0m 80ms/step - accuracy: 1.0000 - loss: 0.0060\n",
            "Epoch 97/100\n",
            "\u001b[1m7/7\u001b[0m \u001b[32m━━━━━━━━━━━━━━━━━━━━\u001b[0m\u001b[37m\u001b[0m \u001b[1m1s\u001b[0m 83ms/step - accuracy: 1.0000 - loss: 0.0057\n",
            "Epoch 98/100\n",
            "\u001b[1m7/7\u001b[0m \u001b[32m━━━━━━━━━━━━━━━━━━━━\u001b[0m\u001b[37m\u001b[0m \u001b[1m1s\u001b[0m 73ms/step - accuracy: 1.0000 - loss: 0.0055\n",
            "Epoch 99/100\n",
            "\u001b[1m7/7\u001b[0m \u001b[32m━━━━━━━━━━━━━━━━━━━━\u001b[0m\u001b[37m\u001b[0m \u001b[1m1s\u001b[0m 66ms/step - accuracy: 1.0000 - loss: 0.0055\n",
            "Epoch 100/100\n",
            "\u001b[1m7/7\u001b[0m \u001b[32m━━━━━━━━━━━━━━━━━━━━\u001b[0m\u001b[37m\u001b[0m \u001b[1m1s\u001b[0m 91ms/step - accuracy: 1.0000 - loss: 0.0049\n",
            "\u001b[1m7/7\u001b[0m \u001b[32m━━━━━━━━━━━━━━━━━━━━\u001b[0m\u001b[37m\u001b[0m \u001b[1m0s\u001b[0m 35ms/step\n",
            "\u001b[1m2/2\u001b[0m \u001b[32m━━━━━━━━━━━━━━━━━━━━\u001b[0m\u001b[37m\u001b[0m \u001b[1m0s\u001b[0m 38ms/step\n",
            "\n",
            "\n",
            "Acurácia no treino: 1.0\n",
            "Acurácia no teste: 0.76\n"
          ]
        }
      ],
      "source": [
        "np.random.seed(1)\n",
        "tf.random.set_seed(1)\n",
        "\n",
        "# Criando o modelo\n",
        "m3 = modelo_3() # ToDo: chame a função que define o modelo\n",
        "# Treinando o modelo\n",
        "m3 = treinar_modelo(m3, treino_x, treino_y) # ToDo: Chame a função para treinar o modelo\n",
        "\n",
        "previsoes_treino = np.round(m3.predict(treino_x))\n",
        "previsoes_test = np.round(m3.predict(teste_x))\n",
        "\n",
        "## Predição da rede\n",
        "print(f'\\n\\nAcurácia no treino: {accuracy_score(treino_y.reshape(-1), previsoes_treino)}') # ToDo: Utilize a função accuracy_score do sklearn para calcular a acurácia nos dados de treino\n",
        "                                         # **dica** use o model.predict para predizer os dados e use o reshape com -1 nos labels\n",
        "print(f'Acurácia no teste: {accuracy_score(teste_y.reshape(-1), previsoes_test)}') # ToDo: Utilize a função accuracy_score do sklearn para calcular a acurácia nos dados de teste\n",
        "                                    # **dica** use o model.predict para predizer os dados e use o reshape com -1 nos labels"
      ]
    },
    {
      "cell_type": "markdown",
      "metadata": {
        "id": "Z2TaEDQgaeef"
      },
      "source": [
        "**Resultado esperado:**\n",
        "\n",
        "```\n",
        "  Acurácia treino = 100.00%\n",
        "  Acurácia teste = 76%\n",
        "```"
      ]
    },
    {
      "cell_type": "markdown",
      "metadata": {
        "id": "mYgn5vWPaeef"
      },
      "source": [
        "### Análise dos resultados (5pt)"
      ]
    },
    {
      "cell_type": "markdown",
      "metadata": {
        "id": "1vZ5Z64sr2bl"
      },
      "source": [
        "**ToDo:**  O resultado com três camadas ocultas foi melhor ou pior do que usa somente uma camada? Tente explicar os motivos.\n",
        "\n",
        "\n",
        "```\n",
        "O desempenho com três camadas ocultas foi pior, talvez o problema tenha sido o overfitting, pois com mais camadas e parâmetros, a rede pode ter aprendido padrões específicos de dados de treino em vez de generalizar para novos exmplos. E redes mais profundas exigem um volume maior de dados para treinar adequadamente. Se os dados disponíveis n forem suficientes, a rede pode acabar ajudatando demais ao conjunto de treino e ter um desempenho pior no teste.  \n",
        "```"
      ]
    },
    {
      "cell_type": "markdown",
      "metadata": {
        "id": "DHbO2jtCuGKQ"
      },
      "source": [
        "## Testando uma rede que você desenvolveu (15pt)"
      ]
    },
    {
      "cell_type": "markdown",
      "metadata": {
        "id": "nSMAk900uItw"
      },
      "source": [
        "Crie uma arquitetura e treine/teste o seu modelo"
      ]
    },
    {
      "cell_type": "markdown",
      "metadata": {
        "id": "9IqYyK7Zi278"
      },
      "source": [
        "### Definição do modelo (10pt)"
      ]
    },
    {
      "cell_type": "code",
      "execution_count": null,
      "metadata": {
        "id": "6CEoCnZVuetY"
      },
      "outputs": [],
      "source": [
        "# Definição do modelo\n",
        "def meu_modelo():\n",
        "  _model = tf.keras.models.Sequential() # Crie um modelo sequencial com keras.Sequential\n",
        "  _model.add(tf.keras.layers.Dense(256,activation = 'relu')) # ToDo: Adicione uma camada densa com 8 neurônios e ativação relu\n",
        "  _model.add(tf.keras.layers.Dense(64,activation = 'relu')) # ToDo: Adicione uma camada densa com 8 neurônios e ativação relu\n",
        "  _model.add(tf.keras.layers.Dense(64,activation = 'relu')) # ToDo: Adicione uma camada densa com 8 neurônios e ativação relu\n",
        "  _model.add(tf.keras.layers.Dense(64,activation = 'relu')) # ToDo: Adicione uma camada densa com 8 neurônios e ativação relu\n",
        "  _model.add(tf.keras.layers.Dense(8,activation = 'relu')) # ToDo: Adicione uma camada densa com 8 neurônios e ativação relu\n",
        "  _model.add(tf.keras.layers.Dense(1,activation = 'sigmoid')) # ToDo: Adicione uma camada densa com 1 neurônio e ativação sigmoid **dica** use a classe keras.layers.Dense\n",
        "\n",
        "  return _model"
      ]
    },
    {
      "cell_type": "code",
      "execution_count": null,
      "metadata": {
        "colab": {
          "base_uri": "https://localhost:8080/"
        },
        "id": "AV0bkSa5dkoW",
        "outputId": "834b6b8b-967a-4927-f170-158a5389f9de"
      },
      "outputs": [
        {
          "output_type": "stream",
          "name": "stdout",
          "text": [
            "Epoch 1/100\n",
            "\u001b[1m7/7\u001b[0m \u001b[32m━━━━━━━━━━━━━━━━━━━━\u001b[0m\u001b[37m\u001b[0m \u001b[1m3s\u001b[0m 67ms/step - accuracy: 0.5100 - loss: 0.9451\n",
            "Epoch 2/100\n",
            "\u001b[1m7/7\u001b[0m \u001b[32m━━━━━━━━━━━━━━━━━━━━\u001b[0m\u001b[37m\u001b[0m \u001b[1m0s\u001b[0m 53ms/step - accuracy: 0.6005 - loss: 0.6866\n",
            "Epoch 3/100\n",
            "\u001b[1m7/7\u001b[0m \u001b[32m━━━━━━━━━━━━━━━━━━━━\u001b[0m\u001b[37m\u001b[0m \u001b[1m1s\u001b[0m 47ms/step - accuracy: 0.6050 - loss: 0.7872\n",
            "Epoch 4/100\n",
            "\u001b[1m7/7\u001b[0m \u001b[32m━━━━━━━━━━━━━━━━━━━━\u001b[0m\u001b[37m\u001b[0m \u001b[1m1s\u001b[0m 52ms/step - accuracy: 0.6247 - loss: 0.7327\n",
            "Epoch 5/100\n",
            "\u001b[1m7/7\u001b[0m \u001b[32m━━━━━━━━━━━━━━━━━━━━\u001b[0m\u001b[37m\u001b[0m \u001b[1m1s\u001b[0m 44ms/step - accuracy: 0.6494 - loss: 0.7778\n",
            "Epoch 6/100\n",
            "\u001b[1m7/7\u001b[0m \u001b[32m━━━━━━━━━━━━━━━━━━━━\u001b[0m\u001b[37m\u001b[0m \u001b[1m1s\u001b[0m 68ms/step - accuracy: 0.6289 - loss: 0.6663\n",
            "Epoch 7/100\n",
            "\u001b[1m7/7\u001b[0m \u001b[32m━━━━━━━━━━━━━━━━━━━━\u001b[0m\u001b[37m\u001b[0m \u001b[1m1s\u001b[0m 50ms/step - accuracy: 0.6974 - loss: 0.6319\n",
            "Epoch 8/100\n",
            "\u001b[1m7/7\u001b[0m \u001b[32m━━━━━━━━━━━━━━━━━━━━\u001b[0m\u001b[37m\u001b[0m \u001b[1m0s\u001b[0m 51ms/step - accuracy: 0.6642 - loss: 0.6195\n",
            "Epoch 9/100\n",
            "\u001b[1m7/7\u001b[0m \u001b[32m━━━━━━━━━━━━━━━━━━━━\u001b[0m\u001b[37m\u001b[0m \u001b[1m0s\u001b[0m 45ms/step - accuracy: 0.6820 - loss: 0.6080\n",
            "Epoch 10/100\n",
            "\u001b[1m7/7\u001b[0m \u001b[32m━━━━━━━━━━━━━━━━━━━━\u001b[0m\u001b[37m\u001b[0m \u001b[1m0s\u001b[0m 43ms/step - accuracy: 0.6646 - loss: 0.6206\n",
            "Epoch 11/100\n",
            "\u001b[1m7/7\u001b[0m \u001b[32m━━━━━━━━━━━━━━━━━━━━\u001b[0m\u001b[37m\u001b[0m \u001b[1m1s\u001b[0m 54ms/step - accuracy: 0.5858 - loss: 0.6382\n",
            "Epoch 12/100\n",
            "\u001b[1m7/7\u001b[0m \u001b[32m━━━━━━━━━━━━━━━━━━━━\u001b[0m\u001b[37m\u001b[0m \u001b[1m1s\u001b[0m 65ms/step - accuracy: 0.7048 - loss: 0.5449\n",
            "Epoch 13/100\n",
            "\u001b[1m7/7\u001b[0m \u001b[32m━━━━━━━━━━━━━━━━━━━━\u001b[0m\u001b[37m\u001b[0m \u001b[1m1s\u001b[0m 50ms/step - accuracy: 0.7075 - loss: 0.5481\n",
            "Epoch 14/100\n",
            "\u001b[1m7/7\u001b[0m \u001b[32m━━━━━━━━━━━━━━━━━━━━\u001b[0m\u001b[37m\u001b[0m \u001b[1m1s\u001b[0m 78ms/step - accuracy: 0.7223 - loss: 0.5342\n",
            "Epoch 15/100\n",
            "\u001b[1m7/7\u001b[0m \u001b[32m━━━━━━━━━━━━━━━━━━━━\u001b[0m\u001b[37m\u001b[0m \u001b[1m1s\u001b[0m 84ms/step - accuracy: 0.7183 - loss: 0.5378\n",
            "Epoch 16/100\n",
            "\u001b[1m7/7\u001b[0m \u001b[32m━━━━━━━━━━━━━━━━━━━━\u001b[0m\u001b[37m\u001b[0m \u001b[1m1s\u001b[0m 83ms/step - accuracy: 0.6372 - loss: 0.5970\n",
            "Epoch 17/100\n",
            "\u001b[1m7/7\u001b[0m \u001b[32m━━━━━━━━━━━━━━━━━━━━\u001b[0m\u001b[37m\u001b[0m \u001b[1m1s\u001b[0m 77ms/step - accuracy: 0.7038 - loss: 0.5188\n",
            "Epoch 18/100\n",
            "\u001b[1m7/7\u001b[0m \u001b[32m━━━━━━━━━━━━━━━━━━━━\u001b[0m\u001b[37m\u001b[0m \u001b[1m1s\u001b[0m 90ms/step - accuracy: 0.6705 - loss: 0.5395\n",
            "Epoch 19/100\n",
            "\u001b[1m7/7\u001b[0m \u001b[32m━━━━━━━━━━━━━━━━━━━━\u001b[0m\u001b[37m\u001b[0m \u001b[1m1s\u001b[0m 146ms/step - accuracy: 0.7717 - loss: 0.4810\n",
            "Epoch 20/100\n",
            "\u001b[1m7/7\u001b[0m \u001b[32m━━━━━━━━━━━━━━━━━━━━\u001b[0m\u001b[37m\u001b[0m \u001b[1m1s\u001b[0m 118ms/step - accuracy: 0.7311 - loss: 0.4700\n",
            "Epoch 21/100\n",
            "\u001b[1m7/7\u001b[0m \u001b[32m━━━━━━━━━━━━━━━━━━━━\u001b[0m\u001b[37m\u001b[0m \u001b[1m1s\u001b[0m 97ms/step - accuracy: 0.7518 - loss: 0.4292\n",
            "Epoch 22/100\n",
            "\u001b[1m7/7\u001b[0m \u001b[32m━━━━━━━━━━━━━━━━━━━━\u001b[0m\u001b[37m\u001b[0m \u001b[1m1s\u001b[0m 92ms/step - accuracy: 0.7876 - loss: 0.4190\n",
            "Epoch 23/100\n",
            "\u001b[1m7/7\u001b[0m \u001b[32m━━━━━━━━━━━━━━━━━━━━\u001b[0m\u001b[37m\u001b[0m \u001b[1m1s\u001b[0m 70ms/step - accuracy: 0.8072 - loss: 0.3999\n",
            "Epoch 24/100\n",
            "\u001b[1m7/7\u001b[0m \u001b[32m━━━━━━━━━━━━━━━━━━━━\u001b[0m\u001b[37m\u001b[0m \u001b[1m1s\u001b[0m 75ms/step - accuracy: 0.8259 - loss: 0.3540\n",
            "Epoch 25/100\n",
            "\u001b[1m7/7\u001b[0m \u001b[32m━━━━━━━━━━━━━━━━━━━━\u001b[0m\u001b[37m\u001b[0m \u001b[1m1s\u001b[0m 88ms/step - accuracy: 0.8612 - loss: 0.3311\n",
            "Epoch 26/100\n",
            "\u001b[1m7/7\u001b[0m \u001b[32m━━━━━━━━━━━━━━━━━━━━\u001b[0m\u001b[37m\u001b[0m \u001b[1m1s\u001b[0m 116ms/step - accuracy: 0.8226 - loss: 0.3653\n",
            "Epoch 27/100\n",
            "\u001b[1m7/7\u001b[0m \u001b[32m━━━━━━━━━━━━━━━━━━━━\u001b[0m\u001b[37m\u001b[0m \u001b[1m1s\u001b[0m 83ms/step - accuracy: 0.8788 - loss: 0.2804\n",
            "Epoch 28/100\n",
            "\u001b[1m7/7\u001b[0m \u001b[32m━━━━━━━━━━━━━━━━━━━━\u001b[0m\u001b[37m\u001b[0m \u001b[1m1s\u001b[0m 73ms/step - accuracy: 0.8634 - loss: 0.2672\n",
            "Epoch 29/100\n",
            "\u001b[1m7/7\u001b[0m \u001b[32m━━━━━━━━━━━━━━━━━━━━\u001b[0m\u001b[37m\u001b[0m \u001b[1m1s\u001b[0m 98ms/step - accuracy: 0.8952 - loss: 0.2571\n",
            "Epoch 30/100\n",
            "\u001b[1m7/7\u001b[0m \u001b[32m━━━━━━━━━━━━━━━━━━━━\u001b[0m\u001b[37m\u001b[0m \u001b[1m1s\u001b[0m 124ms/step - accuracy: 0.9135 - loss: 0.2330\n",
            "Epoch 31/100\n",
            "\u001b[1m7/7\u001b[0m \u001b[32m━━━━━━━━━━━━━━━━━━━━\u001b[0m\u001b[37m\u001b[0m \u001b[1m1s\u001b[0m 81ms/step - accuracy: 0.8734 - loss: 0.2499\n",
            "Epoch 32/100\n",
            "\u001b[1m7/7\u001b[0m \u001b[32m━━━━━━━━━━━━━━━━━━━━\u001b[0m\u001b[37m\u001b[0m \u001b[1m2s\u001b[0m 251ms/step - accuracy: 0.8839 - loss: 0.2658\n",
            "Epoch 33/100\n",
            "\u001b[1m7/7\u001b[0m \u001b[32m━━━━━━━━━━━━━━━━━━━━\u001b[0m\u001b[37m\u001b[0m \u001b[1m2s\u001b[0m 173ms/step - accuracy: 0.7852 - loss: 0.4043\n",
            "Epoch 34/100\n",
            "\u001b[1m7/7\u001b[0m \u001b[32m━━━━━━━━━━━━━━━━━━━━\u001b[0m\u001b[37m\u001b[0m \u001b[1m1s\u001b[0m 197ms/step - accuracy: 0.6688 - loss: 0.7622\n",
            "Epoch 35/100\n",
            "\u001b[1m7/7\u001b[0m \u001b[32m━━━━━━━━━━━━━━━━━━━━\u001b[0m\u001b[37m\u001b[0m \u001b[1m2s\u001b[0m 106ms/step - accuracy: 0.4186 - loss: 0.7261\n",
            "Epoch 36/100\n",
            "\u001b[1m7/7\u001b[0m \u001b[32m━━━━━━━━━━━━━━━━━━━━\u001b[0m\u001b[37m\u001b[0m \u001b[1m1s\u001b[0m 126ms/step - accuracy: 0.7518 - loss: 0.5821\n",
            "Epoch 37/100\n",
            "\u001b[1m7/7\u001b[0m \u001b[32m━━━━━━━━━━━━━━━━━━━━\u001b[0m\u001b[37m\u001b[0m \u001b[1m1s\u001b[0m 96ms/step - accuracy: 0.7076 - loss: 0.5301\n",
            "Epoch 38/100\n",
            "\u001b[1m7/7\u001b[0m \u001b[32m━━━━━━━━━━━━━━━━━━━━\u001b[0m\u001b[37m\u001b[0m \u001b[1m1s\u001b[0m 114ms/step - accuracy: 0.7425 - loss: 0.5424\n",
            "Epoch 39/100\n",
            "\u001b[1m7/7\u001b[0m \u001b[32m━━━━━━━━━━━━━━━━━━━━\u001b[0m\u001b[37m\u001b[0m \u001b[1m1s\u001b[0m 61ms/step - accuracy: 0.7334 - loss: 0.4971\n",
            "Epoch 40/100\n",
            "\u001b[1m7/7\u001b[0m \u001b[32m━━━━━━━━━━━━━━━━━━━━\u001b[0m\u001b[37m\u001b[0m \u001b[1m0s\u001b[0m 60ms/step - accuracy: 0.8435 - loss: 0.3869\n",
            "Epoch 41/100\n",
            "\u001b[1m7/7\u001b[0m \u001b[32m━━━━━━━━━━━━━━━━━━━━\u001b[0m\u001b[37m\u001b[0m \u001b[1m0s\u001b[0m 50ms/step - accuracy: 0.7546 - loss: 0.4560\n",
            "Epoch 42/100\n",
            "\u001b[1m7/7\u001b[0m \u001b[32m━━━━━━━━━━━━━━━━━━━━\u001b[0m\u001b[37m\u001b[0m \u001b[1m1s\u001b[0m 51ms/step - accuracy: 0.7151 - loss: 0.5121\n",
            "Epoch 43/100\n",
            "\u001b[1m7/7\u001b[0m \u001b[32m━━━━━━━━━━━━━━━━━━━━\u001b[0m\u001b[37m\u001b[0m \u001b[1m1s\u001b[0m 68ms/step - accuracy: 0.8945 - loss: 0.4335\n",
            "Epoch 44/100\n",
            "\u001b[1m7/7\u001b[0m \u001b[32m━━━━━━━━━━━━━━━━━━━━\u001b[0m\u001b[37m\u001b[0m \u001b[1m1s\u001b[0m 69ms/step - accuracy: 0.8737 - loss: 0.3262\n",
            "Epoch 45/100\n",
            "\u001b[1m7/7\u001b[0m \u001b[32m━━━━━━━━━━━━━━━━━━━━\u001b[0m\u001b[37m\u001b[0m \u001b[1m0s\u001b[0m 48ms/step - accuracy: 0.7978 - loss: 0.3928\n",
            "Epoch 46/100\n",
            "\u001b[1m7/7\u001b[0m \u001b[32m━━━━━━━━━━━━━━━━━━━━\u001b[0m\u001b[37m\u001b[0m \u001b[1m1s\u001b[0m 51ms/step - accuracy: 0.7107 - loss: 0.4610\n",
            "Epoch 47/100\n",
            "\u001b[1m7/7\u001b[0m \u001b[32m━━━━━━━━━━━━━━━━━━━━\u001b[0m\u001b[37m\u001b[0m \u001b[1m0s\u001b[0m 50ms/step - accuracy: 0.9142 - loss: 0.2775\n",
            "Epoch 48/100\n",
            "\u001b[1m7/7\u001b[0m \u001b[32m━━━━━━━━━━━━━━━━━━━━\u001b[0m\u001b[37m\u001b[0m \u001b[1m1s\u001b[0m 53ms/step - accuracy: 0.9063 - loss: 0.2771\n",
            "Epoch 49/100\n",
            "\u001b[1m7/7\u001b[0m \u001b[32m━━━━━━━━━━━━━━━━━━━━\u001b[0m\u001b[37m\u001b[0m \u001b[1m1s\u001b[0m 50ms/step - accuracy: 0.7463 - loss: 0.4230\n",
            "Epoch 50/100\n",
            "\u001b[1m7/7\u001b[0m \u001b[32m━━━━━━━━━━━━━━━━━━━━\u001b[0m\u001b[37m\u001b[0m \u001b[1m0s\u001b[0m 50ms/step - accuracy: 0.8136 - loss: 0.3804\n",
            "Epoch 51/100\n",
            "\u001b[1m7/7\u001b[0m \u001b[32m━━━━━━━━━━━━━━━━━━━━\u001b[0m\u001b[37m\u001b[0m \u001b[1m0s\u001b[0m 54ms/step - accuracy: 0.6998 - loss: 0.4289\n",
            "Epoch 52/100\n",
            "\u001b[1m7/7\u001b[0m \u001b[32m━━━━━━━━━━━━━━━━━━━━\u001b[0m\u001b[37m\u001b[0m \u001b[1m1s\u001b[0m 58ms/step - accuracy: 0.8902 - loss: 0.2855\n",
            "Epoch 53/100\n",
            "\u001b[1m7/7\u001b[0m \u001b[32m━━━━━━━━━━━━━━━━━━━━\u001b[0m\u001b[37m\u001b[0m \u001b[1m1s\u001b[0m 70ms/step - accuracy: 0.7918 - loss: 0.3281\n",
            "Epoch 54/100\n",
            "\u001b[1m7/7\u001b[0m \u001b[32m━━━━━━━━━━━━━━━━━━━━\u001b[0m\u001b[37m\u001b[0m \u001b[1m1s\u001b[0m 79ms/step - accuracy: 0.9445 - loss: 0.1929\n",
            "Epoch 55/100\n",
            "\u001b[1m7/7\u001b[0m \u001b[32m━━━━━━━━━━━━━━━━━━━━\u001b[0m\u001b[37m\u001b[0m \u001b[1m1s\u001b[0m 78ms/step - accuracy: 0.9315 - loss: 0.1947\n",
            "Epoch 56/100\n",
            "\u001b[1m7/7\u001b[0m \u001b[32m━━━━━━━━━━━━━━━━━━━━\u001b[0m\u001b[37m\u001b[0m \u001b[1m1s\u001b[0m 74ms/step - accuracy: 0.8892 - loss: 0.2614\n",
            "Epoch 57/100\n",
            "\u001b[1m7/7\u001b[0m \u001b[32m━━━━━━━━━━━━━━━━━━━━\u001b[0m\u001b[37m\u001b[0m \u001b[1m1s\u001b[0m 80ms/step - accuracy: 0.8399 - loss: 0.3447\n",
            "Epoch 58/100\n",
            "\u001b[1m7/7\u001b[0m \u001b[32m━━━━━━━━━━━━━━━━━━━━\u001b[0m\u001b[37m\u001b[0m \u001b[1m1s\u001b[0m 81ms/step - accuracy: 0.9060 - loss: 0.2395\n",
            "Epoch 59/100\n",
            "\u001b[1m7/7\u001b[0m \u001b[32m━━━━━━━━━━━━━━━━━━━━\u001b[0m\u001b[37m\u001b[0m \u001b[1m1s\u001b[0m 83ms/step - accuracy: 0.9293 - loss: 0.1801\n",
            "Epoch 60/100\n",
            "\u001b[1m7/7\u001b[0m \u001b[32m━━━━━━━━━━━━━━━━━━━━\u001b[0m\u001b[37m\u001b[0m \u001b[1m1s\u001b[0m 66ms/step - accuracy: 0.8823 - loss: 0.2553\n",
            "Epoch 61/100\n",
            "\u001b[1m7/7\u001b[0m \u001b[32m━━━━━━━━━━━━━━━━━━━━\u001b[0m\u001b[37m\u001b[0m \u001b[1m1s\u001b[0m 87ms/step - accuracy: 0.7900 - loss: 0.4056\n",
            "Epoch 62/100\n",
            "\u001b[1m7/7\u001b[0m \u001b[32m━━━━━━━━━━━━━━━━━━━━\u001b[0m\u001b[37m\u001b[0m \u001b[1m1s\u001b[0m 72ms/step - accuracy: 0.8654 - loss: 0.2915\n",
            "Epoch 63/100\n",
            "\u001b[1m7/7\u001b[0m \u001b[32m━━━━━━━━━━━━━━━━━━━━\u001b[0m\u001b[37m\u001b[0m \u001b[1m1s\u001b[0m 67ms/step - accuracy: 0.9280 - loss: 0.1992\n",
            "Epoch 64/100\n",
            "\u001b[1m7/7\u001b[0m \u001b[32m━━━━━━━━━━━━━━━━━━━━\u001b[0m\u001b[37m\u001b[0m \u001b[1m0s\u001b[0m 49ms/step - accuracy: 0.9389 - loss: 0.1529\n",
            "Epoch 65/100\n",
            "\u001b[1m7/7\u001b[0m \u001b[32m━━━━━━━━━━━━━━━━━━━━\u001b[0m\u001b[37m\u001b[0m \u001b[1m0s\u001b[0m 51ms/step - accuracy: 0.9450 - loss: 0.1644\n",
            "Epoch 66/100\n",
            "\u001b[1m7/7\u001b[0m \u001b[32m━━━━━━━━━━━━━━━━━━━━\u001b[0m\u001b[37m\u001b[0m \u001b[1m0s\u001b[0m 65ms/step - accuracy: 0.9071 - loss: 0.2050\n",
            "Epoch 67/100\n",
            "\u001b[1m7/7\u001b[0m \u001b[32m━━━━━━━━━━━━━━━━━━━━\u001b[0m\u001b[37m\u001b[0m \u001b[1m1s\u001b[0m 65ms/step - accuracy: 0.8817 - loss: 0.2480\n",
            "Epoch 68/100\n",
            "\u001b[1m7/7\u001b[0m \u001b[32m━━━━━━━━━━━━━━━━━━━━\u001b[0m\u001b[37m\u001b[0m \u001b[1m0s\u001b[0m 53ms/step - accuracy: 0.7505 - loss: 0.4386\n",
            "Epoch 69/100\n",
            "\u001b[1m7/7\u001b[0m \u001b[32m━━━━━━━━━━━━━━━━━━━━\u001b[0m\u001b[37m\u001b[0m \u001b[1m0s\u001b[0m 60ms/step - accuracy: 0.9100 - loss: 0.2177\n",
            "Epoch 70/100\n",
            "\u001b[1m7/7\u001b[0m \u001b[32m━━━━━━━━━━━━━━━━━━━━\u001b[0m\u001b[37m\u001b[0m \u001b[1m1s\u001b[0m 64ms/step - accuracy: 0.9699 - loss: 0.1260\n",
            "Epoch 71/100\n",
            "\u001b[1m7/7\u001b[0m \u001b[32m━━━━━━━━━━━━━━━━━━━━\u001b[0m\u001b[37m\u001b[0m \u001b[1m0s\u001b[0m 65ms/step - accuracy: 0.9478 - loss: 0.1322\n",
            "Epoch 72/100\n",
            "\u001b[1m7/7\u001b[0m \u001b[32m━━━━━━━━━━━━━━━━━━━━\u001b[0m\u001b[37m\u001b[0m \u001b[1m1s\u001b[0m 67ms/step - accuracy: 0.9745 - loss: 0.0712\n",
            "Epoch 73/100\n",
            "\u001b[1m7/7\u001b[0m \u001b[32m━━━━━━━━━━━━━━━━━━━━\u001b[0m\u001b[37m\u001b[0m \u001b[1m0s\u001b[0m 68ms/step - accuracy: 0.9840 - loss: 0.0670\n",
            "Epoch 74/100\n",
            "\u001b[1m7/7\u001b[0m \u001b[32m━━━━━━━━━━━━━━━━━━━━\u001b[0m\u001b[37m\u001b[0m \u001b[1m0s\u001b[0m 47ms/step - accuracy: 0.9623 - loss: 0.0795\n",
            "Epoch 75/100\n",
            "\u001b[1m7/7\u001b[0m \u001b[32m━━━━━━━━━━━━━━━━━━━━\u001b[0m\u001b[37m\u001b[0m \u001b[1m0s\u001b[0m 57ms/step - accuracy: 0.9057 - loss: 0.1740\n",
            "Epoch 76/100\n",
            "\u001b[1m7/7\u001b[0m \u001b[32m━━━━━━━━━━━━━━━━━━━━\u001b[0m\u001b[37m\u001b[0m \u001b[1m1s\u001b[0m 49ms/step - accuracy: 0.8804 - loss: 0.2568\n",
            "Epoch 77/100\n",
            "\u001b[1m7/7\u001b[0m \u001b[32m━━━━━━━━━━━━━━━━━━━━\u001b[0m\u001b[37m\u001b[0m \u001b[1m0s\u001b[0m 50ms/step - accuracy: 0.8250 - loss: 0.3469\n",
            "Epoch 78/100\n",
            "\u001b[1m7/7\u001b[0m \u001b[32m━━━━━━━━━━━━━━━━━━━━\u001b[0m\u001b[37m\u001b[0m \u001b[1m0s\u001b[0m 51ms/step - accuracy: 0.8421 - loss: 0.2741\n",
            "Epoch 79/100\n",
            "\u001b[1m7/7\u001b[0m \u001b[32m━━━━━━━━━━━━━━━━━━━━\u001b[0m\u001b[37m\u001b[0m \u001b[1m1s\u001b[0m 54ms/step - accuracy: 0.9753 - loss: 0.1092\n",
            "Epoch 80/100\n",
            "\u001b[1m7/7\u001b[0m \u001b[32m━━━━━━━━━━━━━━━━━━━━\u001b[0m\u001b[37m\u001b[0m \u001b[1m0s\u001b[0m 56ms/step - accuracy: 0.9743 - loss: 0.0873\n",
            "Epoch 81/100\n",
            "\u001b[1m7/7\u001b[0m \u001b[32m━━━━━━━━━━━━━━━━━━━━\u001b[0m\u001b[37m\u001b[0m \u001b[1m1s\u001b[0m 67ms/step - accuracy: 0.9468 - loss: 0.1229\n",
            "Epoch 82/100\n",
            "\u001b[1m7/7\u001b[0m \u001b[32m━━━━━━━━━━━━━━━━━━━━\u001b[0m\u001b[37m\u001b[0m \u001b[1m1s\u001b[0m 84ms/step - accuracy: 0.9477 - loss: 0.1125\n",
            "Epoch 83/100\n",
            "\u001b[1m7/7\u001b[0m \u001b[32m━━━━━━━━━━━━━━━━━━━━\u001b[0m\u001b[37m\u001b[0m \u001b[1m1s\u001b[0m 85ms/step - accuracy: 0.9755 - loss: 0.0515\n",
            "Epoch 84/100\n",
            "\u001b[1m7/7\u001b[0m \u001b[32m━━━━━━━━━━━━━━━━━━━━\u001b[0m\u001b[37m\u001b[0m \u001b[1m1s\u001b[0m 102ms/step - accuracy: 0.9892 - loss: 0.0353\n",
            "Epoch 85/100\n",
            "\u001b[1m7/7\u001b[0m \u001b[32m━━━━━━━━━━━━━━━━━━━━\u001b[0m\u001b[37m\u001b[0m \u001b[1m1s\u001b[0m 69ms/step - accuracy: 0.9866 - loss: 0.0342\n",
            "Epoch 86/100\n",
            "\u001b[1m7/7\u001b[0m \u001b[32m━━━━━━━━━━━━━━━━━━━━\u001b[0m\u001b[37m\u001b[0m \u001b[1m1s\u001b[0m 80ms/step - accuracy: 0.9797 - loss: 0.0351\n",
            "Epoch 87/100\n",
            "\u001b[1m7/7\u001b[0m \u001b[32m━━━━━━━━━━━━━━━━━━━━\u001b[0m\u001b[37m\u001b[0m \u001b[1m1s\u001b[0m 69ms/step - accuracy: 0.9974 - loss: 0.0236\n",
            "Epoch 88/100\n",
            "\u001b[1m7/7\u001b[0m \u001b[32m━━━━━━━━━━━━━━━━━━━━\u001b[0m\u001b[37m\u001b[0m \u001b[1m1s\u001b[0m 83ms/step - accuracy: 1.0000 - loss: 0.0120\n",
            "Epoch 89/100\n",
            "\u001b[1m7/7\u001b[0m \u001b[32m━━━━━━━━━━━━━━━━━━━━\u001b[0m\u001b[37m\u001b[0m \u001b[1m0s\u001b[0m 52ms/step - accuracy: 1.0000 - loss: 0.0141\n",
            "Epoch 90/100\n",
            "\u001b[1m7/7\u001b[0m \u001b[32m━━━━━━━━━━━━━━━━━━━━\u001b[0m\u001b[37m\u001b[0m \u001b[1m1s\u001b[0m 50ms/step - accuracy: 0.9853 - loss: 0.0329\n",
            "Epoch 91/100\n",
            "\u001b[1m7/7\u001b[0m \u001b[32m━━━━━━━━━━━━━━━━━━━━\u001b[0m\u001b[37m\u001b[0m \u001b[1m0s\u001b[0m 52ms/step - accuracy: 0.9368 - loss: 0.1525\n",
            "Epoch 92/100\n",
            "\u001b[1m7/7\u001b[0m \u001b[32m━━━━━━━━━━━━━━━━━━━━\u001b[0m\u001b[37m\u001b[0m \u001b[1m1s\u001b[0m 57ms/step - accuracy: 0.9672 - loss: 0.0997\n",
            "Epoch 93/100\n",
            "\u001b[1m7/7\u001b[0m \u001b[32m━━━━━━━━━━━━━━━━━━━━\u001b[0m\u001b[37m\u001b[0m \u001b[1m0s\u001b[0m 50ms/step - accuracy: 0.9851 - loss: 0.0489\n",
            "Epoch 94/100\n",
            "\u001b[1m7/7\u001b[0m \u001b[32m━━━━━━━━━━━━━━━━━━━━\u001b[0m\u001b[37m\u001b[0m \u001b[1m1s\u001b[0m 47ms/step - accuracy: 0.9874 - loss: 0.0387\n",
            "Epoch 95/100\n",
            "\u001b[1m7/7\u001b[0m \u001b[32m━━━━━━━━━━━━━━━━━━━━\u001b[0m\u001b[37m\u001b[0m \u001b[1m1s\u001b[0m 52ms/step - accuracy: 0.9692 - loss: 0.0877\n",
            "Epoch 96/100\n",
            "\u001b[1m7/7\u001b[0m \u001b[32m━━━━━━━━━━━━━━━━━━━━\u001b[0m\u001b[37m\u001b[0m \u001b[1m1s\u001b[0m 50ms/step - accuracy: 0.9466 - loss: 0.1563\n",
            "Epoch 97/100\n",
            "\u001b[1m7/7\u001b[0m \u001b[32m━━━━━━━━━━━━━━━━━━━━\u001b[0m\u001b[37m\u001b[0m \u001b[1m0s\u001b[0m 57ms/step - accuracy: 0.9381 - loss: 0.1331\n",
            "Epoch 98/100\n",
            "\u001b[1m7/7\u001b[0m \u001b[32m━━━━━━━━━━━━━━━━━━━━\u001b[0m\u001b[37m\u001b[0m \u001b[1m1s\u001b[0m 48ms/step - accuracy: 0.9931 - loss: 0.0283\n",
            "Epoch 99/100\n",
            "\u001b[1m7/7\u001b[0m \u001b[32m━━━━━━━━━━━━━━━━━━━━\u001b[0m\u001b[37m\u001b[0m \u001b[1m1s\u001b[0m 50ms/step - accuracy: 1.0000 - loss: 0.0209\n",
            "Epoch 100/100\n",
            "\u001b[1m7/7\u001b[0m \u001b[32m━━━━━━━━━━━━━━━━━━━━\u001b[0m\u001b[37m\u001b[0m \u001b[1m1s\u001b[0m 51ms/step - accuracy: 1.0000 - loss: 0.0240\n",
            "\u001b[1m7/7\u001b[0m \u001b[32m━━━━━━━━━━━━━━━━━━━━\u001b[0m\u001b[37m\u001b[0m \u001b[1m0s\u001b[0m 21ms/step\n",
            "\u001b[1m2/2\u001b[0m \u001b[32m━━━━━━━━━━━━━━━━━━━━\u001b[0m\u001b[37m\u001b[0m \u001b[1m0s\u001b[0m 26ms/step\n",
            "\n",
            "\n",
            "Acurácia no treino: 1.0\n",
            "Acurácia no teste: 0.8\n"
          ]
        }
      ],
      "source": [
        "np.random.seed(1)\n",
        "tf.random.set_seed(1)\n",
        "\n",
        "# Criando o modelo\n",
        "m4 = meu_modelo() # ToDo: chame a função que define o modelo\n",
        "\n",
        "treino_y = treino_y.reshape(-1).astype(int)\n",
        "teste_y = teste_y.reshape(-1).astype(int)\n",
        "\n",
        "# Treinando o modelo\n",
        "m4.compile(optimizer='adam', loss='binary_crossentropy', metrics=['accuracy'])\n",
        "history = m4.fit(treino_x, treino_y, epochs=100, batch_size=32, verbose=1) # ToDo: Chame a função para treinar o modelo\n",
        "pred_treino = (m4.predict(treino_x) > 0.5).astype(int).reshape(-1)\n",
        "pred_teste = (m4.predict(teste_x) > 0.5).astype(int).reshape(-1)\n",
        "\n",
        "treino_accuracy = accuracy_score(treino_y, pred_treino)\n",
        "teste_accuracy = accuracy_score(teste_y, pred_teste)\n",
        "\n",
        "## Predição da rede\n",
        "print(f'\\n\\nAcurácia no treino: {treino_accuracy}') # ToDo: Utilize a função accuracy_score do sklearn para calcular a acurácia nos dados de treino\n",
        "                                         # **dica** use o model.predict para predizer os dados e use o reshape com -1 nos labels\n",
        "print(f'Acurácia no teste: {teste_accuracy}') # ToDo: Utilize a função accuracy_score do sklearn para calcular a acurácia nos dados de teste"
      ]
    },
    {
      "cell_type": "markdown",
      "metadata": {
        "id": "XqnXDnIOdw85"
      },
      "source": [
        "### Análise dos resultados (5pt)"
      ]
    },
    {
      "cell_type": "markdown",
      "metadata": {
        "id": "ZqJW2Zbwdw9J"
      },
      "source": [
        "**ToDo:** O que você pode falar do seu modelo? Como ele se saiu em relação aos outros três modelos?\n",
        "\n",
        "\n",
        "```\n",
        "ele foi preciso demais e deu overfiting\n",
        "```"
      ]
    },
    {
      "cell_type": "markdown",
      "metadata": {
        "id": "EEufLmq_w-li"
      },
      "source": [
        "## Variando alguns hiperparâmetros (35pt)"
      ]
    },
    {
      "cell_type": "markdown",
      "metadata": {
        "id": "7-DanKGBw3q5"
      },
      "source": [
        "Usando o framework do tensorflow/keras, altere os hiperparâmetros e veja o impacto (gere pelo menos dois novos modelos):\n",
        "\n",
        "- *Learning Rate*.\n",
        "- Algoritmo de otimização (SGD com momento, ADAM, ADADELTA, RMSPROP).\n",
        "- inicialização dos pesos: inicialiação aleatória vs uniforme.\n",
        "- Funções de ativação : troque a sigmoid por (ReLU, GELU, Leaky RELU)."
      ]
    },
    {
      "cell_type": "markdown",
      "metadata": {
        "id": "flps-7GVJqr-"
      },
      "source": [
        "### Cria a sua própria função de treinamento (15pt)"
      ]
    },
    {
      "cell_type": "markdown",
      "metadata": {
        "id": "9pHZMoppJt7K"
      },
      "source": [
        "Você deve criar uma nova função para treinamento. Essa nova função, deve receber os parâmetros que você irá alterar, como por exemplo, *Learning Rate* e otimizador."
      ]
    },
    {
      "cell_type": "code",
      "execution_count": null,
      "metadata": {
        "id": "Ky8Ba7K6JkM_"
      },
      "outputs": [],
      "source": [
        "# Função para treinamento do modelo\n",
        "def treinar_modelo(modelo, treino_x, treino_y, epochs=100):  # ToDo: Adicione os parâmetros necessários, como Learning Rate e otimizador\n",
        "    # Setando a seed\n",
        "    np.random.seed(1)\n",
        "    tf.random.set_seed(1)\n",
        "\n",
        "    # Compilando o modelo\n",
        "    modelo.compile(optimizer='adam', loss='binary_crossentropy', metrics=['accuracy'])  # ToDo: Preencher aqui\n",
        "\n",
        "    # Imprimindo a arquitetura da rede proposta\n",
        "    modelo.summary()\n",
        "\n",
        "    # Treinando o modelo\n",
        "    history = modelo.fit(treino_x, treino_y, epochs=epochs, batch_size=32, verbose=1)  # ToDo: Preencher aqui\n",
        "\n",
        "    return modelo, history\n"
      ]
    },
    {
      "cell_type": "markdown",
      "metadata": {
        "id": "We7s3NzpiKNa"
      },
      "source": [
        "### Desenvolva os seus modelos aqui e os teste nos dados de teste (15pt)"
      ]
    },
    {
      "cell_type": "code",
      "execution_count": null,
      "metadata": {
        "colab": {
          "base_uri": "https://localhost:8080/",
          "height": 1000
        },
        "id": "FL_eSGkMyvUz",
        "outputId": "b8b806f9-b139-407d-fb06-a8128149d763"
      },
      "outputs": [
        {
          "output_type": "stream",
          "name": "stderr",
          "text": [
            "/usr/local/lib/python3.11/dist-packages/keras/src/layers/core/dense.py:87: UserWarning: Do not pass an `input_shape`/`input_dim` argument to a layer. When using Sequential models, prefer using an `Input(shape)` object as the first layer in the model instead.\n",
            "  super().__init__(activity_regularizer=activity_regularizer, **kwargs)\n"
          ]
        },
        {
          "output_type": "display_data",
          "data": {
            "text/plain": [
              "\u001b[1mModel: \"sequential_4\"\u001b[0m\n"
            ],
            "text/html": [
              "<pre style=\"white-space:pre;overflow-x:auto;line-height:normal;font-family:Menlo,'DejaVu Sans Mono',consolas,'Courier New',monospace\"><span style=\"font-weight: bold\">Model: \"sequential_4\"</span>\n",
              "</pre>\n"
            ]
          },
          "metadata": {}
        },
        {
          "output_type": "display_data",
          "data": {
            "text/plain": [
              "┏━━━━━━━━━━━━━━━━━━━━━━━━━━━━━━━━━━━━━━┳━━━━━━━━━━━━━━━━━━━━━━━━━━━━━┳━━━━━━━━━━━━━━━━━┓\n",
              "┃\u001b[1m \u001b[0m\u001b[1mLayer (type)                        \u001b[0m\u001b[1m \u001b[0m┃\u001b[1m \u001b[0m\u001b[1mOutput Shape               \u001b[0m\u001b[1m \u001b[0m┃\u001b[1m \u001b[0m\u001b[1m        Param #\u001b[0m\u001b[1m \u001b[0m┃\n",
              "┡━━━━━━━━━━━━━━━━━━━━━━━━━━━━━━━━━━━━━━╇━━━━━━━━━━━━━━━━━━━━━━━━━━━━━╇━━━━━━━━━━━━━━━━━┩\n",
              "│ dense_14 (\u001b[38;5;33mDense\u001b[0m)                     │ (\u001b[38;5;45mNone\u001b[0m, \u001b[38;5;34m256\u001b[0m)                 │       \u001b[38;5;34m3,145,984\u001b[0m │\n",
              "├──────────────────────────────────────┼─────────────────────────────┼─────────────────┤\n",
              "│ dense_15 (\u001b[38;5;33mDense\u001b[0m)                     │ (\u001b[38;5;45mNone\u001b[0m, \u001b[38;5;34m64\u001b[0m)                  │          \u001b[38;5;34m16,448\u001b[0m │\n",
              "├──────────────────────────────────────┼─────────────────────────────┼─────────────────┤\n",
              "│ dense_16 (\u001b[38;5;33mDense\u001b[0m)                     │ (\u001b[38;5;45mNone\u001b[0m, \u001b[38;5;34m1\u001b[0m)                   │              \u001b[38;5;34m65\u001b[0m │\n",
              "└──────────────────────────────────────┴─────────────────────────────┴─────────────────┘\n"
            ],
            "text/html": [
              "<pre style=\"white-space:pre;overflow-x:auto;line-height:normal;font-family:Menlo,'DejaVu Sans Mono',consolas,'Courier New',monospace\">┏━━━━━━━━━━━━━━━━━━━━━━━━━━━━━━━━━━━━━━┳━━━━━━━━━━━━━━━━━━━━━━━━━━━━━┳━━━━━━━━━━━━━━━━━┓\n",
              "┃<span style=\"font-weight: bold\"> Layer (type)                         </span>┃<span style=\"font-weight: bold\"> Output Shape                </span>┃<span style=\"font-weight: bold\">         Param # </span>┃\n",
              "┡━━━━━━━━━━━━━━━━━━━━━━━━━━━━━━━━━━━━━━╇━━━━━━━━━━━━━━━━━━━━━━━━━━━━━╇━━━━━━━━━━━━━━━━━┩\n",
              "│ dense_14 (<span style=\"color: #0087ff; text-decoration-color: #0087ff\">Dense</span>)                     │ (<span style=\"color: #00d7ff; text-decoration-color: #00d7ff\">None</span>, <span style=\"color: #00af00; text-decoration-color: #00af00\">256</span>)                 │       <span style=\"color: #00af00; text-decoration-color: #00af00\">3,145,984</span> │\n",
              "├──────────────────────────────────────┼─────────────────────────────┼─────────────────┤\n",
              "│ dense_15 (<span style=\"color: #0087ff; text-decoration-color: #0087ff\">Dense</span>)                     │ (<span style=\"color: #00d7ff; text-decoration-color: #00d7ff\">None</span>, <span style=\"color: #00af00; text-decoration-color: #00af00\">64</span>)                  │          <span style=\"color: #00af00; text-decoration-color: #00af00\">16,448</span> │\n",
              "├──────────────────────────────────────┼─────────────────────────────┼─────────────────┤\n",
              "│ dense_16 (<span style=\"color: #0087ff; text-decoration-color: #0087ff\">Dense</span>)                     │ (<span style=\"color: #00d7ff; text-decoration-color: #00d7ff\">None</span>, <span style=\"color: #00af00; text-decoration-color: #00af00\">1</span>)                   │              <span style=\"color: #00af00; text-decoration-color: #00af00\">65</span> │\n",
              "└──────────────────────────────────────┴─────────────────────────────┴─────────────────┘\n",
              "</pre>\n"
            ]
          },
          "metadata": {}
        },
        {
          "output_type": "display_data",
          "data": {
            "text/plain": [
              "\u001b[1m Total params: \u001b[0m\u001b[38;5;34m3,162,497\u001b[0m (12.06 MB)\n"
            ],
            "text/html": [
              "<pre style=\"white-space:pre;overflow-x:auto;line-height:normal;font-family:Menlo,'DejaVu Sans Mono',consolas,'Courier New',monospace\"><span style=\"font-weight: bold\"> Total params: </span><span style=\"color: #00af00; text-decoration-color: #00af00\">3,162,497</span> (12.06 MB)\n",
              "</pre>\n"
            ]
          },
          "metadata": {}
        },
        {
          "output_type": "display_data",
          "data": {
            "text/plain": [
              "\u001b[1m Trainable params: \u001b[0m\u001b[38;5;34m3,162,497\u001b[0m (12.06 MB)\n"
            ],
            "text/html": [
              "<pre style=\"white-space:pre;overflow-x:auto;line-height:normal;font-family:Menlo,'DejaVu Sans Mono',consolas,'Courier New',monospace\"><span style=\"font-weight: bold\"> Trainable params: </span><span style=\"color: #00af00; text-decoration-color: #00af00\">3,162,497</span> (12.06 MB)\n",
              "</pre>\n"
            ]
          },
          "metadata": {}
        },
        {
          "output_type": "display_data",
          "data": {
            "text/plain": [
              "\u001b[1m Non-trainable params: \u001b[0m\u001b[38;5;34m0\u001b[0m (0.00 B)\n"
            ],
            "text/html": [
              "<pre style=\"white-space:pre;overflow-x:auto;line-height:normal;font-family:Menlo,'DejaVu Sans Mono',consolas,'Courier New',monospace\"><span style=\"font-weight: bold\"> Non-trainable params: </span><span style=\"color: #00af00; text-decoration-color: #00af00\">0</span> (0.00 B)\n",
              "</pre>\n"
            ]
          },
          "metadata": {}
        },
        {
          "output_type": "stream",
          "name": "stdout",
          "text": [
            "Epoch 1/50\n",
            "\u001b[1m7/7\u001b[0m \u001b[32m━━━━━━━━━━━━━━━━━━━━\u001b[0m\u001b[37m\u001b[0m \u001b[1m2s\u001b[0m 59ms/step - accuracy: 0.6021 - loss: 3.1949\n",
            "Epoch 2/50\n",
            "\u001b[1m7/7\u001b[0m \u001b[32m━━━━━━━━━━━━━━━━━━━━\u001b[0m\u001b[37m\u001b[0m \u001b[1m1s\u001b[0m 56ms/step - accuracy: 0.5984 - loss: 1.2009\n",
            "Epoch 3/50\n",
            "\u001b[1m7/7\u001b[0m \u001b[32m━━━━━━━━━━━━━━━━━━━━\u001b[0m\u001b[37m\u001b[0m \u001b[1m1s\u001b[0m 82ms/step - accuracy: 0.6362 - loss: 0.6513\n",
            "Epoch 4/50\n",
            "\u001b[1m7/7\u001b[0m \u001b[32m━━━━━━━━━━━━━━━━━━━━\u001b[0m\u001b[37m\u001b[0m \u001b[1m1s\u001b[0m 66ms/step - accuracy: 0.6932 - loss: 0.6227\n",
            "Epoch 5/50\n",
            "\u001b[1m7/7\u001b[0m \u001b[32m━━━━━━━━━━━━━━━━━━━━\u001b[0m\u001b[37m\u001b[0m \u001b[1m1s\u001b[0m 72ms/step - accuracy: 0.6208 - loss: 0.8805\n",
            "Epoch 6/50\n",
            "\u001b[1m7/7\u001b[0m \u001b[32m━━━━━━━━━━━━━━━━━━━━\u001b[0m\u001b[37m\u001b[0m \u001b[1m1s\u001b[0m 69ms/step - accuracy: 0.6689 - loss: 1.0840\n",
            "Epoch 7/50\n",
            "\u001b[1m7/7\u001b[0m \u001b[32m━━━━━━━━━━━━━━━━━━━━\u001b[0m\u001b[37m\u001b[0m \u001b[1m1s\u001b[0m 83ms/step - accuracy: 0.6208 - loss: 0.8457\n",
            "Epoch 8/50\n",
            "\u001b[1m7/7\u001b[0m \u001b[32m━━━━━━━━━━━━━━━━━━━━\u001b[0m\u001b[37m\u001b[0m \u001b[1m1s\u001b[0m 90ms/step - accuracy: 0.6510 - loss: 0.6477\n",
            "Epoch 9/50\n",
            "\u001b[1m7/7\u001b[0m \u001b[32m━━━━━━━━━━━━━━━━━━━━\u001b[0m\u001b[37m\u001b[0m \u001b[1m1s\u001b[0m 68ms/step - accuracy: 0.7740 - loss: 0.5034\n",
            "Epoch 10/50\n",
            "\u001b[1m7/7\u001b[0m \u001b[32m━━━━━━━━━━━━━━━━━━━━\u001b[0m\u001b[37m\u001b[0m \u001b[1m0s\u001b[0m 47ms/step - accuracy: 0.7928 - loss: 0.4708\n",
            "Epoch 11/50\n",
            "\u001b[1m7/7\u001b[0m \u001b[32m━━━━━━━━━━━━━━━━━━━━\u001b[0m\u001b[37m\u001b[0m \u001b[1m1s\u001b[0m 47ms/step - accuracy: 0.7712 - loss: 0.4604\n",
            "Epoch 12/50\n",
            "\u001b[1m7/7\u001b[0m \u001b[32m━━━━━━━━━━━━━━━━━━━━\u001b[0m\u001b[37m\u001b[0m \u001b[1m0s\u001b[0m 51ms/step - accuracy: 0.7507 - loss: 0.5011\n",
            "Epoch 13/50\n",
            "\u001b[1m7/7\u001b[0m \u001b[32m━━━━━━━━━━━━━━━━━━━━\u001b[0m\u001b[37m\u001b[0m \u001b[1m0s\u001b[0m 48ms/step - accuracy: 0.7768 - loss: 0.5002\n",
            "Epoch 14/50\n",
            "\u001b[1m7/7\u001b[0m \u001b[32m━━━━━━━━━━━━━━━━━━━━\u001b[0m\u001b[37m\u001b[0m \u001b[1m0s\u001b[0m 45ms/step - accuracy: 0.7468 - loss: 0.5008\n",
            "Epoch 15/50\n",
            "\u001b[1m7/7\u001b[0m \u001b[32m━━━━━━━━━━━━━━━━━━━━\u001b[0m\u001b[37m\u001b[0m \u001b[1m1s\u001b[0m 46ms/step - accuracy: 0.7602 - loss: 0.5110\n",
            "Epoch 16/50\n",
            "\u001b[1m7/7\u001b[0m \u001b[32m━━━━━━━━━━━━━━━━━━━━\u001b[0m\u001b[37m\u001b[0m \u001b[1m0s\u001b[0m 47ms/step - accuracy: 0.7348 - loss: 0.5319\n",
            "Epoch 17/50\n",
            "\u001b[1m7/7\u001b[0m \u001b[32m━━━━━━━━━━━━━━━━━━━━\u001b[0m\u001b[37m\u001b[0m \u001b[1m1s\u001b[0m 49ms/step - accuracy: 0.7336 - loss: 0.5489\n",
            "Epoch 18/50\n",
            "\u001b[1m7/7\u001b[0m \u001b[32m━━━━━━━━━━━━━━━━━━━━\u001b[0m\u001b[37m\u001b[0m \u001b[1m1s\u001b[0m 44ms/step - accuracy: 0.7487 - loss: 0.4887\n",
            "Epoch 19/50\n",
            "\u001b[1m7/7\u001b[0m \u001b[32m━━━━━━━━━━━━━━━━━━━━\u001b[0m\u001b[37m\u001b[0m \u001b[1m0s\u001b[0m 49ms/step - accuracy: 0.7900 - loss: 0.4417\n",
            "Epoch 20/50\n",
            "\u001b[1m7/7\u001b[0m \u001b[32m━━━━━━━━━━━━━━━━━━━━\u001b[0m\u001b[37m\u001b[0m \u001b[1m0s\u001b[0m 44ms/step - accuracy: 0.8121 - loss: 0.3900\n",
            "Epoch 21/50\n",
            "\u001b[1m7/7\u001b[0m \u001b[32m━━━━━━━━━━━━━━━━━━━━\u001b[0m\u001b[37m\u001b[0m \u001b[1m0s\u001b[0m 42ms/step - accuracy: 0.8510 - loss: 0.3757\n",
            "Epoch 22/50\n",
            "\u001b[1m7/7\u001b[0m \u001b[32m━━━━━━━━━━━━━━━━━━━━\u001b[0m\u001b[37m\u001b[0m \u001b[1m0s\u001b[0m 64ms/step - accuracy: 0.8884 - loss: 0.3320\n",
            "Epoch 23/50\n",
            "\u001b[1m7/7\u001b[0m \u001b[32m━━━━━━━━━━━━━━━━━━━━\u001b[0m\u001b[37m\u001b[0m \u001b[1m1s\u001b[0m 59ms/step - accuracy: 0.9360 - loss: 0.2993\n",
            "Epoch 24/50\n",
            "\u001b[1m7/7\u001b[0m \u001b[32m━━━━━━━━━━━━━━━━━━━━\u001b[0m\u001b[37m\u001b[0m \u001b[1m1s\u001b[0m 45ms/step - accuracy: 0.9262 - loss: 0.2767\n",
            "Epoch 25/50\n",
            "\u001b[1m7/7\u001b[0m \u001b[32m━━━━━━━━━━━━━━━━━━━━\u001b[0m\u001b[37m\u001b[0m \u001b[1m0s\u001b[0m 44ms/step - accuracy: 0.9425 - loss: 0.2586\n",
            "Epoch 26/50\n",
            "\u001b[1m7/7\u001b[0m \u001b[32m━━━━━━━━━━━━━━━━━━━━\u001b[0m\u001b[37m\u001b[0m \u001b[1m0s\u001b[0m 51ms/step - accuracy: 0.9263 - loss: 0.2496\n",
            "Epoch 27/50\n",
            "\u001b[1m7/7\u001b[0m \u001b[32m━━━━━━━━━━━━━━━━━━━━\u001b[0m\u001b[37m\u001b[0m \u001b[1m0s\u001b[0m 43ms/step - accuracy: 0.9324 - loss: 0.2378\n",
            "Epoch 28/50\n",
            "\u001b[1m7/7\u001b[0m \u001b[32m━━━━━━━━━━━━━━━━━━━━\u001b[0m\u001b[37m\u001b[0m \u001b[1m1s\u001b[0m 49ms/step - accuracy: 0.9167 - loss: 0.2410\n",
            "Epoch 29/50\n",
            "\u001b[1m7/7\u001b[0m \u001b[32m━━━━━━━━━━━━━━━━━━━━\u001b[0m\u001b[37m\u001b[0m \u001b[1m0s\u001b[0m 44ms/step - accuracy: 0.8938 - loss: 0.2458\n",
            "Epoch 30/50\n",
            "\u001b[1m7/7\u001b[0m \u001b[32m━━━━━━━━━━━━━━━━━━━━\u001b[0m\u001b[37m\u001b[0m \u001b[1m0s\u001b[0m 46ms/step - accuracy: 0.8826 - loss: 0.2597\n",
            "Epoch 31/50\n",
            "\u001b[1m7/7\u001b[0m \u001b[32m━━━━━━━━━━━━━━━━━━━━\u001b[0m\u001b[37m\u001b[0m \u001b[1m1s\u001b[0m 70ms/step - accuracy: 0.8554 - loss: 0.2913\n",
            "Epoch 32/50\n",
            "\u001b[1m7/7\u001b[0m \u001b[32m━━━━━━━━━━━━━━━━━━━━\u001b[0m\u001b[37m\u001b[0m \u001b[1m1s\u001b[0m 88ms/step - accuracy: 0.8182 - loss: 0.3567\n",
            "Epoch 33/50\n",
            "\u001b[1m7/7\u001b[0m \u001b[32m━━━━━━━━━━━━━━━━━━━━\u001b[0m\u001b[37m\u001b[0m \u001b[1m1s\u001b[0m 70ms/step - accuracy: 0.7915 - loss: 0.4401\n",
            "Epoch 34/50\n",
            "\u001b[1m7/7\u001b[0m \u001b[32m━━━━━━━━━━━━━━━━━━━━\u001b[0m\u001b[37m\u001b[0m \u001b[1m1s\u001b[0m 76ms/step - accuracy: 0.8261 - loss: 0.4590\n",
            "Epoch 35/50\n",
            "\u001b[1m7/7\u001b[0m \u001b[32m━━━━━━━━━━━━━━━━━━━━\u001b[0m\u001b[37m\u001b[0m \u001b[1m0s\u001b[0m 63ms/step - accuracy: 0.8436 - loss: 0.4424\n",
            "Epoch 36/50\n",
            "\u001b[1m7/7\u001b[0m \u001b[32m━━━━━━━━━━━━━━━━━━━━\u001b[0m\u001b[37m\u001b[0m \u001b[1m1s\u001b[0m 62ms/step - accuracy: 0.7399 - loss: 0.6775\n",
            "Epoch 37/50\n",
            "\u001b[1m7/7\u001b[0m \u001b[32m━━━━━━━━━━━━━━━━━━━━\u001b[0m\u001b[37m\u001b[0m \u001b[1m1s\u001b[0m 123ms/step - accuracy: 0.7405 - loss: 0.7435\n",
            "Epoch 38/50\n",
            "\u001b[1m7/7\u001b[0m \u001b[32m━━━━━━━━━━━━━━━━━━━━\u001b[0m\u001b[37m\u001b[0m \u001b[1m1s\u001b[0m 117ms/step - accuracy: 0.6893 - loss: 0.6062\n",
            "Epoch 39/50\n",
            "\u001b[1m7/7\u001b[0m \u001b[32m━━━━━━━━━━━━━━━━━━━━\u001b[0m\u001b[37m\u001b[0m \u001b[1m1s\u001b[0m 77ms/step - accuracy: 0.8576 - loss: 0.3410\n",
            "Epoch 40/50\n",
            "\u001b[1m7/7\u001b[0m \u001b[32m━━━━━━━━━━━━━━━━━━━━\u001b[0m\u001b[37m\u001b[0m \u001b[1m0s\u001b[0m 62ms/step - accuracy: 0.8789 - loss: 0.3032\n",
            "Epoch 41/50\n",
            "\u001b[1m7/7\u001b[0m \u001b[32m━━━━━━━━━━━━━━━━━━━━\u001b[0m\u001b[37m\u001b[0m \u001b[1m1s\u001b[0m 48ms/step - accuracy: 0.9022 - loss: 0.2588\n",
            "Epoch 42/50\n",
            "\u001b[1m7/7\u001b[0m \u001b[32m━━━━━━━━━━━━━━━━━━━━\u001b[0m\u001b[37m\u001b[0m \u001b[1m1s\u001b[0m 56ms/step - accuracy: 0.9446 - loss: 0.1876\n",
            "Epoch 43/50\n",
            "\u001b[1m7/7\u001b[0m \u001b[32m━━━━━━━━━━━━━━━━━━━━\u001b[0m\u001b[37m\u001b[0m \u001b[1m1s\u001b[0m 67ms/step - accuracy: 0.9536 - loss: 0.1585\n",
            "Epoch 44/50\n",
            "\u001b[1m7/7\u001b[0m \u001b[32m━━━━━━━━━━━━━━━━━━━━\u001b[0m\u001b[37m\u001b[0m \u001b[1m1s\u001b[0m 64ms/step - accuracy: 0.9723 - loss: 0.1305\n",
            "Epoch 45/50\n",
            "\u001b[1m7/7\u001b[0m \u001b[32m━━━━━━━━━━━━━━━━━━━━\u001b[0m\u001b[37m\u001b[0m \u001b[1m1s\u001b[0m 60ms/step - accuracy: 0.9905 - loss: 0.1183\n",
            "Epoch 46/50\n",
            "\u001b[1m7/7\u001b[0m \u001b[32m━━━━━━━━━━━━━━━━━━━━\u001b[0m\u001b[37m\u001b[0m \u001b[1m0s\u001b[0m 48ms/step - accuracy: 0.9879 - loss: 0.1145\n",
            "Epoch 47/50\n",
            "\u001b[1m7/7\u001b[0m \u001b[32m━━━━━━━━━━━━━━━━━━━━\u001b[0m\u001b[37m\u001b[0m \u001b[1m1s\u001b[0m 48ms/step - accuracy: 0.9869 - loss: 0.1117\n",
            "Epoch 48/50\n",
            "\u001b[1m7/7\u001b[0m \u001b[32m━━━━━━━━━━━━━━━━━━━━\u001b[0m\u001b[37m\u001b[0m \u001b[1m0s\u001b[0m 48ms/step - accuracy: 0.9869 - loss: 0.1093\n",
            "Epoch 49/50\n",
            "\u001b[1m7/7\u001b[0m \u001b[32m━━━━━━━━━━━━━━━━━━━━\u001b[0m\u001b[37m\u001b[0m \u001b[1m1s\u001b[0m 47ms/step - accuracy: 0.9643 - loss: 0.1174\n",
            "Epoch 50/50\n",
            "\u001b[1m7/7\u001b[0m \u001b[32m━━━━━━━━━━━━━━━━━━━━\u001b[0m\u001b[37m\u001b[0m \u001b[1m1s\u001b[0m 48ms/step - accuracy: 0.9686 - loss: 0.1233\n"
          ]
        },
        {
          "output_type": "display_data",
          "data": {
            "text/plain": [
              "\u001b[1mModel: \"sequential_5\"\u001b[0m\n"
            ],
            "text/html": [
              "<pre style=\"white-space:pre;overflow-x:auto;line-height:normal;font-family:Menlo,'DejaVu Sans Mono',consolas,'Courier New',monospace\"><span style=\"font-weight: bold\">Model: \"sequential_5\"</span>\n",
              "</pre>\n"
            ]
          },
          "metadata": {}
        },
        {
          "output_type": "display_data",
          "data": {
            "text/plain": [
              "┏━━━━━━━━━━━━━━━━━━━━━━━━━━━━━━━━━━━━━━┳━━━━━━━━━━━━━━━━━━━━━━━━━━━━━┳━━━━━━━━━━━━━━━━━┓\n",
              "┃\u001b[1m \u001b[0m\u001b[1mLayer (type)                        \u001b[0m\u001b[1m \u001b[0m┃\u001b[1m \u001b[0m\u001b[1mOutput Shape               \u001b[0m\u001b[1m \u001b[0m┃\u001b[1m \u001b[0m\u001b[1m        Param #\u001b[0m\u001b[1m \u001b[0m┃\n",
              "┡━━━━━━━━━━━━━━━━━━━━━━━━━━━━━━━━━━━━━━╇━━━━━━━━━━━━━━━━━━━━━━━━━━━━━╇━━━━━━━━━━━━━━━━━┩\n",
              "│ dense_17 (\u001b[38;5;33mDense\u001b[0m)                     │ (\u001b[38;5;45mNone\u001b[0m, \u001b[38;5;34m128\u001b[0m)                 │       \u001b[38;5;34m1,572,992\u001b[0m │\n",
              "├──────────────────────────────────────┼─────────────────────────────┼─────────────────┤\n",
              "│ dropout (\u001b[38;5;33mDropout\u001b[0m)                    │ (\u001b[38;5;45mNone\u001b[0m, \u001b[38;5;34m128\u001b[0m)                 │               \u001b[38;5;34m0\u001b[0m │\n",
              "├──────────────────────────────────────┼─────────────────────────────┼─────────────────┤\n",
              "│ dense_18 (\u001b[38;5;33mDense\u001b[0m)                     │ (\u001b[38;5;45mNone\u001b[0m, \u001b[38;5;34m64\u001b[0m)                  │           \u001b[38;5;34m8,256\u001b[0m │\n",
              "├──────────────────────────────────────┼─────────────────────────────┼─────────────────┤\n",
              "│ dense_19 (\u001b[38;5;33mDense\u001b[0m)                     │ (\u001b[38;5;45mNone\u001b[0m, \u001b[38;5;34m1\u001b[0m)                   │              \u001b[38;5;34m65\u001b[0m │\n",
              "└──────────────────────────────────────┴─────────────────────────────┴─────────────────┘\n"
            ],
            "text/html": [
              "<pre style=\"white-space:pre;overflow-x:auto;line-height:normal;font-family:Menlo,'DejaVu Sans Mono',consolas,'Courier New',monospace\">┏━━━━━━━━━━━━━━━━━━━━━━━━━━━━━━━━━━━━━━┳━━━━━━━━━━━━━━━━━━━━━━━━━━━━━┳━━━━━━━━━━━━━━━━━┓\n",
              "┃<span style=\"font-weight: bold\"> Layer (type)                         </span>┃<span style=\"font-weight: bold\"> Output Shape                </span>┃<span style=\"font-weight: bold\">         Param # </span>┃\n",
              "┡━━━━━━━━━━━━━━━━━━━━━━━━━━━━━━━━━━━━━━╇━━━━━━━━━━━━━━━━━━━━━━━━━━━━━╇━━━━━━━━━━━━━━━━━┩\n",
              "│ dense_17 (<span style=\"color: #0087ff; text-decoration-color: #0087ff\">Dense</span>)                     │ (<span style=\"color: #00d7ff; text-decoration-color: #00d7ff\">None</span>, <span style=\"color: #00af00; text-decoration-color: #00af00\">128</span>)                 │       <span style=\"color: #00af00; text-decoration-color: #00af00\">1,572,992</span> │\n",
              "├──────────────────────────────────────┼─────────────────────────────┼─────────────────┤\n",
              "│ dropout (<span style=\"color: #0087ff; text-decoration-color: #0087ff\">Dropout</span>)                    │ (<span style=\"color: #00d7ff; text-decoration-color: #00d7ff\">None</span>, <span style=\"color: #00af00; text-decoration-color: #00af00\">128</span>)                 │               <span style=\"color: #00af00; text-decoration-color: #00af00\">0</span> │\n",
              "├──────────────────────────────────────┼─────────────────────────────┼─────────────────┤\n",
              "│ dense_18 (<span style=\"color: #0087ff; text-decoration-color: #0087ff\">Dense</span>)                     │ (<span style=\"color: #00d7ff; text-decoration-color: #00d7ff\">None</span>, <span style=\"color: #00af00; text-decoration-color: #00af00\">64</span>)                  │           <span style=\"color: #00af00; text-decoration-color: #00af00\">8,256</span> │\n",
              "├──────────────────────────────────────┼─────────────────────────────┼─────────────────┤\n",
              "│ dense_19 (<span style=\"color: #0087ff; text-decoration-color: #0087ff\">Dense</span>)                     │ (<span style=\"color: #00d7ff; text-decoration-color: #00d7ff\">None</span>, <span style=\"color: #00af00; text-decoration-color: #00af00\">1</span>)                   │              <span style=\"color: #00af00; text-decoration-color: #00af00\">65</span> │\n",
              "└──────────────────────────────────────┴─────────────────────────────┴─────────────────┘\n",
              "</pre>\n"
            ]
          },
          "metadata": {}
        },
        {
          "output_type": "display_data",
          "data": {
            "text/plain": [
              "\u001b[1m Total params: \u001b[0m\u001b[38;5;34m1,581,313\u001b[0m (6.03 MB)\n"
            ],
            "text/html": [
              "<pre style=\"white-space:pre;overflow-x:auto;line-height:normal;font-family:Menlo,'DejaVu Sans Mono',consolas,'Courier New',monospace\"><span style=\"font-weight: bold\"> Total params: </span><span style=\"color: #00af00; text-decoration-color: #00af00\">1,581,313</span> (6.03 MB)\n",
              "</pre>\n"
            ]
          },
          "metadata": {}
        },
        {
          "output_type": "display_data",
          "data": {
            "text/plain": [
              "\u001b[1m Trainable params: \u001b[0m\u001b[38;5;34m1,581,313\u001b[0m (6.03 MB)\n"
            ],
            "text/html": [
              "<pre style=\"white-space:pre;overflow-x:auto;line-height:normal;font-family:Menlo,'DejaVu Sans Mono',consolas,'Courier New',monospace\"><span style=\"font-weight: bold\"> Trainable params: </span><span style=\"color: #00af00; text-decoration-color: #00af00\">1,581,313</span> (6.03 MB)\n",
              "</pre>\n"
            ]
          },
          "metadata": {}
        },
        {
          "output_type": "display_data",
          "data": {
            "text/plain": [
              "\u001b[1m Non-trainable params: \u001b[0m\u001b[38;5;34m0\u001b[0m (0.00 B)\n"
            ],
            "text/html": [
              "<pre style=\"white-space:pre;overflow-x:auto;line-height:normal;font-family:Menlo,'DejaVu Sans Mono',consolas,'Courier New',monospace\"><span style=\"font-weight: bold\"> Non-trainable params: </span><span style=\"color: #00af00; text-decoration-color: #00af00\">0</span> (0.00 B)\n",
              "</pre>\n"
            ]
          },
          "metadata": {}
        },
        {
          "output_type": "stream",
          "name": "stdout",
          "text": [
            "Epoch 1/50\n",
            "\u001b[1m7/7\u001b[0m \u001b[32m━━━━━━━━━━━━━━━━━━━━\u001b[0m\u001b[37m\u001b[0m \u001b[1m2s\u001b[0m 37ms/step - accuracy: 0.5062 - loss: 1.3813\n",
            "Epoch 2/50\n",
            "\u001b[1m7/7\u001b[0m \u001b[32m━━━━━━━━━━━━━━━━━━━━\u001b[0m\u001b[37m\u001b[0m \u001b[1m1s\u001b[0m 26ms/step - accuracy: 0.5930 - loss: 1.1909\n",
            "Epoch 3/50\n",
            "\u001b[1m7/7\u001b[0m \u001b[32m━━━━━━━━━━━━━━━━━━━━\u001b[0m\u001b[37m\u001b[0m \u001b[1m0s\u001b[0m 28ms/step - accuracy: 0.6196 - loss: 1.0365\n",
            "Epoch 4/50\n",
            "\u001b[1m7/7\u001b[0m \u001b[32m━━━━━━━━━━━━━━━━━━━━\u001b[0m\u001b[37m\u001b[0m \u001b[1m0s\u001b[0m 40ms/step - accuracy: 0.5606 - loss: 1.2320\n",
            "Epoch 5/50\n",
            "\u001b[1m7/7\u001b[0m \u001b[32m━━━━━━━━━━━━━━━━━━━━\u001b[0m\u001b[37m\u001b[0m \u001b[1m1s\u001b[0m 52ms/step - accuracy: 0.5599 - loss: 0.9576\n",
            "Epoch 6/50\n",
            "\u001b[1m7/7\u001b[0m \u001b[32m━━━━━━━━━━━━━━━━━━━━\u001b[0m\u001b[37m\u001b[0m \u001b[1m0s\u001b[0m 48ms/step - accuracy: 0.6048 - loss: 0.7569\n",
            "Epoch 7/50\n",
            "\u001b[1m7/7\u001b[0m \u001b[32m━━━━━━━━━━━━━━━━━━━━\u001b[0m\u001b[37m\u001b[0m \u001b[1m1s\u001b[0m 38ms/step - accuracy: 0.6504 - loss: 0.6852\n",
            "Epoch 8/50\n",
            "\u001b[1m7/7\u001b[0m \u001b[32m━━━━━━━━━━━━━━━━━━━━\u001b[0m\u001b[37m\u001b[0m \u001b[1m0s\u001b[0m 44ms/step - accuracy: 0.6351 - loss: 0.7134\n",
            "Epoch 9/50\n",
            "\u001b[1m7/7\u001b[0m \u001b[32m━━━━━━━━━━━━━━━━━━━━\u001b[0m\u001b[37m\u001b[0m \u001b[1m0s\u001b[0m 35ms/step - accuracy: 0.6746 - loss: 0.7076\n",
            "Epoch 10/50\n",
            "\u001b[1m7/7\u001b[0m \u001b[32m━━━━━━━━━━━━━━━━━━━━\u001b[0m\u001b[37m\u001b[0m \u001b[1m0s\u001b[0m 37ms/step - accuracy: 0.6016 - loss: 0.7013\n",
            "Epoch 11/50\n",
            "\u001b[1m7/7\u001b[0m \u001b[32m━━━━━━━━━━━━━━━━━━━━\u001b[0m\u001b[37m\u001b[0m \u001b[1m0s\u001b[0m 48ms/step - accuracy: 0.6124 - loss: 0.6813\n",
            "Epoch 12/50\n",
            "\u001b[1m7/7\u001b[0m \u001b[32m━━━━━━━━━━━━━━━━━━━━\u001b[0m\u001b[37m\u001b[0m \u001b[1m0s\u001b[0m 36ms/step - accuracy: 0.6681 - loss: 0.6473\n",
            "Epoch 13/50\n",
            "\u001b[1m7/7\u001b[0m \u001b[32m━━━━━━━━━━━━━━━━━━━━\u001b[0m\u001b[37m\u001b[0m \u001b[1m0s\u001b[0m 37ms/step - accuracy: 0.6494 - loss: 0.6671\n",
            "Epoch 14/50\n",
            "\u001b[1m7/7\u001b[0m \u001b[32m━━━━━━━━━━━━━━━━━━━━\u001b[0m\u001b[37m\u001b[0m \u001b[1m0s\u001b[0m 40ms/step - accuracy: 0.5971 - loss: 0.6773\n",
            "Epoch 15/50\n",
            "\u001b[1m7/7\u001b[0m \u001b[32m━━━━━━━━━━━━━━━━━━━━\u001b[0m\u001b[37m\u001b[0m \u001b[1m0s\u001b[0m 44ms/step - accuracy: 0.6815 - loss: 0.6178\n",
            "Epoch 16/50\n",
            "\u001b[1m7/7\u001b[0m \u001b[32m━━━━━━━━━━━━━━━━━━━━\u001b[0m\u001b[37m\u001b[0m \u001b[1m0s\u001b[0m 39ms/step - accuracy: 0.6504 - loss: 0.5589\n",
            "Epoch 17/50\n",
            "\u001b[1m7/7\u001b[0m \u001b[32m━━━━━━━━━━━━━━━━━━━━\u001b[0m\u001b[37m\u001b[0m \u001b[1m1s\u001b[0m 27ms/step - accuracy: 0.6841 - loss: 0.5901\n",
            "Epoch 18/50\n",
            "\u001b[1m7/7\u001b[0m \u001b[32m━━━━━━━━━━━━━━━━━━━━\u001b[0m\u001b[37m\u001b[0m \u001b[1m0s\u001b[0m 25ms/step - accuracy: 0.6911 - loss: 0.5698\n",
            "Epoch 19/50\n",
            "\u001b[1m7/7\u001b[0m \u001b[32m━━━━━━━━━━━━━━━━━━━━\u001b[0m\u001b[37m\u001b[0m \u001b[1m0s\u001b[0m 25ms/step - accuracy: 0.7438 - loss: 0.5633\n",
            "Epoch 20/50\n",
            "\u001b[1m7/7\u001b[0m \u001b[32m━━━━━━━━━━━━━━━━━━━━\u001b[0m\u001b[37m\u001b[0m \u001b[1m0s\u001b[0m 29ms/step - accuracy: 0.6643 - loss: 0.5819\n",
            "Epoch 21/50\n",
            "\u001b[1m7/7\u001b[0m \u001b[32m━━━━━━━━━━━━━━━━━━━━\u001b[0m\u001b[37m\u001b[0m \u001b[1m0s\u001b[0m 27ms/step - accuracy: 0.6791 - loss: 0.5477\n",
            "Epoch 22/50\n",
            "\u001b[1m7/7\u001b[0m \u001b[32m━━━━━━━━━━━━━━━━━━━━\u001b[0m\u001b[37m\u001b[0m \u001b[1m0s\u001b[0m 30ms/step - accuracy: 0.6608 - loss: 0.5709\n",
            "Epoch 23/50\n",
            "\u001b[1m7/7\u001b[0m \u001b[32m━━━━━━━━━━━━━━━━━━━━\u001b[0m\u001b[37m\u001b[0m \u001b[1m0s\u001b[0m 38ms/step - accuracy: 0.6943 - loss: 0.5473\n",
            "Epoch 24/50\n",
            "\u001b[1m7/7\u001b[0m \u001b[32m━━━━━━━━━━━━━━━━━━━━\u001b[0m\u001b[37m\u001b[0m \u001b[1m0s\u001b[0m 39ms/step - accuracy: 0.6956 - loss: 0.5350\n",
            "Epoch 25/50\n",
            "\u001b[1m7/7\u001b[0m \u001b[32m━━━━━━━━━━━━━━━━━━━━\u001b[0m\u001b[37m\u001b[0m \u001b[1m0s\u001b[0m 35ms/step - accuracy: 0.7133 - loss: 0.5509\n",
            "Epoch 26/50\n",
            "\u001b[1m7/7\u001b[0m \u001b[32m━━━━━━━━━━━━━━━━━━━━\u001b[0m\u001b[37m\u001b[0m \u001b[1m0s\u001b[0m 26ms/step - accuracy: 0.7063 - loss: 0.5613\n",
            "Epoch 27/50\n",
            "\u001b[1m7/7\u001b[0m \u001b[32m━━━━━━━━━━━━━━━━━━━━\u001b[0m\u001b[37m\u001b[0m \u001b[1m0s\u001b[0m 28ms/step - accuracy: 0.7227 - loss: 0.5461\n",
            "Epoch 28/50\n",
            "\u001b[1m7/7\u001b[0m \u001b[32m━━━━━━━━━━━━━━━━━━━━\u001b[0m\u001b[37m\u001b[0m \u001b[1m0s\u001b[0m 28ms/step - accuracy: 0.6495 - loss: 0.6201\n",
            "Epoch 29/50\n",
            "\u001b[1m7/7\u001b[0m \u001b[32m━━━━━━━━━━━━━━━━━━━━\u001b[0m\u001b[37m\u001b[0m \u001b[1m0s\u001b[0m 32ms/step - accuracy: 0.7346 - loss: 0.5326\n",
            "Epoch 30/50\n",
            "\u001b[1m7/7\u001b[0m \u001b[32m━━━━━━━━━━━━━━━━━━━━\u001b[0m\u001b[37m\u001b[0m \u001b[1m0s\u001b[0m 37ms/step - accuracy: 0.6861 - loss: 0.5169\n",
            "Epoch 31/50\n",
            "\u001b[1m7/7\u001b[0m \u001b[32m━━━━━━━━━━━━━━━━━━━━\u001b[0m\u001b[37m\u001b[0m \u001b[1m0s\u001b[0m 37ms/step - accuracy: 0.7630 - loss: 0.4703\n",
            "Epoch 32/50\n",
            "\u001b[1m7/7\u001b[0m \u001b[32m━━━━━━━━━━━━━━━━━━━━\u001b[0m\u001b[37m\u001b[0m \u001b[1m0s\u001b[0m 34ms/step - accuracy: 0.7223 - loss: 0.5033\n",
            "Epoch 33/50\n",
            "\u001b[1m7/7\u001b[0m \u001b[32m━━━━━━━━━━━━━━━━━━━━\u001b[0m\u001b[37m\u001b[0m \u001b[1m0s\u001b[0m 25ms/step - accuracy: 0.7521 - loss: 0.4896\n",
            "Epoch 34/50\n",
            "\u001b[1m7/7\u001b[0m \u001b[32m━━━━━━━━━━━━━━━━━━━━\u001b[0m\u001b[37m\u001b[0m \u001b[1m0s\u001b[0m 30ms/step - accuracy: 0.7663 - loss: 0.4943\n",
            "Epoch 35/50\n",
            "\u001b[1m7/7\u001b[0m \u001b[32m━━━━━━━━━━━━━━━━━━━━\u001b[0m\u001b[37m\u001b[0m \u001b[1m0s\u001b[0m 26ms/step - accuracy: 0.7887 - loss: 0.4597\n",
            "Epoch 36/50\n",
            "\u001b[1m7/7\u001b[0m \u001b[32m━━━━━━━━━━━━━━━━━━━━\u001b[0m\u001b[37m\u001b[0m \u001b[1m0s\u001b[0m 26ms/step - accuracy: 0.7665 - loss: 0.4438\n",
            "Epoch 37/50\n",
            "\u001b[1m7/7\u001b[0m \u001b[32m━━━━━━━━━━━━━━━━━━━━\u001b[0m\u001b[37m\u001b[0m \u001b[1m0s\u001b[0m 26ms/step - accuracy: 0.7837 - loss: 0.4469\n",
            "Epoch 38/50\n",
            "\u001b[1m7/7\u001b[0m \u001b[32m━━━━━━━━━━━━━━━━━━━━\u001b[0m\u001b[37m\u001b[0m \u001b[1m0s\u001b[0m 30ms/step - accuracy: 0.7933 - loss: 0.4169\n",
            "Epoch 39/50\n",
            "\u001b[1m7/7\u001b[0m \u001b[32m━━━━━━━━━━━━━━━━━━━━\u001b[0m\u001b[37m\u001b[0m \u001b[1m0s\u001b[0m 25ms/step - accuracy: 0.8002 - loss: 0.4239\n",
            "Epoch 40/50\n",
            "\u001b[1m7/7\u001b[0m \u001b[32m━━━━━━━━━━━━━━━━━━━━\u001b[0m\u001b[37m\u001b[0m \u001b[1m0s\u001b[0m 28ms/step - accuracy: 0.7981 - loss: 0.4015\n",
            "Epoch 41/50\n",
            "\u001b[1m7/7\u001b[0m \u001b[32m━━━━━━━━━━━━━━━━━━━━\u001b[0m\u001b[37m\u001b[0m \u001b[1m0s\u001b[0m 34ms/step - accuracy: 0.8104 - loss: 0.3995\n",
            "Epoch 42/50\n",
            "\u001b[1m7/7\u001b[0m \u001b[32m━━━━━━━━━━━━━━━━━━━━\u001b[0m\u001b[37m\u001b[0m \u001b[1m0s\u001b[0m 40ms/step - accuracy: 0.7824 - loss: 0.4464\n",
            "Epoch 43/50\n",
            "\u001b[1m7/7\u001b[0m \u001b[32m━━━━━━━━━━━━━━━━━━━━\u001b[0m\u001b[37m\u001b[0m \u001b[1m0s\u001b[0m 39ms/step - accuracy: 0.8067 - loss: 0.3726\n",
            "Epoch 44/50\n",
            "\u001b[1m7/7\u001b[0m \u001b[32m━━━━━━━━━━━━━━━━━━━━\u001b[0m\u001b[37m\u001b[0m \u001b[1m0s\u001b[0m 34ms/step - accuracy: 0.8467 - loss: 0.3954\n",
            "Epoch 45/50\n",
            "\u001b[1m7/7\u001b[0m \u001b[32m━━━━━━━━━━━━━━━━━━━━\u001b[0m\u001b[37m\u001b[0m \u001b[1m0s\u001b[0m 30ms/step - accuracy: 0.7703 - loss: 0.4126\n",
            "Epoch 46/50\n",
            "\u001b[1m7/7\u001b[0m \u001b[32m━━━━━━━━━━━━━━━━━━━━\u001b[0m\u001b[37m\u001b[0m \u001b[1m0s\u001b[0m 26ms/step - accuracy: 0.8685 - loss: 0.3309\n",
            "Epoch 47/50\n",
            "\u001b[1m7/7\u001b[0m \u001b[32m━━━━━━━━━━━━━━━━━━━━\u001b[0m\u001b[37m\u001b[0m \u001b[1m0s\u001b[0m 28ms/step - accuracy: 0.8400 - loss: 0.3595\n",
            "Epoch 48/50\n",
            "\u001b[1m7/7\u001b[0m \u001b[32m━━━━━━━━━━━━━━━━━━━━\u001b[0m\u001b[37m\u001b[0m \u001b[1m0s\u001b[0m 26ms/step - accuracy: 0.8148 - loss: 0.3841\n",
            "Epoch 49/50\n",
            "\u001b[1m7/7\u001b[0m \u001b[32m━━━━━━━━━━━━━━━━━━━━\u001b[0m\u001b[37m\u001b[0m \u001b[1m0s\u001b[0m 29ms/step - accuracy: 0.7783 - loss: 0.4092\n",
            "Epoch 50/50\n",
            "\u001b[1m7/7\u001b[0m \u001b[32m━━━━━━━━━━━━━━━━━━━━\u001b[0m\u001b[37m\u001b[0m \u001b[1m0s\u001b[0m 27ms/step - accuracy: 0.7367 - loss: 0.4210\n",
            "\u001b[1m7/7\u001b[0m \u001b[32m━━━━━━━━━━━━━━━━━━━━\u001b[0m\u001b[37m\u001b[0m \u001b[1m0s\u001b[0m 19ms/step\n",
            "\u001b[1m2/2\u001b[0m \u001b[32m━━━━━━━━━━━━━━━━━━━━\u001b[0m\u001b[37m\u001b[0m \u001b[1m0s\u001b[0m 28ms/step\n",
            "\u001b[1m7/7\u001b[0m \u001b[32m━━━━━━━━━━━━━━━━━━━━\u001b[0m\u001b[37m\u001b[0m \u001b[1m0s\u001b[0m 13ms/step\n",
            "\u001b[1m2/2\u001b[0m \u001b[32m━━━━━━━━━━━━━━━━━━━━\u001b[0m\u001b[37m\u001b[0m \u001b[1m0s\u001b[0m 38ms/step\n",
            "\n",
            "\n",
            "Acurácia no treino do Modelo 1: 0.9425837320574163\n",
            "Acurácia no teste do Modelo 1: 0.78\n",
            "\n",
            "Acurácia no treino do Modelo 2: 0.8277511961722488\n",
            "Acurácia no teste do Modelo 2: 0.5\n"
          ]
        }
      ],
      "source": [
        "### Início do código para o Modelo 1 ###\n",
        "modelo_1 = tf.keras.models.Sequential([\n",
        "    tf.keras.layers.Dense(256, activation='relu', input_shape=(treino_x.shape[1],)),  # input_shape apenas aqui\n",
        "    tf.keras.layers.Dense(64, activation='relu'),\n",
        "    tf.keras.layers.Dense(1, activation='sigmoid')\n",
        "])\n",
        "### Fim do código para o Modelo 1 ###\n",
        "\n",
        "### Início do código para o Modelo 2 ###\n",
        "modelo_2 = tf.keras.models.Sequential([\n",
        "    tf.keras.layers.Dense(128, activation='relu', input_shape=(treino_x.shape[1],)),  # input_shape apenas aqui\n",
        "    tf.keras.layers.Dropout(0.3),\n",
        "    tf.keras.layers.Dense(64, activation='relu'),\n",
        "    tf.keras.layers.Dense(1, activation='sigmoid')\n",
        "])\n",
        "### Fim do código para o Modelo 2 ###\n",
        "\n",
        "# Treinando o Modelo 1\n",
        "modelo_treinado_1, history_1 = treinar_modelo(modelo_1, treino_x, treino_y, epochs=50)\n",
        "\n",
        "# Treinando o Modelo 2\n",
        "modelo_treinado_2, history_2 = treinar_modelo(modelo_2, treino_x, treino_y, epochs=50)\n",
        "# Predições para o Modelo 1\n",
        "pred_treino_1 = (modelo_treinado_1.predict(treino_x) > 0.5).astype(int).reshape(-1)\n",
        "pred_teste_1 = (modelo_treinado_1.predict(teste_x) > 0.5).astype(int).reshape(-1)\n",
        "\n",
        "# Acurácias para o Modelo 1\n",
        "treino_accuracy_1 = accuracy_score(treino_y, pred_treino_1)\n",
        "teste_accuracy_1 = accuracy_score(teste_y, pred_teste_1)\n",
        "\n",
        "# Predições para o Modelo 2\n",
        "pred_treino_2 = (modelo_treinado_2.predict(treino_x) > 0.5).astype(int).reshape(-1)\n",
        "pred_teste_2 = (modelo_treinado_2.predict(teste_x) > 0.5).astype(int).reshape(-1)\n",
        "\n",
        "# Acurácias para o Modelo 2\n",
        "treino_accuracy_2 = accuracy_score(treino_y, pred_treino_2)\n",
        "teste_accuracy_2 = accuracy_score(teste_y, pred_teste_2)\n",
        "\n",
        "# Imprimindo as Acurácias\n",
        "print(f'\\n\\nAcurácia no treino do Modelo 1: {treino_accuracy_1}')\n",
        "print(f'Acurácia no teste do Modelo 1: {teste_accuracy_1}\\n')\n",
        "\n",
        "print(f'Acurácia no treino do Modelo 2: {treino_accuracy_2}')\n",
        "print(f'Acurácia no teste do Modelo 2: {teste_accuracy_2}')\n",
        "\n"
      ]
    },
    {
      "cell_type": "markdown",
      "metadata": {
        "id": "HL0n8qNxyA2C"
      },
      "source": [
        "### Analisando as redes treinadas (5pt)"
      ]
    },
    {
      "cell_type": "markdown",
      "metadata": {
        "id": "3_V-NodmyERd"
      },
      "source": [
        "**ToDo:** Qual combinação rendeu o melhor resultado? Tente explicar o por que.\n",
        "\n",
        "```\n",
        "A combinação do modelo 1 usando 256 foi melhor, creio que seja devido a quantidade de parâmetros usados, aumentando sua precisão.\n",
        "```"
      ]
    },
    {
      "cell_type": "markdown",
      "metadata": {
        "id": "1o-bHRoVegxy"
      },
      "source": [
        "## Analisando outras métricas (10pt)"
      ]
    },
    {
      "cell_type": "markdown",
      "metadata": {
        "id": "TYLrASM2emLl"
      },
      "source": [
        "Nem sempre somente a acurácia é uma boa análise. Outras métricas podem ser úteis, como precisão, revocação e F1-Score. Para isso, considere os quatro modelos criados e os outros que você desenvolveu e avalie as métricas precisão, revocação e F1-Score."
      ]
    },
    {
      "cell_type": "code",
      "execution_count": null,
      "metadata": {
        "id": "Kta3kzgHe7A0"
      },
      "outputs": [],
      "source": [
        "from sklearn.metrics import f1_score\n",
        "from sklearn.metrics import precision_score\n",
        "from sklearn.metrics import recall_score"
      ]
    },
    {
      "cell_type": "markdown",
      "metadata": {
        "id": "eGKVnsR9h8ro"
      },
      "source": [
        "### Desenvolva o código para calcular as métricas (5pt)"
      ]
    },
    {
      "cell_type": "markdown",
      "metadata": {
        "id": "OXCepA5MfPzw"
      },
      "source": [
        "Após a importação do pacote, avalie cada uma das métricas para **todos** os modelos somente nos dados de teste."
      ]
    },
    {
      "cell_type": "code",
      "execution_count": null,
      "metadata": {
        "id": "rM7Ilf16fT8B",
        "colab": {
          "base_uri": "https://localhost:8080/"
        },
        "outputId": "551d5a96-93e9-4f1a-a573-40e262239aed"
      },
      "outputs": [
        {
          "output_type": "stream",
          "name": "stdout",
          "text": [
            "Precisão do Modelo 1: 0.8235294117647058\n",
            "Recall do Modelo 1: 0.8484848484848485\n",
            "F1-Score do Modelo 1: 0.835820895522388\n",
            "Precisão do Modelo 2: 0.8333333333333334\n",
            "Recall do Modelo 2: 0.30303030303030304\n",
            "F1-Score do Modelo 2: 0.4444444444444444\n"
          ]
        }
      ],
      "source": [
        "from sklearn.metrics import precision_score, recall_score, f1_score\n",
        "\n",
        "# Cálculo das métricas para o Modelo 1\n",
        "precision_1 = precision_score(teste_y, pred_teste_1)\n",
        "recall_1 = recall_score(teste_y, pred_teste_1)\n",
        "f1_1 = f1_score(teste_y, pred_teste_1)\n",
        "\n",
        "print(f'Precisão do Modelo 1: {precision_1}')\n",
        "print(f'Recall do Modelo 1: {recall_1}')\n",
        "print(f'F1-Score do Modelo 1: {f1_1}')\n",
        "\n",
        "# Cálculo das métricas para o Modelo 2\n",
        "precision_2 = precision_score(teste_y, pred_teste_2)\n",
        "recall_2 = recall_score(teste_y, pred_teste_2)\n",
        "f1_2 = f1_score(teste_y, pred_teste_2)\n",
        "\n",
        "print(f'Precisão do Modelo 2: {precision_2}')\n",
        "print(f'Recall do Modelo 2: {recall_2}')\n",
        "print(f'F1-Score do Modelo 2: {f1_2}')\n"
      ]
    },
    {
      "cell_type": "markdown",
      "metadata": {
        "id": "8kDQGxDyhpit"
      },
      "source": [
        "### Analisando o treinamento dos modelos"
      ]
    },
    {
      "cell_type": "markdown",
      "metadata": {
        "id": "6xzgxQp1KwWx"
      },
      "source": [
        "**ToDo:** O que você pode falar sobre os modelos treinados e as métricas avaliadas? (5pt)\n",
        "\n",
        "```\n",
        "Para uma análise mais completa, adicionamos métricas como precisão, recall e F1-score, que ajudam a entender melhor o desempenho dos modelos. A precisão nos mostra quantas previsões positivas estavam corretas, o recall indica quantos dos casos realmente positivos foram identificados, e o F1-score equilibra essas duas métricas. Isso é importante porque um modelo pode ter alta acurácia, mas ainda cometer muitos erros ao classificar casos específicos. Comparando esses valores entre os modelos, podemos entender melhor qual deles é mais eficiente e se há necessidade de ajustes, como modificar a estrutura da rede ou otimizar hiperparâmetros para melhorar os resultados.\n",
        "```"
      ]
    },
    {
      "cell_type": "code",
      "source": [
        "!jupyter nbconvert --to html /content/Braz_Lab3_Regressão_Logística_com_TensorFlow.ipynb"
      ],
      "metadata": {
        "colab": {
          "base_uri": "https://localhost:8080/"
        },
        "id": "r8lvzfHq2G_Q",
        "outputId": "6f2460f6-c71c-4c47-afdd-d039c67d55a3"
      },
      "execution_count": null,
      "outputs": [
        {
          "output_type": "stream",
          "name": "stdout",
          "text": [
            "[NbConvertApp] Converting notebook /content/Braz_Lab3_Regressão_Logística_com_TensorFlow.ipynb to html\n",
            "[NbConvertApp] Writing 802644 bytes to /content/Braz_Lab3_Regressão_Logística_com_TensorFlow.html\n"
          ]
        }
      ]
    }
  ],
  "metadata": {
    "colab": {
      "provenance": []
    },
    "kernelspec": {
      "display_name": "Python 3",
      "name": "python3"
    },
    "language_info": {
      "name": "python"
    }
  },
  "nbformat": 4,
  "nbformat_minor": 0
}