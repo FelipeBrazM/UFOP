{
  "nbformat": 4,
  "nbformat_minor": 0,
  "metadata": {
    "colab": {
      "provenance": []
    },
    "kernelspec": {
      "name": "python3",
      "display_name": "Python 3"
    },
    "language_info": {
      "name": "python"
    }
  },
  "cells": [
    {
      "cell_type": "markdown",
      "source": [
        "# Lab 1 - BCC406/PCC177\n",
        "\n",
        "## REDES NEURAIS E APRENDIZAGEM EM PROFUNDIDADE\n",
        "\n",
        "## Pacote *NumPy*\n",
        "\n",
        "### Prof. Eduardo e Prof. Pedro\n",
        "\n",
        "Objetivos:\n",
        "\n",
        "- Uso de *NumPy*.\n",
        "\n",
        "Data da entrega : 10/12/2024\n",
        "\n",
        "- Complete o código (marcado com 'ToDo') e quando requisitado, escreva textos diretamente nos notebooks. Onde tiver *None*, substitua pelo seu código.\n",
        "- Execute todo notebook e salve tudo em um PDF **nomeado** como \"NomeSobrenome-LabX.pdf\"\n",
        "- Envie o PDF e o o *.ipynb* via [Formulário Google](https://forms.gle/1oi7xfJHesmso8mS6).\n",
        "\n",
        "Sugestão de leitura:\n",
        "\n",
        "- Ler [Capítulo 2 do livro texto](https://pt.d2l.ai/chapter_preliminaries/index.html). Dê ênfase para as seções 2.3 e 2.4. **Sugerimos fortemente** abrir com o Colab e executar estas duas seções passo a passo.\n"
      ],
      "metadata": {
        "id": "X9fHBqFr2AoZ"
      }
    },
    {
      "cell_type": "markdown",
      "source": [
        "## ***NumPy***"
      ],
      "metadata": {
        "id": "eDZEOwGdS_fY"
      }
    },
    {
      "cell_type": "markdown",
      "metadata": {
        "id": "rgbVriCaYte2"
      },
      "source": [
        "*NumPy* é uma das bibliotecas mais populares para computação científica. Ela foi desenvolvida para dar suporte a operações com *arrays* de *N* dimensões e implementa métodos úteis para operações de álgebra linear, geração de números aleatórios, etc."
      ]
    },
    {
      "cell_type": "markdown",
      "source": [
        "### Criando arrays (5pt)"
      ],
      "metadata": {
        "id": "ExS_LMr9TC3P"
      }
    },
    {
      "cell_type": "code",
      "metadata": {
        "id": "_BahTvnI2YfB"
      },
      "source": [
        "# Primeiramente, vamos importar a biblioteca\n",
        "import numpy as np"
      ],
      "execution_count": null,
      "outputs": []
    },
    {
      "cell_type": "code",
      "metadata": {
        "id": "GZ7qRwmy11Vv",
        "outputId": "36c1987f-c235-4be7-b15e-26cbf861ac70",
        "colab": {
          "base_uri": "https://localhost:8080/"
        }
      },
      "source": [
        "# Usaremos a função zeros para criar um array de uma dimensão de tamanho 5\n",
        "np.zeros(5)"
      ],
      "execution_count": 40,
      "outputs": [
        {
          "output_type": "execute_result",
          "data": {
            "text/plain": [
              "array([0., 0., 0., 0., 0.])"
            ]
          },
          "metadata": {},
          "execution_count": 40
        }
      ]
    },
    {
      "cell_type": "code",
      "metadata": {
        "id": "AZFe47z7c1c_",
        "outputId": "12cce725-5302-4835-8c5b-0e1c636c3c72",
        "colab": {
          "base_uri": "https://localhost:8080/"
        }
      },
      "source": [
        "# Da mesma forma, para criar um array de duas dimensões:\n",
        "np.zeros((3,4))"
      ],
      "execution_count": 41,
      "outputs": [
        {
          "output_type": "execute_result",
          "data": {
            "text/plain": [
              "array([[0., 0., 0., 0.],\n",
              "       [0., 0., 0., 0.],\n",
              "       [0., 0., 0., 0.]])"
            ]
          },
          "metadata": {},
          "execution_count": 41
        }
      ]
    },
    {
      "cell_type": "code",
      "source": [
        "# ToDo: Crie um array de três dimensões com o shape (3, 3, 3)"
      ],
      "metadata": {
        "id": "GCTkdOYLdSiz"
      },
      "execution_count": 42,
      "outputs": []
    },
    {
      "cell_type": "code",
      "source": [
        "np.zeros((3,3,3))"
      ],
      "metadata": {
        "id": "MsDmXDEjK_L5",
        "outputId": "69d39969-f916-4216-f9af-6a652a1c5a28",
        "colab": {
          "base_uri": "https://localhost:8080/"
        }
      },
      "execution_count": 43,
      "outputs": [
        {
          "output_type": "execute_result",
          "data": {
            "text/plain": [
              "array([[[0., 0., 0.],\n",
              "        [0., 0., 0.],\n",
              "        [0., 0., 0.]],\n",
              "\n",
              "       [[0., 0., 0.],\n",
              "        [0., 0., 0.],\n",
              "        [0., 0., 0.]],\n",
              "\n",
              "       [[0., 0., 0.],\n",
              "        [0., 0., 0.],\n",
              "        [0., 0., 0.]]])"
            ]
          },
          "metadata": {},
          "execution_count": 43
        }
      ]
    },
    {
      "cell_type": "markdown",
      "source": [
        "### Vocabulário comum (25pt)"
      ],
      "metadata": {
        "id": "pyg4oHLMTrV2"
      }
    },
    {
      "cell_type": "markdown",
      "metadata": {
        "id": "M8KT-jbZc_6k"
      },
      "source": [
        "* Em *NumPy*, cada dimensão é chamada eixo (***axis***).\n",
        "* Um array é uma lista de axis e uma lista de tamanho dos axis é o que chamamos de **shape** do array.\n",
        "    * Por exemplo, o shape da matrix acima é `(3, 4)`.\n",
        "    \n",
        "* O tamanho (***size***) de uma array é o número total de elementos, por exemplo, no array 2D acima = `3 * 4 = 12`."
      ]
    },
    {
      "cell_type": "code",
      "metadata": {
        "id": "1YWyPHbuc_SN",
        "outputId": "b684ca9f-855b-423f-90a3-d94eaafa47a6",
        "colab": {
          "base_uri": "https://localhost:8080/"
        }
      },
      "source": [
        "# Criando e mostrando o array\n",
        "a = np.zeros((3,4))\n",
        "a"
      ],
      "execution_count": 44,
      "outputs": [
        {
          "output_type": "execute_result",
          "data": {
            "text/plain": [
              "array([[0., 0., 0., 0.],\n",
              "       [0., 0., 0., 0.],\n",
              "       [0., 0., 0., 0.]])"
            ]
          },
          "metadata": {},
          "execution_count": 44
        }
      ]
    },
    {
      "cell_type": "code",
      "metadata": {
        "id": "UUvZr2bBcwC7",
        "outputId": "d3bf3cf4-e8c3-47aa-f7bd-6c9c5b40ea92",
        "colab": {
          "base_uri": "https://localhost:8080/"
        }
      },
      "source": [
        "# Verificando o shape do array\n",
        "a.shape"
      ],
      "execution_count": 45,
      "outputs": [
        {
          "output_type": "execute_result",
          "data": {
            "text/plain": [
              "(3, 4)"
            ]
          },
          "metadata": {},
          "execution_count": 45
        }
      ]
    },
    {
      "cell_type": "code",
      "metadata": {
        "id": "5Vrzg2yMeaiS",
        "outputId": "86ba39dd-7214-4207-d56a-eb210b016482",
        "colab": {
          "base_uri": "https://localhost:8080/"
        }
      },
      "source": [
        "# Verificando a quantidade de dimensões de um array\n",
        "a.ndim"
      ],
      "execution_count": 46,
      "outputs": [
        {
          "output_type": "execute_result",
          "data": {
            "text/plain": [
              "2"
            ]
          },
          "metadata": {},
          "execution_count": 46
        }
      ]
    },
    {
      "cell_type": "code",
      "metadata": {
        "id": "0dIVxyT6eeFp",
        "outputId": "285aa935-526b-46ba-d99c-34b576c192bd",
        "colab": {
          "base_uri": "https://localhost:8080/"
        }
      },
      "source": [
        "# Verificando a quantidade de elemntos no array\n",
        "a.size"
      ],
      "execution_count": 47,
      "outputs": [
        {
          "output_type": "execute_result",
          "data": {
            "text/plain": [
              "12"
            ]
          },
          "metadata": {},
          "execution_count": 47
        }
      ]
    },
    {
      "cell_type": "code",
      "metadata": {
        "id": "6r6XyebuexGL"
      },
      "source": [
        "# ToDo : Criar um array de 3 dimensões, de shape (2,3,4) e mostrar o shape, quantidade de dimensões e o número de elemetos"
      ],
      "execution_count": 48,
      "outputs": []
    },
    {
      "cell_type": "code",
      "source": [
        "b = np.zeros((2, 3, 4))\n",
        "print(f\"Shape: {b.shape}\\n\")\n",
        "print(f\"Dimensão: {b.ndim}\\n\")\n",
        "print(f\"Tamanho: {b.size}\\n\")\n",
        "b"
      ],
      "metadata": {
        "id": "Ii91KNocLUgG",
        "outputId": "c7bbb6d0-5201-48e7-bcfa-627a57e36255",
        "colab": {
          "base_uri": "https://localhost:8080/"
        }
      },
      "execution_count": 49,
      "outputs": [
        {
          "output_type": "stream",
          "name": "stdout",
          "text": [
            "Shape: (2, 3, 4)\n",
            "\n",
            "Dimensão: 3\n",
            "\n",
            "Tamanho: 24\n",
            "\n"
          ]
        },
        {
          "output_type": "execute_result",
          "data": {
            "text/plain": [
              "array([[[0., 0., 0., 0.],\n",
              "        [0., 0., 0., 0.],\n",
              "        [0., 0., 0., 0.]],\n",
              "\n",
              "       [[0., 0., 0., 0.],\n",
              "        [0., 0., 0., 0.],\n",
              "        [0., 0., 0., 0.]]])"
            ]
          },
          "metadata": {},
          "execution_count": 49
        }
      ]
    },
    {
      "cell_type": "code",
      "source": [
        "# ToDo : Criar um array de 3 dimensões mas trocando a função zeros por ones e mostrar o shape, quantidade de dimensões e o número de elemetos"
      ],
      "metadata": {
        "id": "1GW4U4OeeEIL"
      },
      "execution_count": 50,
      "outputs": []
    },
    {
      "cell_type": "code",
      "source": [
        "c = np.ones((2, 3, 4))\n",
        "print(f\"Shape: {c.shape}\\n\")\n",
        "print(f\"Dimensão: {c.ndim}\\n\")\n",
        "print(f\"Tamanho: {c.size}\\n\")\n",
        "c"
      ],
      "metadata": {
        "id": "WxVFh5kEMvku",
        "outputId": "a9092ae9-47dd-4976-aed2-c0151510a3d5",
        "colab": {
          "base_uri": "https://localhost:8080/"
        }
      },
      "execution_count": 51,
      "outputs": [
        {
          "output_type": "stream",
          "name": "stdout",
          "text": [
            "Shape: (2, 3, 4)\n",
            "\n",
            "Dimensão: 3\n",
            "\n",
            "Tamanho: 24\n",
            "\n"
          ]
        },
        {
          "output_type": "execute_result",
          "data": {
            "text/plain": [
              "array([[[1., 1., 1., 1.],\n",
              "        [1., 1., 1., 1.],\n",
              "        [1., 1., 1., 1.]],\n",
              "\n",
              "       [[1., 1., 1., 1.],\n",
              "        [1., 1., 1., 1.],\n",
              "        [1., 1., 1., 1.]]])"
            ]
          },
          "metadata": {},
          "execution_count": 51
        }
      ]
    },
    {
      "cell_type": "code",
      "source": [
        "# ToDo : Criar um array de 3 dimensões mas trocando a função zeros por full e mostrar o shape, quantidade de dimensões e o número de elemetos"
      ],
      "metadata": {
        "id": "6-SmdqTMeD-3"
      },
      "execution_count": 52,
      "outputs": []
    },
    {
      "cell_type": "code",
      "source": [
        "d = np.full((2, 3, 4), 5)\n",
        "print(f\"Shape: {d.shape}\\n\")\n",
        "print(f\"Dimensão: {d.ndim}\\n\")\n",
        "print(f\"Tamanho: {d.size}\\n\")\n",
        "d"
      ],
      "metadata": {
        "colab": {
          "base_uri": "https://localhost:8080/"
        },
        "id": "19z1eUJoNIkb",
        "outputId": "513423c6-6c8f-4d2c-8471-e12e4c8e78c0"
      },
      "execution_count": 53,
      "outputs": [
        {
          "output_type": "stream",
          "name": "stdout",
          "text": [
            "Shape: (2, 3, 4)\n",
            "\n",
            "Dimensão: 3\n",
            "\n",
            "Tamanho: 24\n",
            "\n"
          ]
        },
        {
          "output_type": "execute_result",
          "data": {
            "text/plain": [
              "array([[[5, 5, 5, 5],\n",
              "        [5, 5, 5, 5],\n",
              "        [5, 5, 5, 5]],\n",
              "\n",
              "       [[5, 5, 5, 5],\n",
              "        [5, 5, 5, 5],\n",
              "        [5, 5, 5, 5]]])"
            ]
          },
          "metadata": {},
          "execution_count": 53
        }
      ]
    },
    {
      "cell_type": "code",
      "metadata": {
        "id": "ZDy7vZuWfIto"
      },
      "source": [
        "# ToDo : Criar um array de 3 dimensões mas trocando a função zeros por empty e mostrar o shape, quantidade de dimensões e o número de elemetos"
      ],
      "execution_count": 54,
      "outputs": []
    },
    {
      "cell_type": "code",
      "source": [
        "e = np.empty((2, 3, 4))\n",
        "print(f\"Shape: {e.shape}\\n\")\n",
        "print(f\"Dimensão: {e.ndim}\\n\")\n",
        "print(f\"Tamanho: {e.size}\\n\")\n",
        "e"
      ],
      "metadata": {
        "colab": {
          "base_uri": "https://localhost:8080/"
        },
        "id": "GQn-J51fNPuH",
        "outputId": "6617e77e-37cd-459c-fb3a-740072593763"
      },
      "execution_count": 55,
      "outputs": [
        {
          "output_type": "stream",
          "name": "stdout",
          "text": [
            "Shape: (2, 3, 4)\n",
            "\n",
            "Dimensão: 3\n",
            "\n",
            "Tamanho: 24\n",
            "\n"
          ]
        },
        {
          "output_type": "execute_result",
          "data": {
            "text/plain": [
              "array([[[1., 1., 1., 1.],\n",
              "        [1., 1., 1., 1.],\n",
              "        [1., 1., 1., 1.]],\n",
              "\n",
              "       [[1., 1., 1., 1.],\n",
              "        [1., 1., 1., 1.],\n",
              "        [1., 1., 1., 1.]]])"
            ]
          },
          "metadata": {},
          "execution_count": 55
        }
      ]
    },
    {
      "cell_type": "markdown",
      "source": [
        "> **ToDo**: O que você pode dizer sobre cada uma das quatro funções que você usou?\n",
        "> ```\n",
        "Sua resposta aqui....\n",
        "```"
      ],
      "metadata": {
        "id": "YKAY7gdxeVzs"
      }
    },
    {
      "cell_type": "markdown",
      "source": [
        "As funções que eu acabei de usar são interessantes pois são diferentes formas de inicializar o array conforme a minha demanda, poe exemplo se eu precisar do array todo nulo, eu usarei o np.zeros, já no caso de um array completo por 1's usaria o np.ones. O np.full é semelhante ao zeros e ones, porém vc passa o valor do número que deseja adicionar no array, por exemplo eu usei o 5.\n",
        "Como eu falei dependendo do meu uso cada uma tem seu valor."
      ],
      "metadata": {
        "id": "UXvi6kKKNbET"
      }
    },
    {
      "cell_type": "markdown",
      "source": [
        "### O comando ***np.arange*** (5pt)"
      ],
      "metadata": {
        "id": "nkjmI9MeTyjL"
      }
    },
    {
      "cell_type": "markdown",
      "metadata": {
        "id": "_TzkxvDDfgWc"
      },
      "source": [
        "Você pode criar um array usando a função arange, similar a função range do Python."
      ]
    },
    {
      "cell_type": "code",
      "metadata": {
        "id": "vSxyvBeEftcC",
        "colab": {
          "base_uri": "https://localhost:8080/"
        },
        "outputId": "79d5bfc0-2363-4cbb-c052-1b041eb0df77"
      },
      "source": [
        "# Criando um array\n",
        "np.arange(1, 5)"
      ],
      "execution_count": 56,
      "outputs": [
        {
          "output_type": "execute_result",
          "data": {
            "text/plain": [
              "array([1, 2, 3, 4])"
            ]
          },
          "metadata": {},
          "execution_count": 56
        }
      ]
    },
    {
      "cell_type": "code",
      "metadata": {
        "id": "QQYKeQ4HfvzP",
        "colab": {
          "base_uri": "https://localhost:8080/"
        },
        "outputId": "ec2f6b61-b9b0-4b48-aeec-f0de8a39d0c4"
      },
      "source": [
        "# Para criar com ponto flutuante\n",
        "np.arange(1.0, 5.0)"
      ],
      "execution_count": 57,
      "outputs": [
        {
          "output_type": "execute_result",
          "data": {
            "text/plain": [
              "array([1., 2., 3., 4.])"
            ]
          },
          "metadata": {},
          "execution_count": 57
        }
      ]
    },
    {
      "cell_type": "code",
      "metadata": {
        "id": "6U8y37khjYOM"
      },
      "source": [
        "# ToDo : crie um array com arange, variando de 1 a 5, com um passo de 0.5"
      ],
      "execution_count": 58,
      "outputs": []
    },
    {
      "cell_type": "code",
      "source": [
        "np.arange(1, 5.5, 0.5)"
      ],
      "metadata": {
        "colab": {
          "base_uri": "https://localhost:8080/"
        },
        "id": "os2WuitbORB7",
        "outputId": "c19e8aa2-c471-4e5f-97fb-fc71ac17e8dc"
      },
      "execution_count": 59,
      "outputs": [
        {
          "output_type": "execute_result",
          "data": {
            "text/plain": [
              "array([1. , 1.5, 2. , 2.5, 3. , 3.5, 4. , 4.5, 5. ])"
            ]
          },
          "metadata": {},
          "execution_count": 59
        }
      ]
    },
    {
      "cell_type": "markdown",
      "source": [
        "### Os comandos ***np.rand*** e ***np.randn*** (5pt)"
      ],
      "metadata": {
        "id": "QRAQgy0PUDc4"
      }
    },
    {
      "cell_type": "markdown",
      "metadata": {
        "id": "a3FACJL6jxIc"
      },
      "source": [
        "O *NumPy* tem várias funções para criação de números aleatórios. Estas funções são muito úteis para inicialização dos pesos das redes neurais. Por exemplo, abaixo criamos uma matrix `(3, 4)` inicializada com números em ponto flutuante (*floats*) e distribuição uniforme:"
      ]
    },
    {
      "cell_type": "code",
      "metadata": {
        "id": "xgCOeCnLkWnT",
        "colab": {
          "base_uri": "https://localhost:8080/"
        },
        "outputId": "efc82018-1aa6-4010-de97-06ba3f9032f7"
      },
      "source": [
        "np.random.rand(3,4)"
      ],
      "execution_count": 60,
      "outputs": [
        {
          "output_type": "execute_result",
          "data": {
            "text/plain": [
              "array([[0.95441049, 0.72170377, 0.2864863 , 0.14076716],\n",
              "       [0.23222781, 0.55673637, 0.24042562, 0.94438157],\n",
              "       [0.31416027, 0.16304048, 0.41376027, 0.75111031]])"
            ]
          },
          "metadata": {},
          "execution_count": 60
        }
      ]
    },
    {
      "cell_type": "markdown",
      "metadata": {
        "id": "wJ5O6QOvNYOv"
      },
      "source": [
        "Abaixo um matriz inicializada com distribuição gaussiana ([normal distribution](https://en.wikipedia.org/wiki/Normal_distribution)) com média 0 e variância 1"
      ]
    },
    {
      "cell_type": "code",
      "metadata": {
        "id": "YzbgYn_4kbTp",
        "colab": {
          "base_uri": "https://localhost:8080/"
        },
        "outputId": "7e8db539-94d2-4899-85a2-8405bb3af6f5"
      },
      "source": [
        "np.random.randn(3,4)"
      ],
      "execution_count": 61,
      "outputs": [
        {
          "output_type": "execute_result",
          "data": {
            "text/plain": [
              "array([[-1.61941992,  0.20644194, -0.96799141, -0.06393051],\n",
              "       [ 1.1703297 ,  0.70827313, -0.14562783,  0.50308084],\n",
              "       [-0.88237077, -0.57467522, -0.1457452 , -0.51215329]])"
            ]
          },
          "metadata": {},
          "execution_count": 61
        }
      ]
    },
    {
      "cell_type": "code",
      "source": [
        "# ToDo : crie um array aleatório com o shape (1, 2, 3, 4)"
      ],
      "metadata": {
        "id": "ABvDRpYFfaSr"
      },
      "execution_count": 62,
      "outputs": []
    },
    {
      "cell_type": "code",
      "source": [
        "np.random.rand(1, 2, 3, 4)"
      ],
      "metadata": {
        "colab": {
          "base_uri": "https://localhost:8080/"
        },
        "id": "8uaaedbgPTia",
        "outputId": "cec189ce-5821-4102-cb0b-bd1a913df55c"
      },
      "execution_count": 63,
      "outputs": [
        {
          "output_type": "execute_result",
          "data": {
            "text/plain": [
              "array([[[[0.08204467, 0.45847662, 0.48977588, 0.09914683],\n",
              "         [0.77743048, 0.03470154, 0.45572873, 0.36941915],\n",
              "         [0.57788029, 0.78005257, 0.54333358, 0.89878734]],\n",
              "\n",
              "        [[0.01051648, 0.24219217, 0.78061378, 0.55407951],\n",
              "         [0.15539152, 0.23569381, 0.87634245, 0.8568265 ],\n",
              "         [0.50419027, 0.00754336, 0.98255848, 0.97704045]]]])"
            ]
          },
          "metadata": {},
          "execution_count": 63
        }
      ]
    },
    {
      "cell_type": "markdown",
      "source": [
        "### A biblioteca *MatplotLib* (5pt)"
      ],
      "metadata": {
        "id": "sby7_674UWCW"
      }
    },
    {
      "cell_type": "markdown",
      "metadata": {
        "id": "NHZ0hdo5mpir"
      },
      "source": [
        "Vamos usar a biblioteca matplotlib (para mais detalhes veja o [tutorial de *matplotlib*](https://drive.google.com/file/d/1f3Y_gm-URBVov5wIOs-JrdNw0gK86EXL/view?usp=sharing)) para plotar dois arrays de tamanho 10.000, um inicializado com distribuição normal e o outro com uniforme"
      ]
    },
    {
      "cell_type": "code",
      "metadata": {
        "id": "Pk6XqokcnBLs"
      },
      "source": [
        "%matplotlib inline\n",
        "import matplotlib.pyplot as plt"
      ],
      "execution_count": 64,
      "outputs": []
    },
    {
      "cell_type": "markdown",
      "source": [
        "Primeiro os dados que serão plotados precisam ser criados"
      ],
      "metadata": {
        "id": "ZvBz0bCBjNr_"
      }
    },
    {
      "cell_type": "code",
      "metadata": {
        "id": "yAjUzzS5nFNY"
      },
      "source": [
        "array_a = np.random.rand(10000,) # ToDo : criar um array de shape (10.000,)\n",
        "array_b = np.random.randn(10000,) # ToDo : criar um array de shape (10.000,)"
      ],
      "execution_count": 65,
      "outputs": []
    },
    {
      "cell_type": "markdown",
      "source": [
        "Depois eles podem ser plotados"
      ],
      "metadata": {
        "id": "Rz2WWH-1jRTb"
      }
    },
    {
      "cell_type": "code",
      "metadata": {
        "id": "QaVSaHDanFX7",
        "colab": {
          "base_uri": "https://localhost:8080/",
          "height": 474
        },
        "outputId": "4ced39cc-fa09-4f10-f33e-66d3b91809f2"
      },
      "source": [
        "plt.hist(array_a, density=True, bins=100, histtype=\"step\", color=\"blue\", label=\"rand\")\n",
        "plt.hist(array_b, density=True, bins=100, histtype=\"step\", color=\"red\", label=\"randn\")\n",
        "plt.axis([-2.5, 2.5, 0, 1.1])\n",
        "plt.legend(loc = \"upper left\")\n",
        "plt.title(\"Distribuições aleatṍrias\")\n",
        "plt.xlabel(\"Valor\")\n",
        "plt.ylabel(\"Densidade\")\n",
        "plt.show()"
      ],
      "execution_count": 66,
      "outputs": [
        {
          "output_type": "display_data",
          "data": {
            "text/plain": [
              "<Figure size 640x480 with 1 Axes>"
            ],
            "image/png": "[encoded data removed]"
          },
          "metadata": {}
        }
      ]
    },
    {
      "cell_type": "markdown",
      "source": [
        "### Tipo de dados (***dtype***) (5pt)"
      ],
      "metadata": {
        "id": "xNJLRAtyUt5v"
      }
    },
    {
      "cell_type": "markdown",
      "metadata": {
        "id": "hqg3Mkz3nt6i"
      },
      "source": [
        "Você pode ver qual o tipo de dado pelo atributo `dtype`. Verifique abaixo:"
      ]
    },
    {
      "cell_type": "code",
      "metadata": {
        "id": "_8RjI5j-n38c",
        "colab": {
          "base_uri": "https://localhost:8080/"
        },
        "outputId": "cdf814e3-8328-4e5b-b827-38d4e844e791"
      },
      "source": [
        "c = np.arange(1, 5)\n",
        "print(c.dtype, c)"
      ],
      "execution_count": 67,
      "outputs": [
        {
          "output_type": "stream",
          "name": "stdout",
          "text": [
            "int64 [1 2 3 4]\n"
          ]
        }
      ]
    },
    {
      "cell_type": "code",
      "metadata": {
        "id": "FE2DlBhkn9CE"
      },
      "source": [
        "# ToDo: Crie um um array aleatório de shape (2, 3, 4) e verifique o seu tipo"
      ],
      "execution_count": 68,
      "outputs": []
    },
    {
      "cell_type": "code",
      "source": [
        "x = np.random.rand(2, 3, 4)\n",
        "print(x.dtype, x)"
      ],
      "metadata": {
        "colab": {
          "base_uri": "https://localhost:8080/"
        },
        "id": "oxJHsnbyDryZ",
        "outputId": "02d43c8c-b761-4db5-9f08-f7c7b5915c6a"
      },
      "execution_count": 69,
      "outputs": [
        {
          "output_type": "stream",
          "name": "stdout",
          "text": [
            "float64 [[[0.91119438 0.7004791  0.33683053 0.15013194]\n",
            "  [0.30309552 0.23478443 0.94922687 0.86527201]\n",
            "  [0.45722209 0.54408782 0.32619139 0.0761196 ]]\n",
            "\n",
            " [[0.64693001 0.69106466 0.90290852 0.93348144]\n",
            "  [0.54952    0.60018052 0.97101252 0.40684378]\n",
            "  [0.52026368 0.11205183 0.72690992 0.59551458]]]\n"
          ]
        }
      ]
    },
    {
      "cell_type": "markdown",
      "metadata": {
        "id": "ylFtnobMoDof"
      },
      "source": [
        "Tipos disponĩveis: `int8`, `int16`, `int32`, `int64`, `uint8`|`16`|`32`|`64`, `float16`|`32`|`64` e `complex64`|`128`. Veja a [documentação](http://docs.scipy.org/doc/numpy-1.10.1/user/basics.types.html) para a lista completa.\n"
      ]
    },
    {
      "cell_type": "markdown",
      "source": [
        "### Atributo ***itemsize*** (5pt)"
      ],
      "metadata": {
        "id": "sWI7oAE7VFrL"
      }
    },
    {
      "cell_type": "markdown",
      "source": [
        "O atributo `itemsize` retorna o tamanho em bytes"
      ],
      "metadata": {
        "id": "aJnMiG2oVHhc"
      }
    },
    {
      "cell_type": "code",
      "metadata": {
        "id": "94eTv9JWoCDi",
        "colab": {
          "base_uri": "https://localhost:8080/"
        },
        "outputId": "5b55b219-0eb4-4691-890c-ab4e21ea607c"
      },
      "source": [
        "e = np.arange(1, 5, dtype=np.complex64)\n",
        "e.itemsize"
      ],
      "execution_count": 70,
      "outputs": [
        {
          "output_type": "execute_result",
          "data": {
            "text/plain": [
              "8"
            ]
          },
          "metadata": {},
          "execution_count": 70
        }
      ]
    },
    {
      "cell_type": "code",
      "metadata": {
        "id": "GqBdud2Kocn4",
        "colab": {
          "base_uri": "https://localhost:8080/"
        },
        "outputId": "add24a91-77cb-4bee-cdee-582b1079035f"
      },
      "source": [
        "# Na memória, um array é armazenado de forma contígua\n",
        "f = np.array([[1,2],[1000, 2000]], dtype=np.int32)\n",
        "f.data"
      ],
      "execution_count": 71,
      "outputs": [
        {
          "output_type": "execute_result",
          "data": {
            "text/plain": [
              "<memory at 0x7d09c919d490>"
            ]
          },
          "metadata": {},
          "execution_count": 71
        }
      ]
    },
    {
      "cell_type": "code",
      "source": [
        "# ToDo: Crie arrays de shape (2, 2) dos tipos int8, int64, float16, float64, complex64 e complex128"
      ],
      "metadata": {
        "id": "sLnVgJQJjzxU"
      },
      "execution_count": 72,
      "outputs": []
    },
    {
      "cell_type": "code",
      "source": [
        "a = np.array([[1, 2], [3, 4]], dtype=np.int8)\n",
        "print(a.dtype)\n",
        "\n",
        "a = np.array([[1, 2], [3, 4]], dtype=np.int64)\n",
        "print(a.dtype)\n",
        "\n",
        "a = np.array([[1, 2], [3, 4]], dtype=np.float64)\n",
        "print(a.dtype)\n",
        "\n",
        "a = np.array([[1, 2], [3, 4]], dtype=np.complex64)\n",
        "print(a.dtype)\n",
        "\n",
        "a = np.array([[1, 2], [3, 4]], dtype=np.complex128)\n",
        "print(a.dtype)"
      ],
      "metadata": {
        "colab": {
          "base_uri": "https://localhost:8080/"
        },
        "id": "8w6CljNnED6n",
        "outputId": "46b185a2-0faa-49fb-c61b-dd82263d5a04"
      },
      "execution_count": 73,
      "outputs": [
        {
          "output_type": "stream",
          "name": "stdout",
          "text": [
            "int8\n",
            "int64\n",
            "float64\n",
            "complex64\n",
            "complex128\n"
          ]
        }
      ]
    },
    {
      "cell_type": "markdown",
      "source": [
        "> **ToDo**: O que você pode dizer sobre esses arrays criados?\n",
        "> ```\n",
        "  Sua resposta aqui...\n",
        "```"
      ],
      "metadata": {
        "id": "4p7ZKX-VkGeA"
      }
    },
    {
      "cell_type": "markdown",
      "source": [
        "De novo como eu havia dito acima, são armas poderosas pois dependendo do que preciso fazer é de extrema importância poder estipular os tipos do array, como python é uma linguagem que não é fortemente tipada, as vezes faz falta."
      ],
      "metadata": {
        "id": "lODAU_DTJIQN"
      }
    },
    {
      "cell_type": "markdown",
      "source": [
        "### ***Reshaping*** (5pt)"
      ],
      "metadata": {
        "id": "OUlszIjTVWeJ"
      }
    },
    {
      "cell_type": "markdown",
      "metadata": {
        "id": "HlJ5vj9Gol53"
      },
      "source": [
        "Alterar o shape de uma array é muto fácil com NumPy e muito útil para adequação das matrizes para métodos de machine learning. Contudo, o tamanho (size) não pode ser alterado."
      ]
    },
    {
      "cell_type": "code",
      "metadata": {
        "id": "uXu0PAwgo811",
        "colab": {
          "base_uri": "https://localhost:8080/"
        },
        "outputId": "559aa193-be7b-4439-8efd-f3c8ea721880"
      },
      "source": [
        "# O núemro de dimensões também é chamado de rank\n",
        "g = np.arange(24)\n",
        "print(g)\n",
        "print(\"Rank:\", g.ndim)"
      ],
      "execution_count": null,
      "outputs": [
        {
          "output_type": "stream",
          "name": "stdout",
          "text": [
            "[ 0  1  2  3  4  5  6  7  8  9 10 11 12 13 14 15 16 17 18 19 20 21 22 23]\n",
            "Rank: 1\n"
          ]
        }
      ]
    },
    {
      "cell_type": "code",
      "metadata": {
        "id": "xRWmC6FUpDHX",
        "colab": {
          "base_uri": "https://localhost:8080/"
        },
        "outputId": "09dfb593-24fb-4b3e-913d-fae0b911ea21"
      },
      "source": [
        "g.shape = (6, 4)\n",
        "print(g)\n",
        "print(\"Rank:\", g.ndim)"
      ],
      "execution_count": null,
      "outputs": [
        {
          "output_type": "stream",
          "name": "stdout",
          "text": [
            "[[ 0  1  2  3]\n",
            " [ 4  5  6  7]\n",
            " [ 8  9 10 11]\n",
            " [12 13 14 15]\n",
            " [16 17 18 19]\n",
            " [20 21 22 23]]\n",
            "Rank: 2\n"
          ]
        }
      ]
    },
    {
      "cell_type": "code",
      "metadata": {
        "id": "mH34bpWSpG9O",
        "colab": {
          "base_uri": "https://localhost:8080/"
        },
        "outputId": "7fd604c2-3ad3-4bf4-ddd5-2229d795bb6c"
      },
      "source": [
        "g.shape = (2, 3, 4)\n",
        "print(g)\n",
        "print(\"Rank:\", g.ndim)"
      ],
      "execution_count": null,
      "outputs": [
        {
          "output_type": "stream",
          "name": "stdout",
          "text": [
            "[[[ 0  1  2  3]\n",
            "  [ 4  5  6  7]\n",
            "  [ 8  9 10 11]]\n",
            "\n",
            " [[12 13 14 15]\n",
            "  [16 17 18 19]\n",
            "  [20 21 22 23]]]\n",
            "Rank: 3\n"
          ]
        }
      ]
    },
    {
      "cell_type": "markdown",
      "metadata": {
        "id": "R9nZuFMVpMg7"
      },
      "source": [
        "Mudando o formato do dado (***reshape***)"
      ]
    },
    {
      "cell_type": "code",
      "metadata": {
        "id": "7z_UhY_FpLYl",
        "colab": {
          "base_uri": "https://localhost:8080/"
        },
        "outputId": "421033fa-a7b7-4adf-eafa-0e12d8f47675"
      },
      "source": [
        "g2 = g.reshape(4,6)\n",
        "print(g2)\n",
        "print(\"Rank:\", g2.ndim)"
      ],
      "execution_count": null,
      "outputs": [
        {
          "output_type": "stream",
          "name": "stdout",
          "text": [
            "[[ 0  1  2  3  4  5]\n",
            " [ 6  7  8  9 10 11]\n",
            " [12 13 14 15 16 17]\n",
            " [18 19 20 21 22 23]]\n",
            "Rank: 2\n"
          ]
        }
      ]
    },
    {
      "cell_type": "code",
      "metadata": {
        "id": "_n_4kK7JpRW7",
        "colab": {
          "base_uri": "https://localhost:8080/"
        },
        "outputId": "f9fb588c-0493-4234-851c-14fa654d305b"
      },
      "source": [
        "# Pode-se alterar diretamente um item da matriz, pelo índice\n",
        "g2[1, 2] = 999\n",
        "g2"
      ],
      "execution_count": null,
      "outputs": [
        {
          "output_type": "execute_result",
          "data": {
            "text/plain": [
              "array([[  0,   1,   2,   3,   4,   5],\n",
              "       [  6,   7, 999,   9,  10,  11],\n",
              "       [ 12,  13,  14,  15,  16,  17],\n",
              "       [ 18,  19,  20,  21,  22,  23]])"
            ]
          },
          "metadata": {},
          "execution_count": 11
        }
      ]
    },
    {
      "cell_type": "markdown",
      "source": [
        "Repare que o objeto `'g'` foi modificado também!"
      ],
      "metadata": {
        "id": "ooR4UMX3Cczq"
      }
    },
    {
      "cell_type": "code",
      "metadata": {
        "id": "gHX2ECfDpYUb",
        "colab": {
          "base_uri": "https://localhost:8080/"
        },
        "outputId": "d010ef18-30de-479e-81d2-a38ac40c1924"
      },
      "source": [
        "g"
      ],
      "execution_count": null,
      "outputs": [
        {
          "output_type": "execute_result",
          "data": {
            "text/plain": [
              "array([[[  0,   1,   2,   3],\n",
              "        [  4,   5,   6,   7],\n",
              "        [999,   9,  10,  11]],\n",
              "\n",
              "       [[ 12,  13,  14,  15],\n",
              "        [ 16,  17,  18,  19],\n",
              "        [ 20,  21,  22,  23]]])"
            ]
          },
          "metadata": {},
          "execution_count": 12
        }
      ]
    },
    {
      "cell_type": "markdown",
      "metadata": {
        "id": "cAxT-zxVps9R"
      },
      "source": [
        "Todas a operçãoes aritméticas comuns podem ser feitas com o *ndarray*"
      ]
    },
    {
      "cell_type": "code",
      "metadata": {
        "id": "9FxqdcOWpz1R",
        "colab": {
          "base_uri": "https://localhost:8080/"
        },
        "outputId": "6b7fd527-35b1-49c5-e13b-37a23dc5d504"
      },
      "source": [
        "a = np.array([14, 23, 32, 41])\n",
        "b = np.array([5,  4,  3,  2])\n",
        "print(\"a + b  =\", a + b)\n",
        "print(\"a - b  =\", a - b)\n",
        "print(\"a * b  =\", a * b)\n",
        "print(\"a / b  =\", a / b)\n",
        "print(\"a // b  =\", a // b)\n",
        "print(\"a % b  =\", a % b)\n",
        "print(\"a ** b =\", a ** b)"
      ],
      "execution_count": null,
      "outputs": [
        {
          "output_type": "stream",
          "name": "stdout",
          "text": [
            "a + b  = [19 27 35 43]\n",
            "a - b  = [ 9 19 29 39]\n",
            "a * b  = [70 92 96 82]\n",
            "a / b  = [ 2.8         5.75       10.66666667 20.5       ]\n",
            "a // b  = [ 2  5 10 20]\n",
            "a % b  = [4 3 2 1]\n",
            "a ** b = [537824 279841  32768   1681]\n"
          ]
        }
      ]
    },
    {
      "cell_type": "markdown",
      "metadata": {
        "id": "KvavA4ZLp5Do"
      },
      "source": [
        "Repare que a multiplicação acima **NÃO** é um multiplicação de martizes\n",
        "\n",
        "Arrays devem ter o mesmo shape, caso contrário, NumPy vai aplicar a regra de *broadcasting* (Ver seção 2.1.3 do [livro texto](http://d2l.ai/chapter_preliminaries/ndarray.html)). Pesquise sobre a operação ed bradcasting do NumPy e explique com suas palavras, abaixo:"
      ]
    },
    {
      "cell_type": "markdown",
      "source": [
        "> **ToDo**: Explique o conceito de *broadcasting*.\n",
        "> ```\n",
        "  Sua resposta aqui...\n",
        "```"
      ],
      "metadata": {
        "id": "H8vABCLXkUZJ"
      }
    },
    {
      "cell_type": "markdown",
      "source": [
        "O mecanismo de broadcasting funciona ajustando inicialmente as formas dos arrays para que fiquem compatíveis. Isso é feito repetindo os valores ao longo dos eixos cujo comprimento seja igual a 1, garantindo que os dois arrays tenham a mesma forma após essa etapa. Em seguida, realiza-se a operação desejada diretamente entre os elementos correspondentes dos arrays ajustados, como se ambos tivessem originalmente o mesmo formato."
      ],
      "metadata": {
        "id": "PdjWCydiMLiy"
      }
    },
    {
      "cell_type": "markdown",
      "source": [
        "### Iteração e Concatenação de arrays de *NumPy* (5pt)"
      ],
      "metadata": {
        "id": "6bxKHkldVyvt"
      }
    },
    {
      "cell_type": "markdown",
      "metadata": {
        "id": "KrNWG2EBqokb"
      },
      "source": [
        "Repare que você pode iterar pelos `ndarrays`, e que ela é feita pelos *axis*."
      ]
    },
    {
      "cell_type": "code",
      "metadata": {
        "id": "NufhSS2Cqree",
        "colab": {
          "base_uri": "https://localhost:8080/"
        },
        "outputId": "a3481808-c989-4a92-94a7-3ad752f63a4b"
      },
      "source": [
        "c = np.arange(24).reshape(2, 3, 4)  # Um array 3D (coposto de duas matrizes de 3x4)\n",
        "c"
      ],
      "execution_count": 74,
      "outputs": [
        {
          "output_type": "execute_result",
          "data": {
            "text/plain": [
              "array([[[ 0,  1,  2,  3],\n",
              "        [ 4,  5,  6,  7],\n",
              "        [ 8,  9, 10, 11]],\n",
              "\n",
              "       [[12, 13, 14, 15],\n",
              "        [16, 17, 18, 19],\n",
              "        [20, 21, 22, 23]]])"
            ]
          },
          "metadata": {},
          "execution_count": 74
        }
      ]
    },
    {
      "cell_type": "code",
      "metadata": {
        "id": "Kuyq7oUjp4vg",
        "colab": {
          "base_uri": "https://localhost:8080/"
        },
        "outputId": "cd060978-7a35-4f92-df52-d92d47c4c98d"
      },
      "source": [
        "for m in c:\n",
        "    print(\"Item:\")\n",
        "    print(m)"
      ],
      "execution_count": 75,
      "outputs": [
        {
          "output_type": "stream",
          "name": "stdout",
          "text": [
            "Item:\n",
            "[[ 0  1  2  3]\n",
            " [ 4  5  6  7]\n",
            " [ 8  9 10 11]]\n",
            "Item:\n",
            "[[12 13 14 15]\n",
            " [16 17 18 19]\n",
            " [20 21 22 23]]\n"
          ]
        }
      ]
    },
    {
      "cell_type": "code",
      "metadata": {
        "id": "rS5NbTS2rArD",
        "colab": {
          "base_uri": "https://localhost:8080/"
        },
        "outputId": "f3271604-db21-4c15-f946-4ad86ca6f2c8"
      },
      "source": [
        "for i in range(len(c)):  # Observe que len(c) == c.shape[0]\n",
        "    print(\"Item:\")\n",
        "    print(c[i])"
      ],
      "execution_count": 76,
      "outputs": [
        {
          "output_type": "stream",
          "name": "stdout",
          "text": [
            "Item:\n",
            "[[ 0  1  2  3]\n",
            " [ 4  5  6  7]\n",
            " [ 8  9 10 11]]\n",
            "Item:\n",
            "[[12 13 14 15]\n",
            " [16 17 18 19]\n",
            " [20 21 22 23]]\n"
          ]
        }
      ]
    },
    {
      "cell_type": "code",
      "metadata": {
        "id": "hXMSTO3MrDP4",
        "colab": {
          "base_uri": "https://localhost:8080/"
        },
        "outputId": "bde5b8c2-726d-40d3-8d44-3537b9e76f51"
      },
      "source": [
        "# Para iterar por todos os elementos\n",
        "for i in c.flat:\n",
        "    print(\"Item:\", i)"
      ],
      "execution_count": 77,
      "outputs": [
        {
          "output_type": "stream",
          "name": "stdout",
          "text": [
            "Item: 0\n",
            "Item: 1\n",
            "Item: 2\n",
            "Item: 3\n",
            "Item: 4\n",
            "Item: 5\n",
            "Item: 6\n",
            "Item: 7\n",
            "Item: 8\n",
            "Item: 9\n",
            "Item: 10\n",
            "Item: 11\n",
            "Item: 12\n",
            "Item: 13\n",
            "Item: 14\n",
            "Item: 15\n",
            "Item: 16\n",
            "Item: 17\n",
            "Item: 18\n",
            "Item: 19\n",
            "Item: 20\n",
            "Item: 21\n",
            "Item: 22\n",
            "Item: 23\n"
          ]
        }
      ]
    },
    {
      "cell_type": "markdown",
      "metadata": {
        "id": "1RznKDthrLfn"
      },
      "source": [
        "Também é possível concatenar `ndarrays`, e isso pode ser feito em um eixo específico."
      ]
    },
    {
      "cell_type": "code",
      "metadata": {
        "id": "WRQVwQxnrM-f",
        "colab": {
          "base_uri": "https://localhost:8080/"
        },
        "outputId": "5b7f6175-dba1-48af-9546-a129c68e04b2"
      },
      "source": [
        "# Pode-se concatenar arrays pelos axis\n",
        "q1 = np.full((3,4), 1.0)\n",
        "\n",
        "q2 = np.full((4,4), 2.0)\n",
        "\n",
        "q3 = np.full((3,4), 3.0)\n",
        "\n",
        "q = np.concatenate((q1, q2, q3), axis=0)\n",
        "\n",
        "q"
      ],
      "execution_count": 78,
      "outputs": [
        {
          "output_type": "execute_result",
          "data": {
            "text/plain": [
              "array([[1., 1., 1., 1.],\n",
              "       [1., 1., 1., 1.],\n",
              "       [1., 1., 1., 1.],\n",
              "       [2., 2., 2., 2.],\n",
              "       [2., 2., 2., 2.],\n",
              "       [2., 2., 2., 2.],\n",
              "       [2., 2., 2., 2.],\n",
              "       [3., 3., 3., 3.],\n",
              "       [3., 3., 3., 3.],\n",
              "       [3., 3., 3., 3.]])"
            ]
          },
          "metadata": {},
          "execution_count": 78
        }
      ]
    },
    {
      "cell_type": "code",
      "source": [
        "# ToDo: imprima o shape resultante da concatenação dos arrays de shape a = (2, 3, 4) e b = (2, 3, 4) em cada eixo separadamente"
      ],
      "metadata": {
        "id": "oP16-SvolCPR"
      },
      "execution_count": 79,
      "outputs": []
    },
    {
      "cell_type": "code",
      "source": [
        "a = np.full((2, 3, 4), 1.0)\n",
        "\n",
        "b = np.full((2, 3, 4), 2.0)\n",
        "\n",
        "c = np.concatenate((a, b), axis=0)\n",
        "print(c)"
      ],
      "metadata": {
        "colab": {
          "base_uri": "https://localhost:8080/"
        },
        "id": "q4oXKJDcQTyZ",
        "outputId": "87187d71-55b4-4019-bc9f-ffaeb3889c75"
      },
      "execution_count": null,
      "outputs": [
        {
          "output_type": "stream",
          "name": "stdout",
          "text": [
            "[[[1. 1. 1. 1.]\n",
            "  [1. 1. 1. 1.]\n",
            "  [1. 1. 1. 1.]]\n",
            "\n",
            " [[1. 1. 1. 1.]\n",
            "  [1. 1. 1. 1.]\n",
            "  [1. 1. 1. 1.]]\n",
            "\n",
            " [[2. 2. 2. 2.]\n",
            "  [2. 2. 2. 2.]\n",
            "  [2. 2. 2. 2.]]\n",
            "\n",
            " [[2. 2. 2. 2.]\n",
            "  [2. 2. 2. 2.]\n",
            "  [2. 2. 2. 2.]]]\n"
          ]
        }
      ]
    },
    {
      "cell_type": "markdown",
      "metadata": {
        "id": "s3XuK6yLrgBk"
      },
      "source": [
        "### Transposta (5pt)\n"
      ]
    },
    {
      "cell_type": "code",
      "metadata": {
        "id": "q7dSfS0zrhVi",
        "colab": {
          "base_uri": "https://localhost:8080/"
        },
        "outputId": "e18d5fa8-eb72-4b62-f814-fd45e7bad3b6"
      },
      "source": [
        "m1 = np.arange(10).reshape(2,5)\n",
        "m1"
      ],
      "execution_count": null,
      "outputs": [
        {
          "output_type": "execute_result",
          "data": {
            "text/plain": [
              "array([[0, 1, 2, 3, 4],\n",
              "       [5, 6, 7, 8, 9]])"
            ]
          },
          "metadata": {},
          "execution_count": 16
        }
      ]
    },
    {
      "cell_type": "code",
      "metadata": {
        "id": "B6R2PFoirpKd"
      },
      "source": [
        "# ToDo : imprima a matriz transposta de m1"
      ],
      "execution_count": null,
      "outputs": []
    },
    {
      "cell_type": "code",
      "source": [
        "m2 = m1.T\n",
        "m2"
      ],
      "metadata": {
        "colab": {
          "base_uri": "https://localhost:8080/"
        },
        "id": "nz4EMPCiSt9e",
        "outputId": "12dbcebe-28cb-4ae4-afa7-1296559b138a"
      },
      "execution_count": null,
      "outputs": [
        {
          "output_type": "execute_result",
          "data": {
            "text/plain": [
              "array([[0, 5],\n",
              "       [1, 6],\n",
              "       [2, 7],\n",
              "       [3, 8],\n",
              "       [4, 9]])"
            ]
          },
          "metadata": {},
          "execution_count": 17
        }
      ]
    },
    {
      "cell_type": "markdown",
      "metadata": {
        "id": "pgGS5pqJr9lR"
      },
      "source": [
        "### Produto de matrizes (5pt)"
      ]
    },
    {
      "cell_type": "code",
      "metadata": {
        "id": "TGqupKabr-yf",
        "colab": {
          "base_uri": "https://localhost:8080/"
        },
        "outputId": "9e236720-51c0-4182-fe1e-140dc320e72b"
      },
      "source": [
        "n1 = np.arange(10).reshape(2, 5)\n",
        "n1"
      ],
      "execution_count": null,
      "outputs": [
        {
          "output_type": "execute_result",
          "data": {
            "text/plain": [
              "array([[0, 1, 2, 3, 4],\n",
              "       [5, 6, 7, 8, 9]])"
            ]
          },
          "metadata": {},
          "execution_count": 19
        }
      ]
    },
    {
      "cell_type": "code",
      "metadata": {
        "id": "pp96FkvQsAlh",
        "colab": {
          "base_uri": "https://localhost:8080/"
        },
        "outputId": "3f97a96b-39b7-4a2c-c6cb-5b6d45c1e47c"
      },
      "source": [
        "n2 = np.arange(15).reshape(5, 3)\n",
        "n2"
      ],
      "execution_count": null,
      "outputs": [
        {
          "output_type": "execute_result",
          "data": {
            "text/plain": [
              "array([[ 0,  1,  2],\n",
              "       [ 3,  4,  5],\n",
              "       [ 6,  7,  8],\n",
              "       [ 9, 10, 11],\n",
              "       [12, 13, 14]])"
            ]
          },
          "metadata": {},
          "execution_count": 20
        }
      ]
    },
    {
      "cell_type": "code",
      "metadata": {
        "id": "2d1Ds0AVsDa7",
        "colab": {
          "base_uri": "https://localhost:8080/"
        },
        "outputId": "81b1e233-04e4-42f0-a98c-76e9367c5b5a"
      },
      "source": [
        "n1.dot(n2)"
      ],
      "execution_count": null,
      "outputs": [
        {
          "output_type": "execute_result",
          "data": {
            "text/plain": [
              "array([[ 90, 100, 110],\n",
              "       [240, 275, 310]])"
            ]
          },
          "metadata": {},
          "execution_count": 21
        }
      ]
    },
    {
      "cell_type": "code",
      "source": [
        "# ToDo: Crie um array de 1 a 25 com shape (5, 5) e faça a multiplicação por uma matriz de zeros de (5, 1)."
      ],
      "metadata": {
        "id": "i-gOiMYUljXq"
      },
      "execution_count": 80,
      "outputs": []
    },
    {
      "cell_type": "code",
      "source": [
        "n1 = np.arange(1, 26).reshape(5,5)\n",
        "n2 = np.zeros((5, 1))\n",
        "\n",
        "n1.dot(n2)"
      ],
      "metadata": {
        "colab": {
          "base_uri": "https://localhost:8080/"
        },
        "id": "1kb0M2CXlvWn",
        "outputId": "e67feeb7-20a1-437d-f9a3-f4b77bcd7ded"
      },
      "execution_count": 81,
      "outputs": [
        {
          "output_type": "execute_result",
          "data": {
            "text/plain": [
              "array([[0.],\n",
              "       [0.],\n",
              "       [0.],\n",
              "       [0.],\n",
              "       [0.]])"
            ]
          },
          "metadata": {},
          "execution_count": 81
        }
      ]
    },
    {
      "cell_type": "markdown",
      "metadata": {
        "id": "frQ6zLAsx1pt"
      },
      "source": [
        "### Matriz Inversa (5pt)"
      ]
    },
    {
      "cell_type": "code",
      "metadata": {
        "id": "gyUBiYy8x4Zb",
        "colab": {
          "base_uri": "https://localhost:8080/"
        },
        "outputId": "6b187ac0-01a5-4f55-8c39-632183cfdc3d"
      },
      "source": [
        "import numpy.linalg as linalg\n",
        "\n",
        "m3 = np.array([[1,2,3],[5,7,11],[21,29,31]])\n",
        "\n",
        "m3"
      ],
      "execution_count": null,
      "outputs": [
        {
          "output_type": "execute_result",
          "data": {
            "text/plain": [
              "array([[ 1,  2,  3],\n",
              "       [ 5,  7, 11],\n",
              "       [21, 29, 31]])"
            ]
          },
          "metadata": {},
          "execution_count": 24
        }
      ]
    },
    {
      "cell_type": "code",
      "metadata": {
        "id": "Fmofch4Nx6rG",
        "colab": {
          "base_uri": "https://localhost:8080/"
        },
        "outputId": "06ab6855-a3da-456a-9e21-e8511e36b84b"
      },
      "source": [
        "linalg.inv(m3)"
      ],
      "execution_count": 25,
      "outputs": [
        {
          "output_type": "execute_result",
          "data": {
            "text/plain": [
              "array([[-2.31818182,  0.56818182,  0.02272727],\n",
              "       [ 1.72727273, -0.72727273,  0.09090909],\n",
              "       [-0.04545455,  0.29545455, -0.06818182]])"
            ]
          },
          "metadata": {},
          "execution_count": 25
        }
      ]
    },
    {
      "cell_type": "markdown",
      "source": [
        "> **ToDo**: O que a função `linalg.inv` faz?\n",
        "> ```\n",
        "  Sua resposta aqui...\n",
        "```"
      ],
      "metadata": {
        "id": "0ZG2aSg3l3nF"
      }
    },
    {
      "cell_type": "markdown",
      "source": [
        "A função linalg.inv, calcula a inversa de uma matriz quadrada."
      ],
      "metadata": {
        "id": "oI9aM2M5KPLA"
      }
    },
    {
      "cell_type": "markdown",
      "metadata": {
        "id": "akbN2w1yyAs0"
      },
      "source": [
        "### Matriz identidade (5pt)"
      ]
    },
    {
      "cell_type": "code",
      "metadata": {
        "id": "XCdstJwQx_4J",
        "colab": {
          "base_uri": "https://localhost:8080/"
        },
        "outputId": "1256637b-c6a0-44cf-8fdc-3294ac0bac49"
      },
      "source": [
        "m3.dot(linalg.inv(m3))"
      ],
      "execution_count": 26,
      "outputs": [
        {
          "output_type": "execute_result",
          "data": {
            "text/plain": [
              "array([[ 1.00000000e+00, -1.66533454e-16,  0.00000000e+00],\n",
              "       [ 6.31439345e-16,  1.00000000e+00, -1.38777878e-16],\n",
              "       [ 5.21110932e-15, -2.38697950e-15,  1.00000000e+00]])"
            ]
          },
          "metadata": {},
          "execution_count": 26
        }
      ]
    },
    {
      "cell_type": "code",
      "source": [
        "# ToDo: Crie uma matriz identidade de tamanho (5, 5)"
      ],
      "metadata": {
        "id": "8Sw8Vp9-m2Ue"
      },
      "execution_count": 82,
      "outputs": []
    },
    {
      "cell_type": "code",
      "source": [
        "identidade = np.eye(5)\n",
        "identidade"
      ],
      "metadata": {
        "colab": {
          "base_uri": "https://localhost:8080/"
        },
        "id": "HfnvZ0EULLkF",
        "outputId": "67b93225-c688-43ad-e8dc-6a8b444a61b8"
      },
      "execution_count": 27,
      "outputs": [
        {
          "output_type": "execute_result",
          "data": {
            "text/plain": [
              "array([[1., 0., 0., 0., 0.],\n",
              "       [0., 1., 0., 0., 0.],\n",
              "       [0., 0., 1., 0., 0.],\n",
              "       [0., 0., 0., 1., 0.],\n",
              "       [0., 0., 0., 0., 1.]])"
            ]
          },
          "metadata": {},
          "execution_count": 27
        }
      ]
    },
    {
      "cell_type": "markdown",
      "source": [
        "### Exercícios (15pt)"
      ],
      "metadata": {
        "id": "C2uIubKSnCM7"
      }
    },
    {
      "cell_type": "markdown",
      "source": [
        "Para os próximos exercícios, use o numpy."
      ],
      "metadata": {
        "id": "-7VRI99qnqzB"
      }
    },
    {
      "cell_type": "markdown",
      "source": [
        "**Questão 1:** Escreva uma função recursiva que calcule o determinante de uma matriz $n \\times n$ usando o teorema de Laplace.\n"
      ],
      "metadata": {
        "id": "gXsn7anFnNFS"
      }
    },
    {
      "cell_type": "code",
      "source": [
        "# Seu código aqui\n",
        "\n",
        "def determinante_laplace(matriz):\n",
        "    n, m = matriz.shape\n",
        "    if n != m:\n",
        "        raise ValueError(\"A matriz deve ser quadrada.\")\n",
        "    if n == 1:\n",
        "        return matriz[0, 0]\n",
        "    if n == 2:\n",
        "        return matriz[0, 0] * matriz[1, 1] - matriz[0, 1] * matriz[1, 0]\n",
        "    det = 0\n",
        "    for i in range(n):\n",
        "        submatriz = np.delete(np.delete(matriz, 0, axis=0), i, axis=1)\n",
        "        cofator = ((-1) ** i) * matriz[0, i] * determinante_laplace(submatriz)\n",
        "        det += cofator\n",
        "    return det\n",
        "\n",
        "matriz1 = np.array([[-2, 3, 1, 7], [0, -1, 2, 1], [3, -4, 5, 1], [1, 0, -2, -1]])\n",
        "print(matriz1)\n",
        "resultado = determinante_laplace(matriz1)\n",
        "print(f\"Determinante: {resultado}\")\n",
        "\n",
        "matriz2 = np.array(([1, 0, 5, 0], [2, -1, 0, 3], [3, 0 , 2, 0], [7, 0, 6, 5]))\n",
        "print(matriz2)\n",
        "result = determinante_laplace(matriz2)\n",
        "print(f\"Determinante: {result}\")"
      ],
      "metadata": {
        "id": "0wPSQqRAm_Pt",
        "colab": {
          "base_uri": "https://localhost:8080/"
        },
        "outputId": "3d9eaf66-6e47-480d-841b-8d3239f5e20b"
      },
      "execution_count": 83,
      "outputs": [
        {
          "output_type": "stream",
          "name": "stdout",
          "text": [
            "[[-2  3  1  7]\n",
            " [ 0 -1  2  1]\n",
            " [ 3 -4  5  1]\n",
            " [ 1  0 -2 -1]]\n",
            "Determinante: 24\n",
            "[[ 1  0  5  0]\n",
            " [ 2 -1  0  3]\n",
            " [ 3  0  2  0]\n",
            " [ 7  0  6  5]]\n",
            "Determinante: 65\n"
          ]
        }
      ]
    },
    {
      "cell_type": "markdown",
      "source": [
        "**Questão 2:** Escreva um programa que calcule a solução de um sistema de equações lineares por meio da regra de Cramer. Seu programa deve iniciar lendo o numero de equações e variáveis, e, logo após, ler as matrizes de entrada do teclado coeficiente a coeficiente. Para o cálculo dos determinantes, você pode utilizar a função escrita no exercício 1, ou a função `det` do pacote `numPy`.\n"
      ],
      "metadata": {
        "id": "bVIFbrXQnSF0"
      }
    },
    {
      "cell_type": "code",
      "source": [
        "# Seu código aqui\n",
        "\n",
        "def regra_de_cramer():\n",
        "    print(\"Regra de Cramer: Solução de um sistema de equações lineares.\")\n",
        "    n = int(input(\"Digite o número de equações (e variáveis): \"))\n",
        "\n",
        "    print(\"Digite os coeficientes da matriz (linha por linha):\")\n",
        "    matriz = np.array([[float(input(f\"a[{i+1}][{j+1}]: \")) for j in range(n)] for i in range(n)])\n",
        "\n",
        "    print(\"Digite os termos independentes:\")\n",
        "    termos_independentes = np.array([float(input(f\"b[{i+1}]: \")) for i in range(n)])\n",
        "    det_principal = determinante_laplace(matriz)\n",
        "\n",
        "    if det_principal == 0:\n",
        "        print(\"O sistema não possui solução única, pois o determinante é zero.\")\n",
        "        return\n",
        "\n",
        "    solucoes = []\n",
        "    for i in range(n):\n",
        "        matriz_alterada = matriz.copy()\n",
        "        matriz_alterada[:, i] = termos_independentes\n",
        "        det_alterado = determinante_laplace(matriz_alterada)\n",
        "        solucoes.append(det_alterado / det_principal)\n",
        "    print(\"As soluções do sistema são:\")\n",
        "    for i, sol in enumerate(solucoes):\n",
        "        print(f\"x[{i+1}] = {sol}\")\n",
        "\n",
        "regra_de_cramer()"
      ],
      "metadata": {
        "id": "Ht3eOR6rnUhK",
        "colab": {
          "base_uri": "https://localhost:8080/"
        },
        "outputId": "5052cb13-59a5-4f76-92d0-24301d654071"
      },
      "execution_count": null,
      "outputs": [
        {
          "output_type": "stream",
          "name": "stdout",
          "text": [
            "Regra de Cramer: Solução de um sistema de equações lineares.\n"
          ]
        }
      ]
    },
    {
      "cell_type": "markdown",
      "source": [
        "**Questão 3:** Implemente uma função que resolva sistemas de equações lineares através do método de eliminação de Gauss. Rode a função para algum exemplo, e compare com a solução obtida com o código da questão 2.\n",
        "Meça o tempo de execução para verificar qual algoritmo executa mais rápido."
      ],
      "metadata": {
        "id": "A_4NUQppnXJF"
      }
    },
    {
      "cell_type": "code",
      "source": [
        "# Seu código aqui\n",
        "\n",
        "import time\n",
        "\n",
        "def eliminacao_de_gauss(matriz, termos_independentes):\n",
        "    n = len(termos_independentes)\n",
        "    A = np.copy(matriz)\n",
        "    b = np.copy(termos_independentes)\n",
        "\n",
        "    for i in range(n):\n",
        "        if A[i, i] == 0:\n",
        "            for k in range(i+1, n):\n",
        "                if A[k, i] != 0:\n",
        "                    A[[i, k]] = A[[k, i]]\n",
        "                    b[[i, k]] = b[[k, i]]\n",
        "                    break\n",
        "\n",
        "        for j in range(i+1, n):\n",
        "            fator = A[j, i] / A[i, i]\n",
        "            A[j, i:] -= fator * A[i, i:]\n",
        "            b[j] -= fator * b[i]\n",
        "\n",
        "    x = np.zeros(n)\n",
        "    for i in range(n-1, -1, -1):\n",
        "        x[i] = (b[i] - np.dot(A[i, i+1:], x[i+1:])) / A[i, i]\n",
        "\n",
        "    return x\n",
        "\n",
        "def regra_de_cramer(matriz, termos_independentes):\n",
        "    n = len(termos_independentes)\n",
        "    det_principal = np.linalg.det(matriz)\n",
        "    if det_principal == 0:\n",
        "        raise ValueError(\"O sistema não possui solução única.\")\n",
        "    solucoes = []\n",
        "    for i in range(n):\n",
        "        matriz_alterada = matriz.copy()\n",
        "        matriz_alterada[:, i] = termos_independentes\n",
        "        det_alterado = np.linalg.det(matriz_alterada)\n",
        "        solucoes.append(det_alterado / det_principal)\n",
        "    return np.array(solucoes)\n",
        "\n",
        "matriz = np.array([[2, 1, -1], [-3, -1, 2], [-2, 1, 2]], dtype=float)\n",
        "termos_independentes = np.array([8, -11, -3], dtype=float)\n",
        "\n",
        "inicio_gauss = time.time()\n",
        "sol_gauss = eliminacao_de_gauss(matriz, termos_independentes)\n",
        "fim_gauss = time.time()\n",
        "\n",
        "inicio_cramer = time.time()\n",
        "sol_cramer = regra_de_cramer(matriz, termos_independentes)\n",
        "fim_cramer = time.time()\n",
        "\n",
        "print(\"Solução pelo método de eliminação de Gauss:\", sol_gauss)\n",
        "print(\"Tempo de execução (Gauss):\", fim_gauss - inicio_gauss, \"segundos\")\n",
        "print(\"Solução pela Regra de Cramer:\", sol_cramer)\n",
        "print(\"Tempo de execução (Cramer):\", fim_cramer - inicio_cramer, \"segundos\")\n"
      ],
      "metadata": {
        "id": "4FUPyqrgnYbo",
        "colab": {
          "base_uri": "https://localhost:8080/"
        },
        "outputId": "917dcfe8-1b80-468b-d29a-ce44236f0c8d"
      },
      "execution_count": 39,
      "outputs": [
        {
          "output_type": "stream",
          "name": "stdout",
          "text": [
            "Solução pelo método de eliminação de Gauss: [ 2.  3. -1.]\n",
            "Tempo de execução (Gauss): 0.0003075599670410156 segundos\n",
            "Solução pela Regra de Cramer: [ 2.  3. -1.]\n",
            "Tempo de execução (Cramer): 0.0002598762512207031 segundos\n"
          ]
        }
      ]
    },
    {
      "cell_type": "markdown",
      "source": [
        "Com as funções que eu implementei, e com o exemplo que eu usei, a solução pela regra de Cramer se mostrou mmais eficiente."
      ],
      "metadata": {
        "id": "fhnSMJCCSUcH"
      }
    }
  ]
}